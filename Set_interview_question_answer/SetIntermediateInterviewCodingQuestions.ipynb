{
 "cells": [
  {
   "cell_type": "code",
   "execution_count": 3,
   "id": "af316994-58f3-4e43-af24-691efa3db4eb",
   "metadata": {},
   "outputs": [
    {
     "name": "stdout",
     "output_type": "stream",
     "text": [
      "{4, 5, 6}\n"
     ]
    }
   ],
   "source": [
    "### 1. Write a Python function to find all the common elements in three sets.\n",
    "# Solution 1: Using intersection()\n",
    "s1 = {1, 2, 3, 4, 5, 6}\n",
    "s2 = {4, 5, 6, 7, 8, 9}\n",
    "s3 = {1, 2, 3, 4, 5, 6, 7, 8, 9, 10, 11, 12}\n",
    "# intersection of s1, s2\n",
    "set1 = s1.intersection(s2)\n",
    "# intersection of set1 & s3. So we will get the all the common element in three set\n",
    "finalSet = set1. intersection(s3)\n",
    "print(finalSet)"
   ]
  },
  {
   "cell_type": "code",
   "execution_count": 4,
   "id": "3629a3eb-0cc7-4604-b195-1d8fb0e8947d",
   "metadata": {},
   "outputs": [
    {
     "name": "stdout",
     "output_type": "stream",
     "text": [
      "{4, 5, 6}\n"
     ]
    }
   ],
   "source": [
    "# Solution 2: Using &\n",
    "s1 = {1, 2, 3, 4, 5, 6}\n",
    "s2 = {4, 5, 6, 7, 8, 9}\n",
    "s3 = {1, 2, 3, 4, 5, 6, 7, 8, 9, 10, 11, 12}\n",
    "finalSet = s1 & s2 & s3\n",
    "print(finalSet)"
   ]
  },
  {
   "cell_type": "code",
   "execution_count": 9,
   "id": "1cf1a1b2-1934-455d-aa25-132cc96e4161",
   "metadata": {},
   "outputs": [
    {
     "name": "stdout",
     "output_type": "stream",
     "text": [
      "{5, 12, 4, 6}\n"
     ]
    }
   ],
   "source": [
    "# Solution 3: Using Iteration\n",
    "s1 = {1, 2, 3, 4, 5, 6, 12}\n",
    "s2 = {4, 5, 6, 7, 8, 9, 12}\n",
    "s3 = {1, 2, 3, 4, 5, 6, 7, 8, 9, 10, 11, 12}\n",
    "# store common element of s1 and s2\n",
    "set1 = set()\n",
    "# store all common element of three set\n",
    "finalSet = set()\n",
    "\n",
    "# Add common element of s1 and s2\n",
    "for element in s1:\n",
    "    if element in s2:\n",
    "        set1.add(element)\n",
    "\n",
    "# Add common element of set1 and s3\n",
    "for element in set1:\n",
    "    if element in s3:\n",
    "        finalSet.add(element)\n",
    "print(finalSet)"
   ]
  },
  {
   "cell_type": "code",
   "execution_count": 14,
   "id": "8abb0d4e-f0f7-4ee7-b254-acb0bbbc1a25",
   "metadata": {},
   "outputs": [
    {
     "data": {
      "text/plain": [
       "{4, 5, 6, 'abc'}"
      ]
     },
     "execution_count": 14,
     "metadata": {},
     "output_type": "execute_result"
    }
   ],
   "source": [
    "# Solution 4: Using Function\n",
    "def common_element(s1, s2, s3):\n",
    "    # store common element of s1 and s2\n",
    "    set1 = set()\n",
    "    # store all common element of three set\n",
    "    finalSet = set()\n",
    "    \n",
    "    # Add common element of s1 and s2\n",
    "    for element in s1:\n",
    "        if element in s2:\n",
    "            set1.add(element)\n",
    "    \n",
    "    # Add common element of set1 and s3\n",
    "    for element in set1:\n",
    "        if element in s3:\n",
    "            finalSet.add(element)\n",
    "    return finalSet\n",
    "\n",
    "# Calling Function\n",
    "common_element({1, 2, 3, 4, 5, 6, 'abc'}, {4, 5, 6, 7, 'abc', 9, 12}, {1, 2, 3, 4, 5, 6, 7, 8, 9, 'abc', 11, 12})"
   ]
  },
  {
   "cell_type": "code",
   "execution_count": 19,
   "id": "96d299de-265b-4261-a01f-10d7b648e556",
   "metadata": {},
   "outputs": [
    {
     "name": "stdout",
     "output_type": "stream",
     "text": [
      "they have no elements in common\n"
     ]
    }
   ],
   "source": [
    "### 2. How would you check if two sets are disjoint (i.e., they have no elements in common)?\n",
    "# Solution 1: Using Intersection\n",
    "s1 = {1, 2, 3, 4, 5, 6}\n",
    "s2 = {7, 8, 9}\n",
    "\n",
    "# Common element in s1 & s2\n",
    "set1 = s1.intersection(s2)\n",
    "if len(set1) == 0:\n",
    "    print('they have no elements in common')\n",
    "else:\n",
    "    print(f\"{set1} elements is common\")"
   ]
  },
  {
   "cell_type": "code",
   "execution_count": 22,
   "id": "f6a284f3-ab9e-4fc2-8595-549c41f5ca7f",
   "metadata": {},
   "outputs": [
    {
     "name": "stdout",
     "output_type": "stream",
     "text": [
      "{4, 5, 6} elements is common\n"
     ]
    }
   ],
   "source": [
    "# Solution 2: Using &\n",
    "s1 = {1, 2, 3, 4, 5, 6}\n",
    "s2 = {4, 5, 6, 7, 8, 9}\n",
    "\n",
    "# Common element in s1 & s2\n",
    "set1 = s1 & s2\n",
    "if len(set1) == 0:\n",
    "    print('they have no elements in common')\n",
    "else:\n",
    "    print(f\"{set1} elements is common\")"
   ]
  },
  {
   "cell_type": "code",
   "execution_count": 27,
   "id": "251eaaad-42ab-42ce-b091-b4888fef007c",
   "metadata": {},
   "outputs": [
    {
     "name": "stdout",
     "output_type": "stream",
     "text": [
      "set()\n",
      "they have no elements in common\n"
     ]
    }
   ],
   "source": [
    "# Solution 2: Using Iteration\n",
    "s1 = {1, 2, 3, 4, 5, 6}\n",
    "s2 = {7, 8, 9, 10, 11, 12}\n",
    "set1 = set()\n",
    "\n",
    "for element in s1:\n",
    "    if element in s2:\n",
    "        set1.add(element)\n",
    "\n",
    "if len(set1) == 0:\n",
    "    print('they have no elements in common')\n",
    "else:\n",
    "    print(f\"{set1} elements is common\")"
   ]
  },
  {
   "cell_type": "code",
   "execution_count": 34,
   "id": "6f974e09-14d1-42d0-b4a5-b13df52fc7e0",
   "metadata": {},
   "outputs": [
    {
     "name": "stdout",
     "output_type": "stream",
     "text": [
      "{6} elements is common\n"
     ]
    },
    {
     "data": {
      "text/plain": [
       "{6}"
      ]
     },
     "execution_count": 34,
     "metadata": {},
     "output_type": "execute_result"
    }
   ],
   "source": [
    "# Solution 4: Using Function\n",
    "def no_common_element(s1, s2):\n",
    "    set1 = set()\n",
    "\n",
    "    for element in s1:\n",
    "        if element in s2:\n",
    "            set1.add(element)\n",
    "    \n",
    "    if len(set1) == 0:\n",
    "        print('they have no elements in common')\n",
    "    else:\n",
    "        print(f\"{set1} elements is common\")\n",
    "    \n",
    "    return set1\n",
    "\n",
    "# Calling Function\n",
    "no_common_element({1, 2, 3, 4, 5, 6}, {6, 7, 8, 9, 10, 11, 12})"
   ]
  },
  {
   "cell_type": "code",
   "execution_count": 51,
   "id": "abd5158c-6a6a-4dfa-9764-f2ce074c026e",
   "metadata": {},
   "outputs": [
    {
     "name": "stdout",
     "output_type": "stream",
     "text": [
      "The largest element is: 88\n",
      "The smallest element is: 3\n"
     ]
    }
   ],
   "source": [
    "### 3. Write a program to find the largest and smallest elements in a set of integers.\n",
    "# Solution1 : Convert sorted\n",
    "int_set = {15, 3, 88, 24, 42, 7, 60, 10}\n",
    "\n",
    "# Convert the set to a sorted list\n",
    "sorted_list = sorted(int_set)\n",
    "\n",
    "# The smallest element will be the first, and the largest will be the last\n",
    "smallest = sorted_list[0]\n",
    "largest = sorted_list[-1]\n",
    "\n",
    "# Print the results\n",
    "print(\"The largest element is:\", largest)\n",
    "print(\"The smallest element is:\", smallest)\n"
   ]
  },
  {
   "cell_type": "code",
   "execution_count": 49,
   "id": "707c2d37-06d6-4d9c-9da6-86aa2c9e8c98",
   "metadata": {},
   "outputs": [
    {
     "name": "stdout",
     "output_type": "stream",
     "text": [
      "Largest Number: 100\n",
      "Smallest Number: 3\n"
     ]
    }
   ],
   "source": [
    "# Solution 2: Using Iteration\n",
    "s1 = {10, 20, 30, 40, 50, 100, 90, 80, 70, 60}\n",
    "large = next(iter(int_set))\n",
    "small = next(iter(int_set))\n",
    "\n",
    "# Iterate through the list\n",
    "for element in s1:\n",
    "    if element > large:\n",
    "        large = element\n",
    "    if element < small:\n",
    "        small = element\n",
    "        \n",
    "# Print results\n",
    "print('Largest Number:', large)\n",
    "print('Smallest Number:', small)"
   ]
  },
  {
   "cell_type": "code",
   "execution_count": 50,
   "id": "d2dba0aa-191f-413f-baed-64ef306836b5",
   "metadata": {},
   "outputs": [
    {
     "name": "stdout",
     "output_type": "stream",
     "text": [
      "Largest Number: 100\n",
      "Smallest Number: 3\n"
     ]
    }
   ],
   "source": [
    "# Sokution 3: Using Function \n",
    "def largest_smallest_number(s1):\n",
    "    large = next(iter(int_set))\n",
    "    small = next(iter(int_set))\n",
    "    \n",
    "    # Iterate through the list\n",
    "    for element in s1:\n",
    "        if element > large:\n",
    "            large = element\n",
    "        if element < small:\n",
    "            small = element\n",
    "            \n",
    "    # Print results\n",
    "    print('Largest Number:', large)\n",
    "    print('Smallest Number:', small)\n",
    "\n",
    "# Calling Function\n",
    "largest_smallest_number({10, 20, 30, 40, 50, 100, 90, 80, 70, 60})"
   ]
  },
  {
   "cell_type": "code",
   "execution_count": 47,
   "id": "ed1e7de6-ced6-46b7-9075-d8d1f1110dae",
   "metadata": {},
   "outputs": [
    {
     "name": "stdout",
     "output_type": "stream",
     "text": [
      "The largest element is: 88\n",
      "The smallest element is: 3\n"
     ]
    }
   ],
   "source": [
    "# Solution 4: Using max() and min()\n",
    "# Define the set of integers\n",
    "int_set = {15, 3, 88, 24, 42, 7, 60, 10}\n",
    "\n",
    "# Find the largest and smallest elements\n",
    "largest = max(int_set)\n",
    "smallest = min(int_set)\n",
    "\n",
    "# Print the results\n",
    "print(\"The largest element is:\", largest)\n",
    "print(\"The smallest element is:\", smallest)\n"
   ]
  },
  {
   "cell_type": "code",
   "execution_count": 52,
   "id": "bea85827-9337-4bef-9cfd-329d21f5261c",
   "metadata": {},
   "outputs": [
    {
     "name": "stdout",
     "output_type": "stream",
     "text": [
      "3\n",
      "7\n",
      "10\n",
      "42\n",
      "15\n",
      "a\n",
      "c\n",
      "b\n",
      "88\n",
      "60\n"
     ]
    }
   ],
   "source": [
    "### 4. How can you iterate over a set and print each element?\n",
    "# Solution 1:  Using Iterate\n",
    "set1 = {15, 3, 88, 'a', 'b', 'c', 42, 7, 60, 10}\n",
    "for element in set1:\n",
    "    print(element)"
   ]
  },
  {
   "cell_type": "code",
   "execution_count": 53,
   "id": "87310360-1ca9-4fcf-8b5c-f2ac4edcb3f0",
   "metadata": {},
   "outputs": [
    {
     "name": "stdout",
     "output_type": "stream",
     "text": [
      "3\n",
      "7\n",
      "10\n",
      "42\n",
      "15\n",
      "a\n",
      "c\n",
      "b\n",
      "88\n",
      "60\n"
     ]
    }
   ],
   "source": [
    "# Solution 2: Using list comprehension and join()\n",
    "set1 = {15, 3, 88, 'a', 'b', 'c', 42, 7, 60, 10}\n",
    "print('\\n'.join([str(element) for element in set1]))"
   ]
  },
  {
   "cell_type": "code",
   "execution_count": 55,
   "id": "160a01af-c64b-42db-b2af-35dd21171b64",
   "metadata": {},
   "outputs": [
    {
     "name": "stdout",
     "output_type": "stream",
     "text": [
      "3\n",
      "7\n",
      "10\n",
      "42\n",
      "15\n",
      "a\n",
      "c\n",
      "b\n",
      "88\n",
      "60\n"
     ]
    }
   ],
   "source": [
    "# Using Function\n",
    "def iterate_set(s1):\n",
    "    print('\\n'.join([str(element) for element in set1]))\n",
    "\n",
    "# Calling Function\n",
    "iterate_set({15, 3, 88, 'a', 'b', 'c', 42, 7, 60, 10})"
   ]
  },
  {
   "cell_type": "code",
   "execution_count": 59,
   "id": "c108a79d-c3fa-4320-bcc3-e2e5b2125a11",
   "metadata": {},
   "outputs": [
    {
     "name": "stdout",
     "output_type": "stream",
     "text": [
      "Frozenset: frozenset({'apple', 'cherry', 'banana'})\n"
     ]
    }
   ],
   "source": [
    "### 5. Write a Python program to create a frozenset and explain its use.\n",
    "# Solution 1: Using frozenset()\n",
    "normal_set = {'apple', 'banana', 'cherry'}\n",
    "\n",
    "# Create a frozenset from the regular set\n",
    "frozen_set = frozenset(normal_set)\n",
    "\n",
    "# Print the frozenset\n",
    "print(\"Frozenset:\", frozen_set)\n",
    "\n",
    "# Trying to add or remove elements (will cause an error)\n",
    "#frozen_set.add('orange')\n",
    "#frozen_set.remove('apple')"
   ]
  },
  {
   "cell_type": "code",
   "execution_count": 65,
   "id": "a20a6e1f-55be-428d-ba85-12d3f061ee66",
   "metadata": {},
   "outputs": [
    {
     "name": "stdout",
     "output_type": "stream",
     "text": [
      "{32, 1, 2, 3, 4, 5, 42}\n",
      "7\n"
     ]
    }
   ],
   "source": [
    "### 6. Write a function to count the number of unique elements in a list using sets.\n",
    "list1 = [1, 2, 4, 5, 2, 3, 4, 5, 5, 3, 2, 4, 2, 1, 1, 32, 3, 2, 42, 32 ,42, 4 ]\n",
    "# Convert into set\n",
    "set_list1 = set(list1)\n",
    "print(set_list1)\n",
    "# Count unique element\n",
    "count = len(set_list1)\n",
    "print(count)"
   ]
  },
  {
   "cell_type": "code",
   "execution_count": 68,
   "id": "c9d87367-cb80-4fed-b902-09a5b77f283b",
   "metadata": {},
   "outputs": [
    {
     "name": "stdout",
     "output_type": "stream",
     "text": [
      "7\n"
     ]
    }
   ],
   "source": [
    "# Solution 2: Using Dictionary\n",
    "list1 = [1, 2, 4, 5, 2, 3, 4, 5, 5, 3, 2, 4, 2, 1, 1, 32, 3, 2, 42, 32 ,42, 4 ]\n",
    "element_count = {}\n",
    "for item in list1:\n",
    "    if item not in element_count:\n",
    "        element_count[item] = 1\n",
    "    else:\n",
    "        element_count[item] += 1\n",
    "    # The number of unique elements is the number of keys in the dictionary\n",
    "print(len(element_count))"
   ]
  },
  {
   "cell_type": "code",
   "execution_count": 70,
   "id": "775bedf3-8f55-447d-a3d2-91b4afd6cee2",
   "metadata": {},
   "outputs": [
    {
     "name": "stdout",
     "output_type": "stream",
     "text": [
      "7\n"
     ]
    }
   ],
   "source": [
    "# Solution 3: Using List Comprehension\n",
    "list1 = [1, 2, 4, 5, 2, 3, 4, 5, 5, 3, 2, 4, 2, 1, 1, 32, 3, 2, 42, 32 ,42, 4 ]\n",
    "unique_elements = {item for item in list1}\n",
    "print(len(unique_elements))"
   ]
  },
  {
   "cell_type": "code",
   "execution_count": 77,
   "id": "2f8d079e-b6ec-4eec-8754-dfa9e73b7773",
   "metadata": {},
   "outputs": [
    {
     "name": "stdout",
     "output_type": "stream",
     "text": [
      "The number of unique elements is: 7\n"
     ]
    }
   ],
   "source": [
    "# Solution 4: Using Function\n",
    "def count_unique_elements(list1):\n",
    "    # Convert the list to a set to get unique elements\n",
    "    unique_set = set(list1)\n",
    "    # Count the number of unique elements\n",
    "    count = len(unique_set)\n",
    "    return count\n",
    "\n",
    "# Calling Function\n",
    "count_unique_elements([1, 2, 4, 5, 2, 3, 4, 5, 5, 3, 2, 4, 2, 1, 1, 32, 3, 2, 42, 32 ,42, 4 ])\n",
    "print(f\"The number of unique elements is: {count}\")"
   ]
  },
  {
   "cell_type": "code",
   "execution_count": 90,
   "id": "02c177e7-d244-484b-85eb-37a0dd20790d",
   "metadata": {},
   "outputs": [
    {
     "name": "stdout",
     "output_type": "stream",
     "text": [
      "{1, 2, 3, 4, 5, 'cherry', 'banana', 'c', 'a', 'b', 'apple', 'd'}\n"
     ]
    }
   ],
   "source": [
    "### 7. How would you merge multiple sets into one?\n",
    "# Solution 1: Using union()\n",
    "s1 = {1, 2, 4, 5, 2, 3, 4}\n",
    "s2 = {'apple', 'banana', 'cherry'}\n",
    "s3 = {'a', 'b', 'c', 'd'}\n",
    "\n",
    "# Merge all sets in one go\n",
    "finalSet = s1.union(s2, s3)\n",
    "print(finalSet)"
   ]
  },
  {
   "cell_type": "code",
   "execution_count": 91,
   "id": "9a5feed3-fb5a-49fc-bdbe-e535a7080aed",
   "metadata": {},
   "outputs": [
    {
     "name": "stdout",
     "output_type": "stream",
     "text": [
      "{1, 2, 3, 4, 5, 'cherry', 'banana', 'c', 'a', 'b', 'apple', 'd'}\n"
     ]
    }
   ],
   "source": [
    "# Solution 2: Using Iteration\n",
    "s1 = {1, 2, 4, 5, 2, 3, 4}\n",
    "s2 = {'apple', 'banana', 'cherry'}\n",
    "s3 = {'a', 'b', 'c', 'd'}\n",
    "\n",
    "# Create an empty set to hold the merged result\n",
    "merged_set = set()\n",
    "\n",
    "# Add elements from each set to the merged_set using iteration\n",
    "for s in (s1, s2, s3):\n",
    "    for element in s:\n",
    "        merged_set.add(element)\n",
    "\n",
    "print(merged_set)"
   ]
  },
  {
   "cell_type": "code",
   "execution_count": 94,
   "id": "0d6ce078-ccb7-4436-843d-513a36ea81d8",
   "metadata": {},
   "outputs": [
    {
     "name": "stdout",
     "output_type": "stream",
     "text": [
      "{1, 2, 3, 4, 5, 'cherry', 'banana', 'c', 'a', 'b', 'apple', 'd'}\n"
     ]
    }
   ],
   "source": [
    "# Solution 3: Using Update\n",
    "s1 = {1, 2, 4, 5, 2, 3, 4}\n",
    "s2 = {'apple', 'banana', 'cherry'}\n",
    "s3 = {'a', 'b', 'c', 'd'}\n",
    "\n",
    "# Create an empty set to hold the merged result\n",
    "merged_set = set()\n",
    "\n",
    "# Update the merged_set with each set\n",
    "merged_set.update(s1)\n",
    "merged_set.update(s2)\n",
    "merged_set.update(s3)\n",
    "\n",
    "print(merged_set)"
   ]
  },
  {
   "cell_type": "code",
   "execution_count": 93,
   "id": "d0f6ad63-3e1c-470a-a8f1-87cbd08f2eae",
   "metadata": {},
   "outputs": [
    {
     "data": {
      "text/plain": [
       "{1, 2, 3, 4, 5, 'a', 'apple', 'b', 'banana', 'c', 'cherry', 'd'}"
      ]
     },
     "execution_count": 93,
     "metadata": {},
     "output_type": "execute_result"
    }
   ],
   "source": [
    "# Solution 4: Using function\n",
    "def merge_set(s1, s2, s3):\n",
    "    finalSet = s1.union(s2, s3)\n",
    "    return finalSet\n",
    "\n",
    "# Calling Function\n",
    "merge_set({1, 2, 4, 5, 2, 3, 4}, {'apple', 'banana', 'cherry'}, {'a', 'b', 'c', 'd'})"
   ]
  },
  {
   "cell_type": "code",
   "execution_count": 100,
   "id": "56b0c36b-780f-42cf-b602-b7b0efcd43c5",
   "metadata": {},
   "outputs": [
    {
     "name": "stdout",
     "output_type": "stream",
     "text": [
      "{1, 2, 3, 4}\n",
      "4\n"
     ]
    }
   ],
   "source": [
    "### 8. Write a Python program to find the number of elements in a set that are also present in a list.\n",
    "# Solution 1: Using intersection()\n",
    "set1 = {1, 2, 4, 5, 2, 3, 4}\n",
    "list1 = [1, 2, 3, 4, 6, 7, 8]\n",
    "# Convert list into set\n",
    "set_list1 = set(list1)\n",
    "# intersection() of set1 and set_list1\n",
    "unique_element =  set1.intersection(set_list1)\n",
    "print(unique_element)\n",
    "# count unique element\n",
    "print(len(unique_element))"
   ]
  },
  {
   "cell_type": "code",
   "execution_count": 101,
   "id": "6ba9e1c5-2f63-4e21-a087-bc75939e3560",
   "metadata": {},
   "outputs": [
    {
     "name": "stdout",
     "output_type": "stream",
     "text": [
      "4\n"
     ]
    }
   ],
   "source": [
    "# Solution 2: Using iteration\n",
    "set1 = {1, 2, 4, 5, 2, 3, 4}\n",
    "list1 = [1, 2, 3, 4, 6, 7, 8]\n",
    "\n",
    "count = 0\n",
    "for element in set1:\n",
    "    if element in list1:\n",
    "        count += 1\n",
    "\n",
    "print(count) "
   ]
  },
  {
   "cell_type": "code",
   "execution_count": 102,
   "id": "f6b88381-3f59-4d32-a594-7a5c01b252f1",
   "metadata": {},
   "outputs": [
    {
     "name": "stdout",
     "output_type": "stream",
     "text": [
      "{1, 2, 3, 4}\n",
      "4\n"
     ]
    }
   ],
   "source": [
    "# Solution 3: Using Set Operations Directly\n",
    "set1 = {1, 2, 4, 5, 2, 3, 4}\n",
    "list1 = [1, 2, 3, 4, 6, 7, 8]\n",
    "\n",
    "# Directly find the intersection and count\n",
    "common_elements = set1 & set(list1)\n",
    "print(common_elements) \n",
    "print(len(common_elements)) "
   ]
  },
  {
   "cell_type": "code",
   "execution_count": 103,
   "id": "7651ff32-9e79-4efc-aaa1-bc8b79857f57",
   "metadata": {},
   "outputs": [
    {
     "data": {
      "text/plain": [
       "4"
      ]
     },
     "execution_count": 103,
     "metadata": {},
     "output_type": "execute_result"
    }
   ],
   "source": [
    "# Solution 4: Using Function\n",
    "def common_elements(set1, list1):\n",
    "    count = 0\n",
    "    for element in set1:\n",
    "        if element in list1:\n",
    "            count += 1\n",
    "    return count\n",
    "\n",
    "# Calling Function \n",
    "common_elements({1, 2, 4, 5, 2, 3, 4}, [1, 2, 3, 4, 6, 7, 8])"
   ]
  },
  {
   "cell_type": "code",
   "execution_count": 104,
   "id": "2fbbf0e2-abc7-4a98-9ed8-935000677a0d",
   "metadata": {},
   "outputs": [
    {
     "name": "stdout",
     "output_type": "stream",
     "text": [
      "(5, 'elderberry')\n",
      "(1, 'apple')\n",
      "(2, 'banana')\n",
      "(3, 'cherry')\n",
      "(4, 'date')\n"
     ]
    }
   ],
   "source": [
    "### 9. Write a program to create a set of tuples and print each tuple.\n",
    "# Create a set of tuples\n",
    "tuple_set = {\n",
    "    (1, 'apple'),\n",
    "    (2, 'banana'),\n",
    "    (3, 'cherry'),\n",
    "    (4, 'date'),\n",
    "    (5, 'elderberry')\n",
    "}\n",
    "\n",
    "# Print each tuple in the set\n",
    "for tup in tuple_set:\n",
    "    print(tup)\n"
   ]
  },
  {
   "cell_type": "code",
   "execution_count": 115,
   "id": "17b5c480-b7a3-441e-ac34-ce7427ae06c2",
   "metadata": {},
   "outputs": [
    {
     "name": "stdout",
     "output_type": "stream",
     "text": [
      "1\n",
      "4\n",
      "9\n",
      "16\n",
      "25\n"
     ]
    }
   ],
   "source": [
    "### 10. How can you create a set of squares of numbers from a list?\n",
    "# Solution 1: Using math solution\n",
    "numbers = [1, 2, 3, 4, 5]\n",
    "for x in numbers:\n",
    "    square = x**2\n",
    "    print(square)"
   ]
  },
  {
   "cell_type": "code",
   "execution_count": 106,
   "id": "f5537ef3-45e1-4c97-abce-9ce0095108a3",
   "metadata": {},
   "outputs": [
    {
     "name": "stdout",
     "output_type": "stream",
     "text": [
      "{1, 4, 9, 16, 25}\n"
     ]
    }
   ],
   "source": [
    "# Solution 2: Using Set Comprehension\n",
    "numbers = [1, 2, 3, 4, 5]\n",
    "squares_set = {x ** 2 for x in numbers}\n",
    "print(squares_set) "
   ]
  },
  {
   "cell_type": "code",
   "execution_count": 117,
   "id": "f80c595a-71c4-4187-8ac8-98fe594dc806",
   "metadata": {},
   "outputs": [
    {
     "name": "stdout",
     "output_type": "stream",
     "text": [
      "{1, 4, 9, 16, 25}\n"
     ]
    }
   ],
   "source": [
    "# Solution 3: Using Iteration\n",
    "numbers = [1, 2, 3, 4, 5]\n",
    "# Create an empty set\n",
    "squares_set = set() \n",
    "\n",
    "# Iterate over each number in the list\n",
    "for num in numbers:  \n",
    "    squares_set.add(num ** 2) \n",
    "\n",
    "print(squares_set)\n"
   ]
  },
  {
   "cell_type": "code",
   "execution_count": 118,
   "id": "9b9cb306-c2f5-4218-830d-ece9d4c22c15",
   "metadata": {},
   "outputs": [
    {
     "data": {
      "text/plain": [
       "{1, 4, 9, 16, 25}"
      ]
     },
     "execution_count": 118,
     "metadata": {},
     "output_type": "execute_result"
    }
   ],
   "source": [
    "# Solution 4: Using Function\n",
    "def square_element(numbers):\n",
    "    squares_set = {x ** 2 for x in numbers}\n",
    "    return squares_set\n",
    "\n",
    "# Calling Function\n",
    "square_element([1, 2, 3, 4, 5])"
   ]
  },
  {
   "cell_type": "code",
   "execution_count": null,
   "id": "f6640dba-c1ee-4345-ae83-e2860da13fcb",
   "metadata": {},
   "outputs": [],
   "source": []
  }
 ],
 "metadata": {
  "kernelspec": {
   "display_name": "Python 3 (ipykernel)",
   "language": "python",
   "name": "python3"
  },
  "language_info": {
   "codemirror_mode": {
    "name": "ipython",
    "version": 3
   },
   "file_extension": ".py",
   "mimetype": "text/x-python",
   "name": "python",
   "nbconvert_exporter": "python",
   "pygments_lexer": "ipython3",
   "version": "3.12.4"
  }
 },
 "nbformat": 4,
 "nbformat_minor": 5
}
