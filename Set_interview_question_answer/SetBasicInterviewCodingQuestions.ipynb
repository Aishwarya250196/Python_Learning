{
 "cells": [
  {
   "cell_type": "code",
   "execution_count": 7,
   "id": "56839bb5-beae-462c-a5ca-88506cb49bd0",
   "metadata": {},
   "outputs": [
    {
     "name": "stdout",
     "output_type": "stream",
     "text": [
      "{1, 2, 'a', 'a2', 'abc'}\n"
     ]
    }
   ],
   "source": [
    "### 1. Write a Python program to create a set and print its elements.\n",
    "# Solution 1: Using set and print\n",
    "elements = (1, 'a', 2, 'a2', 'abc')\n",
    "unique_elements = set(elements)\n",
    "print(unique_elements)"
   ]
  },
  {
   "cell_type": "code",
   "execution_count": 8,
   "id": "9049b63f-476d-4f29-a892-047d5dc92823",
   "metadata": {},
   "outputs": [
    {
     "data": {
      "text/plain": [
       "{1, 2, 'a', 'a2', 'abc'}"
      ]
     },
     "execution_count": 8,
     "metadata": {},
     "output_type": "execute_result"
    }
   ],
   "source": [
    "# Solution 2: Using Function\n",
    "def set_print(elements):\n",
    "    unique_elements = set(elements)\n",
    "    return unique_elements\n",
    "\n",
    "# Calling Function\n",
    "set_print((1, 'a', 2, 'a2', 'abc'))"
   ]
  },
  {
   "cell_type": "code",
   "execution_count": 15,
   "id": "75ae5639-e5b8-4ba8-ad50-9d8752245820",
   "metadata": {},
   "outputs": [
    {
     "name": "stdout",
     "output_type": "stream",
     "text": [
      "Yes, It is exists.\n"
     ]
    }
   ],
   "source": [
    "### 2. How would you check if an element exists in a set?\n",
    "# Solution 1: Using Iteration\n",
    "elementslist = (1, 'a', 2, 'a2', 'abc', False)\n",
    "if 'abc' in elementslist:\n",
    "    print('Yes, It is exists.')\n",
    "else:\n",
    "    print('No, It is not exists.')"
   ]
  },
  {
   "cell_type": "code",
   "execution_count": 18,
   "id": "ac9dbf6b-6f11-4bca-86aa-c453ddf622f8",
   "metadata": {},
   "outputs": [
    {
     "name": "stdout",
     "output_type": "stream",
     "text": [
      "Yes, It is exists.\n"
     ]
    }
   ],
   "source": [
    "# Solution 2: Using Function\n",
    "def exist_element(elementslist, word):\n",
    "    if word in elementslist:\n",
    "        print('Yes, It is exists.')\n",
    "    else:\n",
    "        print('No, It is not exists.')\n",
    "\n",
    "# Calling Function\n",
    "exist_element((1, 'a', 2, 'a2', 'abc', False),  2)"
   ]
  },
  {
   "cell_type": "code",
   "execution_count": 19,
   "id": "2043a6dd-ba75-4e85-b9be-d2844694b662",
   "metadata": {},
   "outputs": [
    {
     "name": "stdout",
     "output_type": "stream",
     "text": [
      "{1, 2, 3, 4, 5, 6, 7, 8, 9, 10, 'banana', 'cherry', 'apple'}\n"
     ]
    }
   ],
   "source": [
    "### 3. Write a Python program to find the union of two sets.\n",
    "# Solution 1: Using union()\n",
    "Set1 = {1, 2, 3, 4, 5, 6, 7, 8, 9, 10}\n",
    "Set2 = {\"apple\", \"banana\", \"cherry\"}\n",
    "union_set = Set1.union(Set2)\n",
    "print(union_set)"
   ]
  },
  {
   "cell_type": "code",
   "execution_count": 22,
   "id": "164b3ddd-36a2-4bde-9a99-9ac4cc4a9403",
   "metadata": {},
   "outputs": [
    {
     "name": "stdout",
     "output_type": "stream",
     "text": [
      "{1, 2, 3, 4, 5, 6, 7, 8, 9, 10, 'banana', 'cherry', 'apple'}\n"
     ]
    }
   ],
   "source": [
    "# Solution 2: Using Iteration\n",
    "Set1 = {1, 2, 3, 4, 5, 6, 7, 8, 9, 10}\n",
    "Set2 = {\"apple\", \"banana\", \"cherry\"}\n",
    "union_set = set()\n",
    "for i in Set1:\n",
    "    union_set.add(i)\n",
    "\n",
    "for i in Set2:\n",
    "    union_set.add(i)\n",
    "\n",
    "print(union_set)"
   ]
  },
  {
   "cell_type": "code",
   "execution_count": 23,
   "id": "a5a4823b-f83f-4941-a724-61d4fe61d46a",
   "metadata": {},
   "outputs": [
    {
     "data": {
      "text/plain": [
       "{1, 10, 2, 3, 4, 5, 6, 7, 8, 9, 'apple', 'banana', 'cherry'}"
      ]
     },
     "execution_count": 23,
     "metadata": {},
     "output_type": "execute_result"
    }
   ],
   "source": [
    "# Function 3: Using Function\n",
    "def union_set(Set1, Set2):\n",
    "    union_set_element = Set1.union(Set2)\n",
    "    return union_set_element\n",
    "\n",
    "# Calling Function\n",
    "union_set({1, 2, 3, 4, 5, 6, 7, 8, 9, 10}, {\"apple\", \"banana\", \"cherry\"})"
   ]
  },
  {
   "cell_type": "code",
   "execution_count": 25,
   "id": "09f25437-c783-402a-b209-46ec83e5ccfe",
   "metadata": {},
   "outputs": [
    {
     "name": "stdout",
     "output_type": "stream",
     "text": [
      "{5, 6, 8, 9, 10}\n"
     ]
    }
   ],
   "source": [
    "### 4. Write a program to find the intersection of two sets.\n",
    "# Solution 1: Using intersection()\n",
    "Set1 = {1, 2, 3, 4, 5, 6, 7, 8, 9, 10}\n",
    "Set2 = {5, 6, 8, 9, 10, 11, 12, 13, 14, 15}\n",
    "intersection_Set = Set1.intersection(Set2)\n",
    "print(intersection_Set)"
   ]
  },
  {
   "cell_type": "code",
   "execution_count": 33,
   "id": "79088546-0bcd-47fd-b4f8-293cfa3daf66",
   "metadata": {},
   "outputs": [
    {
     "name": "stdout",
     "output_type": "stream",
     "text": [
      "{5, 6, 8, 9, 10}\n"
     ]
    }
   ],
   "source": [
    "# Solution 2: Using &\n",
    "Set1 = {1, 2, 3, 4, 5, 6, 7, 8, 9, 10}\n",
    "Set2 = {5, 6, 8, 9, 10, 11, 12, 13, 14, 15}\n",
    "intersection_Set = Set1 & Set2\n",
    "print(intersection_Set)"
   ]
  },
  {
   "cell_type": "code",
   "execution_count": 34,
   "id": "878938ee-16a0-42cf-ad24-0c81abead92b",
   "metadata": {},
   "outputs": [
    {
     "name": "stdout",
     "output_type": "stream",
     "text": [
      "{5, 6, 8, 9, 10}\n"
     ]
    }
   ],
   "source": [
    "# Solution 3: Using Iteration\n",
    "Set1 = {1, 2, 3, 4, 5, 6, 7, 8, 9, 10}\n",
    "Set2 = {5, 6, 8, 9, 10, 11, 12, 13, 14, 15}\n",
    "intersection_set = set()\n",
    "\n",
    "for element in Set1:\n",
    "    if element in Set2:\n",
    "        intersection_set.add(element)\n",
    "        \n",
    "print(intersection_set)"
   ]
  },
  {
   "cell_type": "code",
   "execution_count": 36,
   "id": "dd96300a-0c87-4fd9-b0e1-c645df7387c0",
   "metadata": {},
   "outputs": [
    {
     "data": {
      "text/plain": [
       "{5, 6, 8, 9, 10}"
      ]
     },
     "execution_count": 36,
     "metadata": {},
     "output_type": "execute_result"
    }
   ],
   "source": [
    "# Solution 4: Using Function\n",
    "def intersection_set( Set1, Set2):\n",
    "    intersection_Set = Set1.intersection(Set2)\n",
    "    return intersection_Set\n",
    "\n",
    "# Calling Function\n",
    "intersection_set({1, 2, 3, 4, 5, 6, 7, 8, 9, 10}, {5, 6, 8, 9, 10, 11, 12, 13, 14, 15})"
   ]
  },
  {
   "cell_type": "code",
   "execution_count": 43,
   "id": "3204f28b-ad92-483d-98e3-b51848a1e7e2",
   "metadata": {},
   "outputs": [
    {
     "name": "stdout",
     "output_type": "stream",
     "text": [
      "Oracle not found in the set.\n",
      "{'apple', 'microsoft', 'google'}\n"
     ]
    }
   ],
   "source": [
    "### 5. How would you remove an element from a set without causing an error if the element is not present?\n",
    "# Solution 1: Using remove()\n",
    "thisset = {\"google\", \"microsoft\", \"apple\"}\n",
    "remove_element = 'Oracle'\n",
    "\n",
    "if remove_element in thisset:\n",
    "    thisset.remove(remove_element)\n",
    "else:\n",
    "    print(f\"{remove_element} not found in the set.\")\n",
    "\n",
    "print(thisset)"
   ]
  },
  {
   "cell_type": "code",
   "execution_count": 44,
   "id": "d9e7ae87-de80-466d-8aef-ed0a3cc50084",
   "metadata": {},
   "outputs": [
    {
     "name": "stdout",
     "output_type": "stream",
     "text": [
      "Oracle not found in the set.\n",
      "{'apple', 'microsoft', 'google'}\n"
     ]
    }
   ],
   "source": [
    "# Solution 2: Using discard()\n",
    "thisset = {\"google\", \"microsoft\", \"apple\"}\n",
    "remove_element = 'Oracle'\n",
    "\n",
    "if remove_element in thisset:\n",
    "    thisset.discard(remove_element)\n",
    "else:\n",
    "    print(f\"{remove_element} not found in the set.\")\n",
    "\n",
    "print(thisset)"
   ]
  },
  {
   "cell_type": "code",
   "execution_count": 50,
   "id": "5c4e230d-906b-4ed1-aaa2-cdbed0245f29",
   "metadata": {},
   "outputs": [
    {
     "name": "stdout",
     "output_type": "stream",
     "text": [
      "apple\n",
      "microsoft\n",
      "google\n"
     ]
    }
   ],
   "source": [
    "# Solution 3: Using Iteration\n",
    "thisset = {\"google\", \"microsoft\", \"apple\"}\n",
    "remove_element = 'Oracle'\n",
    "new_set = set()\n",
    "for i in thisset:\n",
    "    if i != remove_element:\n",
    "        new_set = i\n",
    "        print(new_set)"
   ]
  },
  {
   "cell_type": "code",
   "execution_count": 59,
   "id": "e9d31d68-f303-40e3-9f15-982b9fbbe877",
   "metadata": {},
   "outputs": [
    {
     "name": "stdout",
     "output_type": "stream",
     "text": [
      "Oracle not present\n"
     ]
    },
    {
     "data": {
      "text/plain": [
       "{'apple', 'google', 'microsoft'}"
      ]
     },
     "execution_count": 59,
     "metadata": {},
     "output_type": "execute_result"
    }
   ],
   "source": [
    "# Solution 4: Using Function\n",
    "def remove_element(thisset, item):\n",
    "    if item in thisset:\n",
    "        thisset.remove(item)\n",
    "    else:\n",
    "        print(f\"{item} not present\")  \n",
    "    return thisset\n",
    "\n",
    "# Calling Function\n",
    "remove_element({\"google\", \"microsoft\", \"apple\"}, 'Oracle')"
   ]
  },
  {
   "cell_type": "code",
   "execution_count": 61,
   "id": "5cee7cb2-0d98-4296-ab7f-6ee01cd8cb91",
   "metadata": {},
   "outputs": [
    {
     "name": "stdout",
     "output_type": "stream",
     "text": [
      "{1, 2, 3, 4, 7, 11, 12, 13, 14, 15}\n"
     ]
    }
   ],
   "source": [
    "### 6. Write a Python program to find the difference between two sets.\n",
    "# Solution 1: \n",
    "Set1 = {1, 2, 3, 4, 5, 6, 7, 8, 9, 10}\n",
    "Set2 = {5, 6, 8, 9, 10, 11, 12, 13, 14, 15}\n",
    "new_set = Set1.symmetric_difference(Set2)\n",
    "print(new_set)"
   ]
  },
  {
   "cell_type": "code",
   "execution_count": 65,
   "id": "e5e3cb44-2e1c-426a-b695-e67ce4e57cef",
   "metadata": {},
   "outputs": [
    {
     "name": "stdout",
     "output_type": "stream",
     "text": [
      "{1, 2, 3, 4, 6, 8, 9, 15}\n"
     ]
    }
   ],
   "source": [
    "Set1 = {1, 2, 3, 4, 5, 10, 11, 12, 13, 14}\n",
    "Set2 = {5, 6, 8, 9, 10, 11, 12, 13, 14, 15}\n",
    "new_set = set()\n",
    "for item in Set1:\n",
    "    if item not in Set2:\n",
    "        new_set.add(item)\n",
    "\n",
    "for item in Set2:\n",
    "    if item not in Set1:\n",
    "        new_set.add(item)\n",
    "\n",
    "print(new_set)"
   ]
  },
  {
   "cell_type": "code",
   "execution_count": 67,
   "id": "8f0a6369-691a-4e38-8fe2-95a9bbb6cf7a",
   "metadata": {},
   "outputs": [
    {
     "data": {
      "text/plain": [
       "{1, 2, 3, 4, 6, 8, 9, 15}"
      ]
     },
     "execution_count": 67,
     "metadata": {},
     "output_type": "execute_result"
    }
   ],
   "source": [
    "# Solution3 : Using  Function\n",
    "def difference_set(Set1, Set2):\n",
    "    new_set = Set1.symmetric_difference(Set2)\n",
    "    return new_set\n",
    "\n",
    "# Calling Function\n",
    "difference_set({1, 2, 3, 4, 5, 10, 11, 12, 13, 14}, {5, 6, 8, 9, 10, 11, 12, 13, 14, 15})"
   ]
  },
  {
   "cell_type": "code",
   "execution_count": 72,
   "id": "04fbc29d-3ae5-4a84-85a4-00037d118832",
   "metadata": {},
   "outputs": [
    {
     "name": "stdout",
     "output_type": "stream",
     "text": [
      "{1, 2, 3, 4, 6, 8, 9}\n"
     ]
    }
   ],
   "source": [
    "### 7. How can you convert a list with duplicates into a set?\n",
    "# Solution 1: Using Set()\n",
    "Lst1  = [9,2,2,4,6,4,1,8,9,3,9,9,9]\n",
    "# use set() in-built function of set\n",
    "set_Lst1 = set(Lst1)\n",
    "print(set_Lst1)"
   ]
  },
  {
   "cell_type": "code",
   "execution_count": 76,
   "id": "98128a69-54d3-4b0d-a573-2d25f5c18a5c",
   "metadata": {},
   "outputs": [
    {
     "name": "stdout",
     "output_type": "stream",
     "text": [
      "{1, 2, 3, 4, 6, 8, 9}\n"
     ]
    }
   ],
   "source": [
    "# Solution 2: Using Iteration\n",
    "Lst1  = [9,2,2,4,6,4,1,8,9,3,9,9,9]\n",
    "set_Lst = set()\n",
    "for i in Lst1:\n",
    "        set_Lst.add(i)\n",
    "\n",
    "print(set_Lst)"
   ]
  },
  {
   "cell_type": "code",
   "execution_count": 75,
   "id": "d7ca198b-7301-4458-87d8-438f8feddf83",
   "metadata": {},
   "outputs": [
    {
     "data": {
      "text/plain": [
       "{1, 2, 3, 4, 6, 8, 9}"
      ]
     },
     "execution_count": 75,
     "metadata": {},
     "output_type": "execute_result"
    }
   ],
   "source": [
    "# Solution 3: Using Function\n",
    "def list_to_set(Lst1):\n",
    "    set_Lst = set(Lst1)\n",
    "    return set_Lst\n",
    "\n",
    "# Calling Function\n",
    "list_to_set([9,2,2,4,6,4,1,8,9,3,9,9,9])"
   ]
  },
  {
   "cell_type": "code",
   "execution_count": 78,
   "id": "da5d03ec-4f2a-4c3c-9ae2-ae4167c11a5f",
   "metadata": {},
   "outputs": [
    {
     "name": "stdout",
     "output_type": "stream",
     "text": [
      "True\n"
     ]
    }
   ],
   "source": [
    "### 8. Write a program to check if one set is a subset of another.\n",
    "# Solution1: Using issubset()\n",
    "setA = {1, 2, 3, 4, 5}\n",
    "setB = {1, 2, 3}\n",
    "subset = setB.issubset(setA)\n",
    "print(subset)"
   ]
  },
  {
   "cell_type": "code",
   "execution_count": 83,
   "id": "6e5ec672-0d79-41ae-84cd-02e1cbd3eb28",
   "metadata": {},
   "outputs": [
    {
     "name": "stdout",
     "output_type": "stream",
     "text": [
      "Yes, one set is subset of another set.\n"
     ]
    }
   ],
   "source": [
    "# Solution 2: Using intersection()\n",
    "setA = {1, 2, 3, 4, 5}\n",
    "setB = {1, 2, 3}\n",
    "intersection_set = setA.intersection(setB)\n",
    "if intersection_set == setB:\n",
    "    print('Yes, one set is subset of another set.')\n",
    "else:\n",
    "    print('No, one set is no subset of another set.')"
   ]
  },
  {
   "cell_type": "code",
   "execution_count": 88,
   "id": "4855f457-951c-4f22-b982-58a859772eae",
   "metadata": {},
   "outputs": [
    {
     "name": "stdout",
     "output_type": "stream",
     "text": [
      "{1, 2, 3}\n",
      "Yes, one set is subset of another set.\n"
     ]
    }
   ],
   "source": [
    "# Solution 3: Using Iteration\n",
    "setA = {1, 2, 3, 4, 5}\n",
    "setB = {1, 2, 3}\n",
    "new_set = set()\n",
    "for item in setA:\n",
    "    if item in setB:\n",
    "        new_set.add(item)\n",
    "print(new_set)\n",
    "if new_set == setB:\n",
    "    print('Yes, one set is subset of another set.')\n",
    "else:\n",
    "    print('No, one set is no subset of another set.')"
   ]
  },
  {
   "cell_type": "code",
   "execution_count": 92,
   "id": "4d0d0e0e-c30d-45a5-9e93-9376705f7c8e",
   "metadata": {},
   "outputs": [
    {
     "data": {
      "text/plain": [
       "True"
      ]
     },
     "execution_count": 92,
     "metadata": {},
     "output_type": "execute_result"
    }
   ],
   "source": [
    "# Solution 4: Using Function\n",
    "def subset(setA, setB):\n",
    "    new_set = setB.issubset(setA)\n",
    "    return(new_set)\n",
    "\n",
    "# Calling Function\n",
    "subset({1, 2, 3, 4, 5}, {1, 2, 3})"
   ]
  },
  {
   "cell_type": "code",
   "execution_count": 93,
   "id": "ce002abf-3845-4846-828e-7bf4f9f6bafd",
   "metadata": {},
   "outputs": [
    {
     "name": "stdout",
     "output_type": "stream",
     "text": [
      "{4, 5}\n"
     ]
    }
   ],
   "source": [
    "### 9. Write a Python program to find the symmetric difference of two sets.\n",
    "# Solution 1: Using symmetric_difference()\n",
    "setA = {1, 2, 3, 4, 5}\n",
    "setB = {1, 2, 3}\n",
    "new_Set = setA.symmetric_difference(setB)\n",
    "print(new_Set)"
   ]
  },
  {
   "cell_type": "code",
   "execution_count": 94,
   "id": "5988c58d-8dfe-4bc6-bf29-37233ac5b5e3",
   "metadata": {},
   "outputs": [
    {
     "data": {
      "text/plain": [
       "{4, 5}"
      ]
     },
     "execution_count": 94,
     "metadata": {},
     "output_type": "execute_result"
    }
   ],
   "source": [
    "# Solution 3: Using Function:\n",
    "def symmetric_difference_set(setA, setB):\n",
    "    new_Set = setA.symmetric_difference(setB)\n",
    "    return new_Set\n",
    "\n",
    "# Calling Function\n",
    "symmetric_difference_set({1, 2, 3, 4, 5}, {1, 2, 3})"
   ]
  },
  {
   "cell_type": "code",
   "execution_count": 101,
   "id": "5326e498-4fc8-4028-9ab3-9e700aaff3f8",
   "metadata": {},
   "outputs": [
    {
     "name": "stdout",
     "output_type": "stream",
     "text": [
      "{'h', 'o', 'e', 'r', 'd', ' ', 'l', 'w'}\n"
     ]
    }
   ],
   "source": [
    "### 10. How would you create a set from a string and print the unique characters?\n",
    "# Solution 1: Convert string to set\n",
    "input_string = \"hello world\"\n",
    "# Convert string into set\n",
    "list_string = set(input_string)\n",
    "print(list_string)"
   ]
  },
  {
   "cell_type": "code",
   "execution_count": 109,
   "id": "3783f8c0-06f7-4c66-9337-90a8727ae726",
   "metadata": {},
   "outputs": [
    {
     "name": "stdout",
     "output_type": "stream",
     "text": [
      "{'h', 'o', 'e', 'r', 'd', ' ', 'l', 'w'}\n"
     ]
    }
   ],
   "source": [
    "# Solution 1: Convert string to list\n",
    "input_string = \"hello world\"\n",
    "# Convert string into list\n",
    "list_string = list(input_string)\n",
    "print(set_string)"
   ]
  },
  {
   "cell_type": "code",
   "execution_count": 114,
   "id": "aa4c098c-310e-43e5-8cb3-3ddc0da7fa76",
   "metadata": {},
   "outputs": [
    {
     "name": "stdout",
     "output_type": "stream",
     "text": [
      "{'h', 'o', 'e', 'r', 'd', ' ', 'l', 'w'}\n"
     ]
    }
   ],
   "source": [
    "# Solution 3: Using Iteration\n",
    "input_string = \"hello world\"\n",
    "char_set = set()\n",
    "for char in input_string:\n",
    "    if char not in char_set:\n",
    "        char_set.add(char)\n",
    "print(char_set)"
   ]
  },
  {
   "cell_type": "code",
   "execution_count": 120,
   "id": "2ce919bd-9f75-465f-83be-511206061c65",
   "metadata": {},
   "outputs": [
    {
     "name": "stdout",
     "output_type": "stream",
     "text": [
      "{'h', 'o', 'a', 'l', 'e', 'r', 'D', 'P', 'm', 't', 'p', 'B', 's', 'I', 'y', ' ', 'v', 'n'}\n"
     ]
    }
   ],
   "source": [
    "# Solution 4: Using Function\n",
    "def unique_char(input_string):\n",
    "    char_set = set()\n",
    "    for char in input_string:\n",
    "        if char not in char_set:\n",
    "            char_set.add(char)\n",
    "    return print(char_set)\n",
    "\n",
    "# Calling function\n",
    "unique_char('I am the Best Python Developer')"
   ]
  },
  {
   "cell_type": "code",
   "execution_count": null,
   "id": "4a34c648-90a3-4213-9c88-6cbdb5dd80ea",
   "metadata": {},
   "outputs": [],
   "source": []
  }
 ],
 "metadata": {
  "kernelspec": {
   "display_name": "Python 3 (ipykernel)",
   "language": "python",
   "name": "python3"
  },
  "language_info": {
   "codemirror_mode": {
    "name": "ipython",
    "version": 3
   },
   "file_extension": ".py",
   "mimetype": "text/x-python",
   "name": "python",
   "nbconvert_exporter": "python",
   "pygments_lexer": "ipython3",
   "version": "3.12.4"
  }
 },
 "nbformat": 4,
 "nbformat_minor": 5
}
