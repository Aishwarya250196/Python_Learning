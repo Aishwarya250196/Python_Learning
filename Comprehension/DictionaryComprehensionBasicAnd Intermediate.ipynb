{
 "cells": [
  {
   "cell_type": "markdown",
   "id": "49cdf24a-ad15-4eb5-8e56-69600a4bddf8",
   "metadata": {},
   "source": [
    "### Level: Basic"
   ]
  },
  {
   "cell_type": "code",
   "execution_count": 3,
   "id": "fcf8abc0-e4de-4ecf-81c8-11917d37290d",
   "metadata": {},
   "outputs": [
    {
     "name": "stdout",
     "output_type": "stream",
     "text": [
      "{1: 1, 2: 4, 3: 9, 4: 16, 5: 25, 6: 36, 7: 49, 8: 64, 9: 81, 10: 100}\n"
     ]
    }
   ],
   "source": [
    "### 1. Square Numbers: \n",
    "# Create a dictionary comprehension that generates a dictionary where the keys are numbers from 1 to 10 and the values are their squares.\n",
    "# Solution 1: Using without Dictionary Comprehension\n",
    "square_dict = {}  \n",
    "\n",
    "for i in range(1, 11): \n",
    "    square_dict[i] = i ** 2 \n",
    "\n",
    "print(square_dict)\n"
   ]
  },
  {
   "cell_type": "code",
   "execution_count": 4,
   "id": "daa08413-cf6c-4cc4-9fca-0e69dc621e41",
   "metadata": {},
   "outputs": [
    {
     "name": "stdout",
     "output_type": "stream",
     "text": [
      "{1: 1, 2: 4, 3: 9, 4: 16, 5: 25, 6: 36, 7: 49, 8: 64, 9: 81, 10: 100}\n"
     ]
    }
   ],
   "source": [
    "# Solution 2: Using Dictionary Comprehension\n",
    "square_dict = {i: i ** 2 for i in range(1, 11)}\n",
    "print(square_dict)"
   ]
  },
  {
   "cell_type": "code",
   "execution_count": 16,
   "id": "e7756325-7397-473b-b864-3a5db5df0e46",
   "metadata": {},
   "outputs": [
    {
     "name": "stdout",
     "output_type": "stream",
     "text": [
      "{'H': 1, 'e': 1, 'l': 1, 'o': 1, ' ': 1, 'W': 1, 'r': 1, 'd': 1, '!': 1}\n"
     ]
    }
   ],
   "source": [
    "### 2. Character Frequency: \n",
    "# Given a string, write a dictionary comprehension to count the frequency of each character in the string.\n",
    "# Solution 1: Using without Dictionary Comprehension\n",
    "frequency = {}\n",
    "string = \"Hello World!\"\n",
    "for char in string:\n",
    "    if i in frequency:\n",
    "        frequency[char] += 1\n",
    "    else: \n",
    "        frequency[char] = 1\n",
    "print(frequency)"
   ]
  },
  {
   "cell_type": "code",
   "execution_count": 17,
   "id": "757401b6-70cd-4c26-b8cf-0b9b10918501",
   "metadata": {},
   "outputs": [
    {
     "name": "stdout",
     "output_type": "stream",
     "text": [
      "{'!': 1, 'l': 3, 'W': 1, 'o': 2, 'e': 1, 'd': 1, ' ': 1, 'H': 1, 'r': 1}\n"
     ]
    }
   ],
   "source": [
    "# Solution 2: Using Dictionary Comprehension\n",
    "string = \"Hello World!\"\n",
    "char_frequency = {char: string.count(char) for char in set(string)}\n",
    "print(char_frequency)\n",
    "\n"
   ]
  },
  {
   "cell_type": "code",
   "execution_count": 18,
   "id": "46b07ec8-b223-4af3-9638-63550aceaac6",
   "metadata": {},
   "outputs": [
    {
     "name": "stdout",
     "output_type": "stream",
     "text": [
      "{0: 32.0, 10: 50.0, 20: 68.0, 30: 86.0, 40: 104.0}\n"
     ]
    }
   ],
   "source": [
    "### 3. Temperature Conversion: \n",
    "# Create a dictionary comprehension that converts temperatures in Celsius (keys) to Fahrenheit (values) for a given list of Celsius temperatures.\n",
    "# Solution 1: Using without Dictionary Comprehension\n",
    "celsius_temperatures = [0, 10, 20, 30, 40]\n",
    "fahrenheit_dict = {}  \n",
    "\n",
    "for celsius in celsius_temperatures:\n",
    "    fahrenheit = (celsius * 9/5) + 32  \n",
    "    fahrenheit_dict[celsius] = fahrenheit  \n",
    "\n",
    "print(fahrenheit_dict)\n"
   ]
  },
  {
   "cell_type": "code",
   "execution_count": 19,
   "id": "54d708d1-ac85-4966-a254-a4fdd6fdaab5",
   "metadata": {},
   "outputs": [
    {
     "name": "stdout",
     "output_type": "stream",
     "text": [
      "{0: 32.0, 10: 50.0, 20: 68.0, 30: 86.0, 40: 104.0}\n"
     ]
    }
   ],
   "source": [
    "# Solution 2: Using Dictionary Comprehension\n",
    "celsius_temperatures = [0, 10, 20, 30, 40]\n",
    "fahrenheit_dict = {celsius: (celsius * 9/5) + 32 for celsius in celsius_temperatures}\n",
    "print(fahrenheit_dict)\n"
   ]
  },
  {
   "cell_type": "code",
   "execution_count": 22,
   "id": "24933cfb-8747-44e9-8eef-ff18c131dfc9",
   "metadata": {},
   "outputs": [
    {
     "name": "stdout",
     "output_type": "stream",
     "text": [
      "{'a': True, 'b': False, 'c': False, 'e': True, 'i': True, 'o': True, 'u': True, 'x': False}\n"
     ]
    }
   ],
   "source": [
    "### 4. Vowel Check: \n",
    "# Given a list of characters, use a dictionary comprehension to create a dictionary where the keys are the characters and the values are True if they are vowels and False otherwise.\n",
    "# Solution 1: Using without Dictionary Comprehension\n",
    "characters = ['a', 'b', 'c', 'e', 'i', 'o', 'u', 'x']\n",
    "vowel_dict = {}  \n",
    "\n",
    "vowels = ['a', 'e', 'i', 'o', 'u']  \n",
    "\n",
    "for char in characters:\n",
    "    if char in vowels:\n",
    "        vowel_dict[char] = True \n",
    "    else:\n",
    "        vowel_dict[char] = False  \n",
    "\n",
    "print(vowel_dict)\n"
   ]
  },
  {
   "cell_type": "code",
   "execution_count": 24,
   "id": "ea59433e-c412-4964-b004-90b32f931339",
   "metadata": {},
   "outputs": [
    {
     "name": "stdout",
     "output_type": "stream",
     "text": [
      "{'a': True, 'b': False, 'c': False, 'e': True, 'i': True, 'o': True, 'u': True, 'x': False}\n"
     ]
    }
   ],
   "source": [
    "# Solution 2: Using Dictionary Comprehension\n",
    "characters = ['a', 'b', 'c', 'e', 'i', 'o', 'u', 'x']\n",
    "vowels = ['a', 'e', 'i', 'o', 'u']\n",
    "vowel_dict = {char: char in vowels for char in characters}\n",
    "print(vowel_dict)\n"
   ]
  },
  {
   "cell_type": "code",
   "execution_count": 26,
   "id": "4acf27ff-864a-4ae9-b841-1826a5f4c6ba",
   "metadata": {},
   "outputs": [
    {
     "name": "stdout",
     "output_type": "stream",
     "text": [
      "{'apple': 5, 'banana': 6, 'cherry': 6, 'date': 4, 'elderberry': 10, 'fig': 3, 'grape': 5}\n"
     ]
    }
   ],
   "source": [
    "### 5. Word Lengths:\n",
    "# Write a dictionary comprehension that takes a list of words and creates a dictionary where the keys are the words and the values are their lengths.\n",
    "# Solution 1: Using without Dictionary Comprehension\n",
    "words = ['apple', 'banana', 'cherry', 'date', 'elderberry', 'fig', 'grape']\n",
    "word_dict = {}\n",
    "for word in words:\n",
    "    length = len(word)\n",
    "    word_dict[word] = length\n",
    "\n",
    "print(word_dict)\n",
    "    "
   ]
  },
  {
   "cell_type": "code",
   "execution_count": 27,
   "id": "1d0f6b4d-a3dc-466f-b67f-344abadcdffc",
   "metadata": {},
   "outputs": [
    {
     "name": "stdout",
     "output_type": "stream",
     "text": [
      "{'apple': 5, 'banana': 6, 'cherry': 6, 'date': 4, 'elderberry': 10, 'fig': 3, 'grape': 5}\n"
     ]
    }
   ],
   "source": [
    "# Solution 2: Using Dictionary Comprehension\n",
    "words = ['apple', 'banana', 'cherry', 'date', 'elderberry', 'fig', 'grape']\n",
    "word_dict = {word: len(word) for word in words}\n",
    "print(word_dict)"
   ]
  },
  {
   "cell_type": "code",
   "execution_count": 28,
   "id": "e1bfebc2-6dd6-437c-9193-e4a544c30b9e",
   "metadata": {},
   "outputs": [
    {
     "name": "stdout",
     "output_type": "stream",
     "text": [
      "{1: 1, 2: 8, 3: 27, 4: 64, 5: 125}\n"
     ]
    }
   ],
   "source": [
    "### 6. Exponential Values: \n",
    "# Write a dictionary comprehension that generates a dictionary where the keys are numbers from 1 to 5 and the values are their cubes.\n",
    "# Solution 1: Using without Dictionary Comprehension\n",
    "cube_dict = {}\n",
    "for i in range(1,6):\n",
    "    cube = i**3\n",
    "    cube_dict[i] = cube\n",
    "\n",
    "print(cube_dict)"
   ]
  },
  {
   "cell_type": "code",
   "execution_count": 29,
   "id": "1eda6a91-ff62-4559-807d-3c346307e998",
   "metadata": {},
   "outputs": [
    {
     "name": "stdout",
     "output_type": "stream",
     "text": [
      "{1: 1, 2: 8, 3: 27, 4: 64, 5: 125}\n"
     ]
    }
   ],
   "source": [
    "# Solution 2: Using Dictionary Comprehension\n",
    "cube_dict = {i : i**3 for i in range(1,6)}\n",
    "print(cube_dict)"
   ]
  },
  {
   "cell_type": "code",
   "execution_count": 40,
   "id": "d9a1eca0-4600-4066-bf38-82a63e927038",
   "metadata": {},
   "outputs": [
    {
     "name": "stdout",
     "output_type": "stream",
     "text": [
      "{'apple': 0, 'banana': 1, 'cherry': 2, 'date': 3, 'elderberry': 4, 'fig': 5, 'grape': 6}\n"
     ]
    }
   ],
   "source": [
    "### 7. Index Mapping:\n",
    "# Given a list of strings, create a dictionary comprehension that maps each string to its index in the list.\n",
    "# Solution 1: Using without Dictionary Comprehension\n",
    "strings = ['apple', 'banana', 'cherry', 'date', 'elderberry', 'fig', 'grape']\n",
    "index_mapping = {}\n",
    "\n",
    "for index, string in enumerate(strings):\n",
    "    index_mapping[string] = index  # Map the string to its index\n",
    "\n",
    "print(index_mapping)\n",
    "\n"
   ]
  },
  {
   "cell_type": "code",
   "execution_count": 42,
   "id": "f99bb30e-2896-4f49-86bb-a42053b6450b",
   "metadata": {},
   "outputs": [
    {
     "name": "stdout",
     "output_type": "stream",
     "text": [
      "{'apple': 0, 'banana': 1, 'cherry': 2, 'date': 3, 'elderberry': 4, 'fig': 5, 'grape': 6}\n"
     ]
    }
   ],
   "source": [
    "# Solution 2: Using Dictionary Comprehension\n",
    "strings = ['apple', 'banana', 'cherry', 'date', 'elderberry', 'fig', 'grape']\n",
    "index_mapping = {string: index for index, string in enumerate(strings)}\n",
    "print(index_mapping)\n"
   ]
  },
  {
   "cell_type": "code",
   "execution_count": 43,
   "id": "9049f84a-d9f2-4ef8-8901-00e735851d66",
   "metadata": {},
   "outputs": [
    {
     "name": "stdout",
     "output_type": "stream",
     "text": [
      "{2: 4, 4: 16, 6: 36, 8: 64, 10: 100}\n"
     ]
    }
   ],
   "source": [
    "### 8. Even Number Filter: \n",
    "# Create a dictionary comprehension that takes a list of numbers and returns a dictionary of only the even numbers as keys and their squares as values.\n",
    "# Solution 1: Using without Dictionary Comprehension\n",
    "number = [1,2,3,4,5,6,7,8,9,10]\n",
    "number_dict = {}\n",
    "for i in number:\n",
    "    if i % 2 == 0:\n",
    "        square = i**2\n",
    "        number_dict[i] = square\n",
    "\n",
    "print(number_dict)"
   ]
  },
  {
   "cell_type": "code",
   "execution_count": 45,
   "id": "0e665a73-dd8a-49f7-aa2e-1ff870d74c22",
   "metadata": {},
   "outputs": [
    {
     "name": "stdout",
     "output_type": "stream",
     "text": [
      "{2: 4, 4: 16, 6: 36, 8: 64, 10: 100}\n"
     ]
    }
   ],
   "source": [
    "# Solution 2: Using Dictionary Comprehension\n",
    "number = [1,2,3,4,5,6,7,8,9,10]\n",
    "number_dict = {i : i**2 for i in number if i % 2 == 0}\n",
    "print(number_dict)"
   ]
  },
  {
   "cell_type": "code",
   "execution_count": 46,
   "id": "e1395364-5624-4533-bef5-051bb6ac57b1",
   "metadata": {},
   "outputs": [
    {
     "name": "stdout",
     "output_type": "stream",
     "text": [
      "{'Alice': 'A', 'Bob': 'B', 'Charlie': 'C', 'David': 'D', 'Eve': 'F'}\n"
     ]
    }
   ],
   "source": [
    "### 9. Grade Mapping: \n",
    "# Given a list of student names and their scores, write a dictionary comprehension that maps each name to a letter grade based on their score (A, B, C, etc.).\n",
    "# Solution 1: Using without Dictionary Comprehension\n",
    "students = {\n",
    "    'Alice': 95,\n",
    "    'Bob': 85,\n",
    "    'Charlie': 75,\n",
    "    'David': 65,\n",
    "    'Eve': 55\n",
    "}\n",
    "\n",
    "grade_mapping = {} \n",
    "\n",
    "for name, score in students.items():\n",
    "    if score >= 90:\n",
    "        grade_mapping[name] = 'A'\n",
    "    elif score >= 80:\n",
    "        grade_mapping[name] = 'B'\n",
    "    elif score >= 70:\n",
    "        grade_mapping[name] = 'C'\n",
    "    elif score >= 60:\n",
    "        grade_mapping[name] = 'D'\n",
    "    else:\n",
    "        grade_mapping[name] = 'F'\n",
    "\n",
    "print(grade_mapping)\n"
   ]
  },
  {
   "cell_type": "code",
   "execution_count": 47,
   "id": "106bcf4a-81d5-4b69-9039-30402694d36c",
   "metadata": {},
   "outputs": [
    {
     "name": "stdout",
     "output_type": "stream",
     "text": [
      "{'Alice': 'A', 'Bob': 'B', 'Charlie': 'C', 'David': 'D', 'Eve': 'F'}\n"
     ]
    }
   ],
   "source": [
    "# Solution 2: Using Dictionary Comprehension\n",
    "students = {\n",
    "    'Alice': 95,\n",
    "    'Bob': 85,\n",
    "    'Charlie': 75,\n",
    "    'David': 65,\n",
    "    'Eve': 55\n",
    "}\n",
    "\n",
    "grade_mapping = {name: ('A' if score >= 90 else 'B' if score >= 80 else 'C' if score >= 70 else 'D' if score >= 60 else 'F') for name, score in students.items()}\n",
    "print(grade_mapping)\n"
   ]
  },
  {
   "cell_type": "code",
   "execution_count": 48,
   "id": "5994a0c0-dde1-4cb9-be4b-fe93d7771752",
   "metadata": {},
   "outputs": [
    {
     "name": "stdout",
     "output_type": "stream",
     "text": [
      "{'level': True, 'radar': True, 'hello': False, 'world': False, 'python': False, 'madam': True, 'racecar': True}\n"
     ]
    }
   ],
   "source": [
    "### 10. Palindrome Dictionary: \n",
    "# Given a list of words, create a dictionary comprehension that maps each word to a boolean indicating whether it is a palindrome.\n",
    "# Solution 1: Using without Dictionary Comprehension\n",
    "words = ['level', 'radar', 'hello', 'world', 'python', 'madam', 'racecar']\n",
    "palindrome_dict = {} \n",
    "\n",
    "for word in words:\n",
    "    is_palindrome = (word == word[::-1])  \n",
    "    palindrome_dict[word] = is_palindrome \n",
    "\n",
    "print(palindrome_dict)\n"
   ]
  },
  {
   "cell_type": "code",
   "execution_count": 50,
   "id": "165c6bf6-c2a6-45c7-af48-936a2e28c7b9",
   "metadata": {},
   "outputs": [
    {
     "name": "stdout",
     "output_type": "stream",
     "text": [
      "{'level': True, 'radar': True, 'hello': False, 'world': False, 'python': False, 'madam': True, 'racecar': True}\n"
     ]
    }
   ],
   "source": [
    "# Solution 2: Using Dictionary Comprehension\n",
    "words = ['level', 'radar', 'hello', 'world', 'python', 'madam', 'racecar']\n",
    "palindrome_dict = {word: (word == word[::-1]) for word in words}\n",
    "print(palindrome_dict)\n"
   ]
  },
  {
   "cell_type": "markdown",
   "id": "a5b36f48-0b5f-468c-8ed6-589aa292dfc2",
   "metadata": {},
   "source": [
    "### Level: Intermediate"
   ]
  },
  {
   "cell_type": "code",
   "execution_count": 60,
   "id": "c17b4393-9bfa-4fbb-8688-1f7aa8632e9d",
   "metadata": {},
   "outputs": [
    {
     "name": "stdout",
     "output_type": "stream",
     "text": [
      "Dictionary after swapping is:\n",
      "keys: values\n",
      "67  :   A\n",
      "Dictionary after swapping is:\n",
      "keys: values\n",
      "23  :   B\n",
      "Dictionary after swapping is:\n",
      "keys: values\n",
      "45  :   C\n",
      "Dictionary after swapping is:\n",
      "keys: values\n",
      "12  :   E\n",
      "Dictionary after swapping is:\n",
      "keys: values\n",
      "69  :   F\n",
      "Dictionary after swapping is:\n",
      "keys: values\n",
      "67  :   G\n",
      "Dictionary after swapping is:\n",
      "keys: values\n",
      "23  :   H\n"
     ]
    }
   ],
   "source": [
    "### 1. Inverted Dictionary: \n",
    "# Given a dictionary, write a dictionary comprehension to invert it (keys become values and values become keys).\n",
    "# Solution 1: Using without Dictionary Comprehension\n",
    "students = {'A': 67, 'B': 23, 'C': 45, 'E': 12, 'F': 69, 'G': 67, 'H': 23}\n",
    "for name, marks in students.items():\n",
    "    swap_students = dict([(marks, name) ])\n",
    "    #print(new_dict)\n",
    "\n",
    "    print(\"Dictionary after swapping is:\")\n",
    "    print(\"keys: values\")\n",
    "    for i in swap_students:\n",
    "        print(i, \" :  \", swap_students[i])"
   ]
  },
  {
   "cell_type": "code",
   "execution_count": 57,
   "id": "7531c1d8-95e7-47c6-848d-2aceaee5e40e",
   "metadata": {},
   "outputs": [
    {
     "name": "stdout",
     "output_type": "stream",
     "text": [
      "Dictionary after swapping is:\n",
      "keys: values\n",
      "67  :   G\n",
      "23  :   H\n",
      "45  :   C\n",
      "12  :   E\n",
      "69  :   F\n"
     ]
    }
   ],
   "source": [
    "# Solution 2: Using Dictionary Comprehension\n",
    "students = {'A': 67, 'B': 23, 'C': 45, 'E': 12, 'F': 69, 'G': 67, 'H': 23}\n",
    "\n",
    "swap_students = {marks: name for name, marks in students.items()}\n",
    "\n",
    "print(\"Dictionary after swapping is:\")\n",
    "print(\"keys: values\")\n",
    "for i in swap_students:\n",
    "    print(i, \" :  \", swap_students[i])\n"
   ]
  },
  {
   "cell_type": "code",
   "execution_count": 65,
   "id": "122998a9-14f7-4287-8f58-0e3a82e673f7",
   "metadata": {},
   "outputs": [
    {
     "name": "stdout",
     "output_type": "stream",
     "text": [
      "{'A': 67, 'F': 69, 'G': 67}\n"
     ]
    }
   ],
   "source": [
    "### 2. Filtered Dictionary: \n",
    "# Create a dictionary comprehension that takes an existing dictionary and returns a new dictionary containing only items where the value is greater than a specified threshold.\n",
    "# Solution 1: Using without Dictionary Comprehension\n",
    "items = {'A': 67, 'B': 23, 'C': 45, 'E': 12, 'F': 69, 'G': 67, 'H': 23}\n",
    "specified_value = 50\n",
    "new_items = {}\n",
    "for key, value in items.items():\n",
    "    if value > 50:\n",
    "        new_items[key] = value\n",
    "print(new_items)"
   ]
  },
  {
   "cell_type": "code",
   "execution_count": 67,
   "id": "89606a82-a607-426a-b82f-b0ac891d2d5a",
   "metadata": {},
   "outputs": [
    {
     "name": "stdout",
     "output_type": "stream",
     "text": [
      "{'A': 67, 'F': 69, 'G': 67}\n"
     ]
    }
   ],
   "source": [
    "# Solution 2: Using Dictionary Comprehension\n",
    "items = {'A': 67, 'B': 23, 'C': 45, 'E': 12, 'F': 69, 'G': 67, 'H': 23}\n",
    "specified_value = 50\n",
    "new_items = {key:value for key, value in items.items() if value>50}\n",
    "print(new_items)"
   ]
  },
  {
   "cell_type": "code",
   "execution_count": 68,
   "id": "4a45402b-0a9c-457f-ab31-3285f786ad5b",
   "metadata": {},
   "outputs": [
    {
     "name": "stdout",
     "output_type": "stream",
     "text": [
      "{'A': 1, 'B': 2, 'C': 3, 'D': 4}\n"
     ]
    }
   ],
   "source": [
    "### 3. Combined Dictionary: \n",
    "# Given two lists (one of keys and one of values), use a dictionary comprehension to create a dictionary that maps keys to values.\n",
    "# Solution 1: Using without Dictionary Comprehension\n",
    "keys = ['A', 'B', 'C', 'D']\n",
    "values = [1, 2, 3, 4]\n",
    "combined_dict = {}  # Initialize an empty dictionary\n",
    "\n",
    "for i in range(len(keys)):\n",
    "    combined_dict[keys[i]] = values[i]  # Map each key to its corresponding value\n",
    "\n",
    "print(combined_dict)\n"
   ]
  },
  {
   "cell_type": "code",
   "execution_count": 70,
   "id": "988d0943-29e1-485b-98b6-ac5026c5f4e8",
   "metadata": {},
   "outputs": [
    {
     "name": "stdout",
     "output_type": "stream",
     "text": [
      "{'A': 1, 'B': 2, 'C': 3, 'D': 4}\n"
     ]
    }
   ],
   "source": [
    "# Solution 2: Using Dictionary Comprehension\n",
    "keys = ['A', 'B', 'C', 'D']\n",
    "values = [1, 2, 3, 4]\n",
    "combined_dict = {keys[i]:values[i] for i in range(len(keys))}\n",
    "print(combined_dict)"
   ]
  },
  {
   "cell_type": "code",
   "execution_count": 79,
   "id": "88e58f42-0416-49f8-abae-765746df2039",
   "metadata": {},
   "outputs": [
    {
     "name": "stdout",
     "output_type": "stream",
     "text": [
      "{'l': 3, 'o': 2}\n"
     ]
    }
   ],
   "source": [
    "### 4. Character Count: \n",
    "# Write a dictionary comprehension that creates a dictionary where the keys are the characters in a string and the values are their corresponding counts, but only include characters that appear more than once.\n",
    "# Solution 1: Using without Dictionary Comprehension\n",
    "input_string = \"hello world\"\n",
    "count_char = {}\n",
    "# Count occurrences of each character\n",
    "for char in input_string:\n",
    "    if char in count_char:\n",
    "        count_char[char] += 1\n",
    "    else:\n",
    "        count_char[char] = 1\n",
    "\n",
    "# Filter to include only characters with counts greater than 1\n",
    "result_string = {}\n",
    "for char, value in count_char.items():\n",
    "    if value > 1:\n",
    "        result_string[char] = value\n",
    "print(result_string)\n"
   ]
  },
  {
   "cell_type": "code",
   "execution_count": 81,
   "id": "8a6b1503-8b85-4de9-9c4b-e89a27bfd2d8",
   "metadata": {},
   "outputs": [
    {
     "name": "stdout",
     "output_type": "stream",
     "text": [
      "{'l': 3, 'o': 2}\n"
     ]
    }
   ],
   "source": [
    "# Solution 2: Using Dictionary Comprehension\n",
    "input_string = \"hello world\"\n",
    "count_char = {char: input_string.count(char) for char in input_string}\n",
    "\n",
    "result_string = {char : value for char,value in count_char.items() if value>1}\n",
    "print(result_string)"
   ]
  },
  {
   "cell_type": "code",
   "execution_count": 83,
   "id": "cdb333ab-49eb-410f-8963-61ecad884fc3",
   "metadata": {},
   "outputs": [
    {
     "name": "stdout",
     "output_type": "stream",
     "text": [
      "{1: 1, 2: 3, 3: 6, 4: 10}\n"
     ]
    }
   ],
   "source": [
    "### 5. Cumulative Sum: \n",
    "# Create a dictionary comprehension that takes a list of numbers and produces a dictionary where the keys are the numbers and the values are their cumulative sums.\n",
    "# Solution 1: Using without Dictionary Comprehension\n",
    "numbers = [1, 2, 3, 4]\n",
    "cumulative_sum = {}\n",
    "total = 0\n",
    "\n",
    "for num in numbers:\n",
    "    total = total+num\n",
    "    cumulative_sum[num] = total\n",
    "\n",
    "print(cumulative_sum)\n",
    "    "
   ]
  },
  {
   "cell_type": "code",
   "execution_count": 85,
   "id": "f6e657e1-5d89-43c8-8377-9b931283c0d7",
   "metadata": {},
   "outputs": [
    {
     "name": "stdout",
     "output_type": "stream",
     "text": [
      "{1: 1, 2: 3, 3: 6, 4: 10}\n"
     ]
    }
   ],
   "source": [
    "# Solution 2: Using Dictionary Comprehension\n",
    "numbers = [1, 2, 3, 4]\n",
    "total = 0\n",
    "cumulative_sum = {num : (total := total+num) for num in numbers}\n",
    "print(cumulative_sum)"
   ]
  },
  {
   "cell_type": "code",
   "execution_count": 88,
   "id": "ae6e559d-0e99-49ab-9a89-7e9d60bc461d",
   "metadata": {},
   "outputs": [
    {
     "name": "stdout",
     "output_type": "stream",
     "text": [
      "{'Alice': ('age:', 30), 'Bob': ('age:', 25), 'Charlie': ('age:', 35)}\n"
     ]
    }
   ],
   "source": [
    "### 6. Nested Dictionary: \n",
    "# Write a dictionary comprehension that creates a nested dictionary from a list of tuples, where each tuple contains a person's name and age. The name is the key and the value is another dictionary with age.\n",
    "# Solution 1: Using without Dictionary Comprehension\n",
    "people = [('Alice', 30), ('Bob', 25), ('Charlie', 35)]\n",
    "nested_dict = {}\n",
    "for name, age in people:\n",
    "    nested_dict[name] = ('age:', age)\n",
    "print(nested_dict)"
   ]
  },
  {
   "cell_type": "code",
   "execution_count": 89,
   "id": "96f89c09-32d6-42eb-982d-d57a70807b35",
   "metadata": {},
   "outputs": [
    {
     "name": "stdout",
     "output_type": "stream",
     "text": [
      "{'Alice': ('age:', 30), 'Bob': ('age:', 25), 'Charlie': ('age:', 35)}\n"
     ]
    }
   ],
   "source": [
    "# Solution 2: Using  Dictionary Comprehension\n",
    "people = [('Alice', 30), ('Bob', 25), ('Charlie', 35)]\n",
    "nested_dict = {name: ('age:', age) for name, age in people}\n",
    "print(nested_dict)"
   ]
  },
  {
   "cell_type": "code",
   "execution_count": 93,
   "id": "1abbb434-1b0f-4fe4-ae05-08a3c74dd402",
   "metadata": {},
   "outputs": [
    {
     "name": "stdout",
     "output_type": "stream",
     "text": [
      "{3: 2, 4: 1, 5: 1}\n"
     ]
    }
   ],
   "source": [
    "### 7. Common Elements: \n",
    "# Given two lists, use a dictionary comprehension to create a dictionary where keys are the elements that appear in both lists and values are their counts.\n",
    "# Solution 1: Using without Dictionary Comprehension\n",
    "list1 = [1, 2, 3, 4, 5, 2, 3]\n",
    "list2 = [3, 4, 5, 5, 6, 3]\n",
    "combined_list = {}\n",
    "for num in list1:\n",
    "    if num in list2:\n",
    "        if num in combined_list:\n",
    "            combined_list[num] += 1\n",
    "        else:\n",
    "            combined_list[num] = 1\n",
    "\n",
    "print(combined_list)"
   ]
  },
  {
   "cell_type": "code",
   "execution_count": 94,
   "id": "7e4f73a9-0ef7-4752-bf3a-214a9c844bc1",
   "metadata": {},
   "outputs": [
    {
     "name": "stdout",
     "output_type": "stream",
     "text": [
      "{3: 2, 4: 1, 5: 1}\n"
     ]
    }
   ],
   "source": [
    "# Solution 2: Using Dictionary Comprehension\n",
    "list1 = [1, 2, 3, 4, 5, 2, 3]\n",
    "list2 = [3, 4, 5, 5, 6, 3]\n",
    "\n",
    "# Create the dictionary using dictionary comprehension\n",
    "combined_list = {num: list1.count(num) for num in set(list1) if num in list2}\n",
    "\n",
    "print(combined_list)"
   ]
  },
  {
   "cell_type": "code",
   "execution_count": 102,
   "id": "8d22fab5-310d-49ed-acc2-7db35d65eb47",
   "metadata": {},
   "outputs": [
    {
     "name": "stdout",
     "output_type": "stream",
     "text": [
      "{'apple': 1, 'avocado': 3}\n"
     ]
    }
   ],
   "source": [
    "### 8. Filtered Keys: \n",
    "# Create a dictionary comprehension that takes an existing dictionary and returns a new dictionary containing only keys that start with a specific letter.\n",
    "# Solution 1: Using without Dictionary Comprehension\n",
    "original_dict = {'apple': 1, 'banana': 2, 'avocado': 3, 'berry': 4}\n",
    "specific_letter = 'a'\n",
    "new_dict = {}\n",
    "\n",
    "for name, num in original_dict.items():\n",
    "    if name.startswith(specific_letter):\n",
    "        new_dict[name] = num\n",
    "print(new_dict)"
   ]
  },
  {
   "cell_type": "code",
   "execution_count": 103,
   "id": "b3f7988b-b762-4e96-bd92-c8f981ab48dd",
   "metadata": {},
   "outputs": [
    {
     "name": "stdout",
     "output_type": "stream",
     "text": [
      "{'apple': 1, 'avocado': 3}\n"
     ]
    }
   ],
   "source": [
    "# Solution 2: Using Dictionary Comprehension\n",
    "original_dict = {'apple': 1, 'banana': 2, 'avocado': 3, 'berry': 4}\n",
    "specific_letter = 'a'\n",
    "\n",
    "new_dict = {name: num for name, num in original_dict.items() if name.startswith(specific_letter)}\n",
    "\n",
    "print(new_dict)\n"
   ]
  },
  {
   "cell_type": "code",
   "execution_count": 107,
   "id": "56283d9d-4bd3-403f-af3d-33f016bf72db",
   "metadata": {},
   "outputs": [
    {
     "name": "stdout",
     "output_type": "stream",
     "text": [
      "{'hat': 1, 'cat': 1, 'mat': 1, 'the': 3, 'sat': 1, 'on': 1, 'in': 1}\n"
     ]
    }
   ],
   "source": [
    "### 9. Word Occurrences: \n",
    "# Write a dictionary comprehension that counts the occurrences of each word in a given sentence and returns a dictionary of word counts.\n",
    "# Solution 1: Using without Dictionary Comprehension\n",
    "sentence = \"the cat in the hat sat on the mat\"\n",
    "word_counts = {}\n",
    "for word in set(sentence.split()):\n",
    "    word_counts[word] = sentence.split().count(word)\n",
    "\n",
    "print(word_counts)\n"
   ]
  },
  {
   "cell_type": "code",
   "execution_count": 109,
   "id": "3e382a62-714e-4819-8bf1-0b3e58aeb64a",
   "metadata": {},
   "outputs": [
    {
     "name": "stdout",
     "output_type": "stream",
     "text": [
      "{'hat': 1, 'cat': 1, 'mat': 1, 'the': 3, 'sat': 1, 'on': 1, 'in': 1}\n"
     ]
    }
   ],
   "source": [
    "# Solution 2: Using Dictionary Comprehension\n",
    "sentence = \"the cat in the hat sat on the mat\"\n",
    "\n",
    "# Split the sentence into words and count occurrences\n",
    "word_counts = {word: sentence.split().count(word) for word in set(sentence.split())}\n",
    "\n",
    "print(word_counts)\n"
   ]
  },
  {
   "cell_type": "code",
   "execution_count": 111,
   "id": "493679b1-9565-4a2a-8184-313beb22bbed",
   "metadata": {},
   "outputs": [
    {
     "name": "stdout",
     "output_type": "stream",
     "text": [
      "{32: 33, 1: 2, 2: 3, 3: 4, 33: 34, 100: 101, 79: 80, 20: 21, 22: 23}\n"
     ]
    }
   ],
   "source": [
    "### 10. Increment Values: \n",
    "# Given a dictionary where values are integers, create a dictionary comprehension that increments each value by 1.\n",
    "# Solution 1: Using without Dictionary Comprehension\n",
    "number = {1, 2, 3, 32, 33, 22, 20, 100, 79}\n",
    "new_dict = {}\n",
    "for i in number:\n",
    "    increment = i+1\n",
    "    new_dict[i] = increment\n",
    "\n",
    "print(new_dict)\n",
    "    "
   ]
  },
  {
   "cell_type": "code",
   "execution_count": 112,
   "id": "6d9f3c68-4e5e-4eca-9dbd-9a4e2f44e1b2",
   "metadata": {},
   "outputs": [
    {
     "name": "stdout",
     "output_type": "stream",
     "text": [
      "{32: 33, 1: 2, 2: 3, 3: 4, 33: 34, 100: 101, 79: 80, 20: 21, 22: 23}\n"
     ]
    }
   ],
   "source": [
    "# Solution 2: Using Dictionary Comprehension\n",
    "number = {1, 2, 3, 32, 33, 22, 20, 100, 79}\n",
    "new_dict = {i : i+1 for i in number}\n",
    "print(new_dict)"
   ]
  },
  {
   "cell_type": "code",
   "execution_count": null,
   "id": "2a997994-de0f-4c0f-bee4-bedbd8237a68",
   "metadata": {},
   "outputs": [],
   "source": []
  }
 ],
 "metadata": {
  "kernelspec": {
   "display_name": "Python 3 (ipykernel)",
   "language": "python",
   "name": "python3"
  },
  "language_info": {
   "codemirror_mode": {
    "name": "ipython",
    "version": 3
   },
   "file_extension": ".py",
   "mimetype": "text/x-python",
   "name": "python",
   "nbconvert_exporter": "python",
   "pygments_lexer": "ipython3",
   "version": "3.12.4"
  }
 },
 "nbformat": 4,
 "nbformat_minor": 5
}
