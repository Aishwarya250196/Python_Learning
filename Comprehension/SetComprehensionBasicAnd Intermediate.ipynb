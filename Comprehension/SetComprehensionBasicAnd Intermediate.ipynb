{
 "cells": [
  {
   "cell_type": "markdown",
   "id": "a6020e7e-f3db-4dd1-93e4-b31645dcf8f1",
   "metadata": {},
   "source": [
    "### Level: Basic"
   ]
  },
  {
   "cell_type": "code",
   "execution_count": 7,
   "id": "c2654630-8636-415a-b6d9-08e2568bff69",
   "metadata": {},
   "outputs": [
    {
     "name": "stdout",
     "output_type": "stream",
     "text": [
      "{64, 1, 4, 36, 100, 9, 16, 49, 81, 25}\n"
     ]
    }
   ],
   "source": [
    "### 1. Unique Squares: \n",
    "# Create a set comprehension that generates a set of squares for numbers from 1 to 10.\n",
    "# Solution 1: Using without set comprehension\n",
    "square_set = set()\n",
    "for i in range(1, 11):\n",
    "    square_set.add(i**2)\n",
    "print(square_set)"
   ]
  },
  {
   "cell_type": "code",
   "execution_count": 10,
   "id": "c0bf6799-f82e-4a11-a28d-d4986c00e9ad",
   "metadata": {},
   "outputs": [
    {
     "name": "stdout",
     "output_type": "stream",
     "text": [
      "[1, 4, 9, 16, 25, 36, 49, 64, 81, 100]\n"
     ]
    }
   ],
   "source": [
    "# Solution 2: Using set comprehension\n",
    "square_set = {i**2 for i in range(1, 11)}\n",
    "print(square_set)"
   ]
  },
  {
   "cell_type": "code",
   "execution_count": 16,
   "id": "ce96b531-67ed-4820-8c68-534002a61271",
   "metadata": {},
   "outputs": [
    {
     "name": "stdout",
     "output_type": "stream",
     "text": [
      "{'o', 'e'}\n"
     ]
    }
   ],
   "source": [
    "### 2. Vowel Filter: \n",
    "# Given a string, write a set comprehension to extract all the unique vowels from that string.\n",
    "# Solution 1: Using without set comprehension\n",
    "string = \"Hello World\"\n",
    "vowel = vowel = \"aeiouAEIOU\"\n",
    "set_of_vowel_in_string = set()\n",
    "for letter in string:\n",
    "    if letter in vowel:\n",
    "        set_of_vowel_in_string.add(letter)\n",
    "print(set_of_vowel_in_string)"
   ]
  },
  {
   "cell_type": "code",
   "execution_count": 18,
   "id": "da22b5ea-ac11-4e00-9350-5be0f0008143",
   "metadata": {},
   "outputs": [
    {
     "name": "stdout",
     "output_type": "stream",
     "text": [
      "{'o', 'e'}\n"
     ]
    }
   ],
   "source": [
    "# Solution 2: Using set comprehension\n",
    "string = \"Hello World\"\n",
    "vowel = vowel = \"aeiouAEIOU\"\n",
    "set_of_vowel_in_string = {letter for letter in string if letter in vowel}\n",
    "print(set_of_vowel_in_string)"
   ]
  },
  {
   "cell_type": "code",
   "execution_count": 19,
   "id": "a0f44e8f-639d-464f-bed2-2062b3fedb56",
   "metadata": {},
   "outputs": [
    {
     "name": "stdout",
     "output_type": "stream",
     "text": [
      "{1, 3, 5, 7, 9, 11, 13, 15, 17, 19}\n"
     ]
    }
   ],
   "source": [
    "### 3. Odd Numbers:\n",
    "# Use set comprehension to create a set of all odd numbers between 1 and 20.\n",
    "# Solution 1: Using without set comprehension\n",
    "odd_number = set()\n",
    "for i in range(1, 21):\n",
    "    if i % 2 != 0:\n",
    "        odd_number.add(i)\n",
    "print(odd_number)"
   ]
  },
  {
   "cell_type": "code",
   "execution_count": 21,
   "id": "8c9156ff-b352-40df-964f-de5426847eba",
   "metadata": {},
   "outputs": [
    {
     "name": "stdout",
     "output_type": "stream",
     "text": [
      "{1, 3, 5, 7, 9, 11, 13, 15, 17, 19}\n"
     ]
    }
   ],
   "source": [
    "# Solution 2: Using set comprehension\n",
    "odd_number = {i for i in range(1, 21) if i%2 != 0}\n",
    "print(odd_number)"
   ]
  },
  {
   "cell_type": "code",
   "execution_count": 22,
   "id": "28fbff19-05cb-4042-9235-05f00a7964cc",
   "metadata": {},
   "outputs": [
    {
     "name": "stdout",
     "output_type": "stream",
     "text": [
      "{5, 6}\n"
     ]
    }
   ],
   "source": [
    "### 4. String Lengths: \n",
    "# Given a list of strings, write a set comprehension that creates a set containing the lengths of each string.\n",
    "# Solution 1: Using without set comprehension\n",
    "string = {\"apple\", \"banana\", \"cherry\"}\n",
    "string_length = set()\n",
    "for i in string:\n",
    "    string_length.add(len(i))\n",
    "print(string_length)   # (5 for \"apple\" and 6 for \"banana\" and \"cherry\")"
   ]
  },
  {
   "cell_type": "code",
   "execution_count": 23,
   "id": "83e679c0-c103-43cb-9420-dfe33f451680",
   "metadata": {},
   "outputs": [
    {
     "name": "stdout",
     "output_type": "stream",
     "text": [
      "{5, 6}\n"
     ]
    }
   ],
   "source": [
    "# Solution 2: Using set comprehension\n",
    "string = {\"apple\", \"banana\", \"cherry\"}\n",
    "string_length = {len(i) for i in string}\n",
    "print(string_length)   # (5 for \"apple\" and 6 for \"banana\" and \"cherry\")"
   ]
  },
  {
   "cell_type": "code",
   "execution_count": 35,
   "id": "31b69e83-87fa-4fce-b69c-83a39f96551d",
   "metadata": {},
   "outputs": [
    {
     "name": "stdout",
     "output_type": "stream",
     "text": [
      "{1, 2, 3, 4, 5, 6, 7, 8, 9, 10}\n"
     ]
    }
   ],
   "source": [
    "### 5. Duplicate Removal: \n",
    "# Create a set comprehension that takes a list of numbers and returns a set with duplicates removed\n",
    "# Solution 1: Using without set comprehension\n",
    "numberlist = [1, 2, 3, 4, 2, 3, 1, 4, 2, 5, 6 ,7 , 7, 6, 5, 8 ,9, 10]\n",
    "number_set = set()\n",
    "for i in numberlist:\n",
    "        number_set.add(i)\n",
    "print(number_set)"
   ]
  },
  {
   "cell_type": "code",
   "execution_count": 37,
   "id": "145f1c4d-260c-47fa-85df-1bfc55587e8d",
   "metadata": {},
   "outputs": [
    {
     "name": "stdout",
     "output_type": "stream",
     "text": [
      "{1, 2, 3, 4, 5, 6, 7, 8, 9, 10}\n"
     ]
    }
   ],
   "source": [
    "# Solution 2: Using set comprehension\n",
    "numberlist = [1, 2, 3, 4, 2, 3, 1, 4, 2, 5, 6 ,7 , 7, 6, 5, 8 ,9, 10]\n",
    "number_set= {i for i in numberlist}\n",
    "print(number_set)"
   ]
  },
  {
   "cell_type": "code",
   "execution_count": 38,
   "id": "78862ead-941f-437d-8ef0-10d22aa9740e",
   "metadata": {},
   "outputs": [
    {
     "name": "stdout",
     "output_type": "stream",
     "text": [
      "{'W', 'H'}\n"
     ]
    }
   ],
   "source": [
    "### 6. Uppercase Letters: \n",
    "# Given a string, use set comprehension to create a set of all unique uppercase letters.\n",
    "# Solution 1: Using without set comprehension\n",
    "string = \"Hello World\"\n",
    "uppercase_letters = set()\n",
    "\n",
    "for letter in string:\n",
    "    if letter.isupper():\n",
    "        uppercase_letters.add(letter)\n",
    "\n",
    "print(uppercase_letters)\n"
   ]
  },
  {
   "cell_type": "code",
   "execution_count": 40,
   "id": "4b94fe98-dd17-40df-a58e-5e0f2fa0803e",
   "metadata": {},
   "outputs": [
    {
     "name": "stdout",
     "output_type": "stream",
     "text": [
      "{'W', 'H'}\n"
     ]
    }
   ],
   "source": [
    "# Solution 2: Using set comprehension\n",
    "string = \"Hello World\"\n",
    "uppercase_letters = {letter for letter in string if letter.isupper()}\n",
    "print(uppercase_letters)"
   ]
  },
  {
   "cell_type": "code",
   "execution_count": 41,
   "id": "41dcac22-c16c-4412-9563-b927d7e60f37",
   "metadata": {},
   "outputs": [
    {
     "name": "stdout",
     "output_type": "stream",
     "text": [
      "{2, 3, 5, 7, 11, 13, 17, 19, 23, 29}\n"
     ]
    }
   ],
   "source": [
    "### 7. Prime Number Set: \n",
    "# Create a set comprehension to generate a set of prime numbers between 1 and 30.\n",
    "# Solution 1: Using without set comprehension\n",
    "prime_set = set()\n",
    "\n",
    "for n in range(2, 31):\n",
    "    is_prime = True \n",
    "\n",
    "    for i in range(2, int(n**0.5) + 1): \n",
    "        if n % i == 0: \n",
    "            is_prime = False \n",
    "            break  \n",
    "\n",
    "    if is_prime:  \n",
    "        prime_set.add(n)  \n",
    "\n",
    "print(prime_set)\n"
   ]
  },
  {
   "cell_type": "code",
   "execution_count": 42,
   "id": "57dc586e-f3a4-420a-9598-502ef45c9f39",
   "metadata": {},
   "outputs": [
    {
     "name": "stdout",
     "output_type": "stream",
     "text": [
      "{2, 3, 5, 7, 11, 13, 17, 19, 23, 29}\n"
     ]
    }
   ],
   "source": [
    "# Solution 2: Using set comprehension\n",
    "prime_set = {n for n in range(2, 31) if all(n % i != 0 for i in range(2, int(n**0.5) + 1))}\n",
    "print(prime_set)\n"
   ]
  },
  {
   "cell_type": "code",
   "execution_count": 47,
   "id": "9e6455fb-7f29-4cf7-9aab-fffcdbb5bcfc",
   "metadata": {},
   "outputs": [
    {
     "name": "stdout",
     "output_type": "stream",
     "text": [
      "{'Vishal', 'Arush', 'Arjit'}\n"
     ]
    }
   ],
   "source": [
    "### 8. Length Filter: \n",
    "# Given a list of words, write a set comprehension that returns a set of words longer than 4 letters.\n",
    "# Solution 1: Using without set comprehension\n",
    "names = ['Raj', 'Arush', 'Ajay', 'Vishal', 'Boby', 'Arjit' ]\n",
    "longletter = set()\n",
    "for letter in names:\n",
    "    if len(letter) > 4:\n",
    "        longletter.add(letter)\n",
    "print(longletter)"
   ]
  },
  {
   "cell_type": "code",
   "execution_count": 49,
   "id": "7f5d1d2a-4186-4b8e-8039-4a39510fe017",
   "metadata": {},
   "outputs": [
    {
     "name": "stdout",
     "output_type": "stream",
     "text": [
      "{'Vishal', 'Arush', 'Arjit'}\n"
     ]
    }
   ],
   "source": [
    "# Solution 2: Using set comprehension\n",
    "names = ['Raj', 'Arush', 'Ajay', 'Vishal', 'Boby', 'Arjit' ]\n",
    "longletter = {letter for letter in names if len(letter) > 4}\n",
    "print(longletter)"
   ]
  },
  {
   "cell_type": "code",
   "execution_count": 50,
   "id": "7e07cec7-1a7f-412d-a2ba-a02a190fcad7",
   "metadata": {},
   "outputs": [
    {
     "name": "stdout",
     "output_type": "stream",
     "text": [
      "{98, 35, 70, 7, 42, 77, 14, 49, 84, 21, 56, 91, 28, 63}\n"
     ]
    }
   ],
   "source": [
    "### 9. Multiples of Seven: \n",
    "# Use set comprehension to create a set of multiples of 7 from 1 to 100.\n",
    "# Solution 1: Using without set comprehension\n",
    "seven_multiple = set()\n",
    "for i in range(1, 101):\n",
    "    if i%7 == 0:\n",
    "        seven_multiple.add(i)\n",
    "\n",
    "print(seven_multiple)"
   ]
  },
  {
   "cell_type": "code",
   "execution_count": 51,
   "id": "95513f63-8fb6-4685-8deb-c8d1011dd6d4",
   "metadata": {},
   "outputs": [
    {
     "name": "stdout",
     "output_type": "stream",
     "text": [
      "{98, 35, 70, 7, 42, 77, 14, 49, 84, 21, 56, 91, 28, 63}\n"
     ]
    }
   ],
   "source": [
    "# Solution 2: Using set comprehension\n",
    "seven_multiple = {i for i in range(1, 101) if i%7 ==0}\n",
    "print(seven_multiple)"
   ]
  },
  {
   "cell_type": "code",
   "execution_count": 53,
   "id": "5b6241ca-93d8-46bd-a8d9-a87b1b042458",
   "metadata": {},
   "outputs": [
    {
     "name": "stdout",
     "output_type": "stream",
     "text": [
      "{'l', 'o'}\n"
     ]
    }
   ],
   "source": [
    "### 10. Frequency Count: \n",
    "# Given a string, create a set comprehension to generate a set of unique characters that appear more than once.\n",
    "# Solution 1: Using without set comprehension\n",
    "string = \"Hello World\"\n",
    "duplicate_chars = set()\n",
    "\n",
    "for char in string:\n",
    "    if string.count(char) > 1:  # Check if the character appears more than once\n",
    "        duplicate_chars.add(char)\n",
    "\n",
    "print(duplicate_chars)\n"
   ]
  },
  {
   "cell_type": "code",
   "execution_count": 54,
   "id": "fc002edd-fed3-4c32-a411-a4f7b5eca05c",
   "metadata": {},
   "outputs": [
    {
     "name": "stdout",
     "output_type": "stream",
     "text": [
      "{'l', 'o'}\n"
     ]
    }
   ],
   "source": [
    "# Solution 2: Using set comprehension\n",
    "string = \"Hello World\"\n",
    "duplicate_chars = {char for char in string if string.count(char) > 1}\n",
    "print(duplicate_chars)"
   ]
  },
  {
   "cell_type": "markdown",
   "id": "cf42ffda-3e4f-43ac-9392-489c31652f60",
   "metadata": {},
   "source": [
    "### Level: Intermediate"
   ]
  },
  {
   "cell_type": "code",
   "execution_count": 56,
   "id": "36953365-b847-41c0-8f9e-c1b7516978e6",
   "metadata": {},
   "outputs": [
    {
     "name": "stdout",
     "output_type": "stream",
     "text": [
      "{'cherry', 'fig', 'banana'}\n"
     ]
    }
   ],
   "source": [
    "### 1. Common Elements: \n",
    "# Given two lists, use set comprehension to create a set of common elements between them.\n",
    "# Solution 1: Using without set comprehension\n",
    "fruits1 = ['apple', 'banana', 'cherry', 'date', 'fig']\n",
    "fruits2 = ['banana', 'cherry', 'grape', 'kiwi', 'fig']\n",
    "common_fruit = set()\n",
    "for f in fruits1:\n",
    "    if f in fruits2:\n",
    "        common_fruit.add(f)\n",
    "\n",
    "print(common_fruit)"
   ]
  },
  {
   "cell_type": "code",
   "execution_count": 57,
   "id": "31f106f4-03a7-40e8-9215-d440faaa9e59",
   "metadata": {},
   "outputs": [
    {
     "name": "stdout",
     "output_type": "stream",
     "text": [
      "['banana', 'cherry', 'fig']\n"
     ]
    }
   ],
   "source": [
    "# Solution 2: Using set comprehension\n",
    "fruits1 = ['apple', 'banana', 'cherry', 'date', 'fig']\n",
    "fruits2 = ['banana', 'cherry', 'grape', 'kiwi', 'fig']\n",
    "common_fruit = [f for f in fruits1 if f in fruits2]\n",
    "print(common_fruit)"
   ]
  },
  {
   "cell_type": "code",
   "execution_count": 58,
   "id": "04029bae-5052-4300-8dea-613b569bc8e0",
   "metadata": {},
   "outputs": [
    {
     "name": "stdout",
     "output_type": "stream",
     "text": [
      "{45, 30, 15}\n"
     ]
    }
   ],
   "source": [
    "### 2. Divisibility: \n",
    "# Write a set comprehension that generates a set of numbers between 1 and 50 that are divisible by both 3 and 5.\n",
    "# Solution 1: Using without set comprehension\n",
    "devisible_value = set()\n",
    "for i in range(1, 51):\n",
    "    if i%3 == 0 and i%5 == 0:\n",
    "        devisible_value.add(i)\n",
    "\n",
    "print(devisible_value)"
   ]
  },
  {
   "cell_type": "code",
   "execution_count": 63,
   "id": "44c552be-89c6-4a9b-9639-51ef8a0083b4",
   "metadata": {},
   "outputs": [
    {
     "name": "stdout",
     "output_type": "stream",
     "text": [
      "{45, 30, 15}\n"
     ]
    }
   ],
   "source": [
    "# Solution 2: Using set comprehension\n",
    "devisible_value = {i for i in range(1, 51) if i%3==0 and i%5==0}\n",
    "print(devisible_value)"
   ]
  },
  {
   "cell_type": "code",
   "execution_count": 62,
   "id": "e2322687-a17a-4da0-a539-9343600d6143",
   "metadata": {},
   "outputs": [
    {
     "name": "stdout",
     "output_type": "stream",
     "text": [
      "{',', 'h', '.', 'i', 'c', 'W', 'a', 'o', 'e', 'd', 's', 'm', 'H', 'p', 'n', 'r', 'l', 't'}\n"
     ]
    }
   ],
   "source": [
    "### 3. Character Set: \n",
    "# Create a set comprehension that generates a set of unique characters from a given sentence, excluding spaces.\n",
    "# Solution 1: Using without set comprehension\n",
    "sentence = \"Hello World, this is a sample sentence.\"\n",
    "unique_chars = set()\n",
    "for char in sentence:\n",
    "    if char != ' ':\n",
    "        unique_chars.add(char)\n",
    "print(unique_chars)"
   ]
  },
  {
   "cell_type": "code",
   "execution_count": 64,
   "id": "40332be4-0ef6-4289-a956-0ffc2338ebf9",
   "metadata": {},
   "outputs": [
    {
     "name": "stdout",
     "output_type": "stream",
     "text": [
      "{',', 'h', '.', 'i', 'c', 'W', 'a', 'o', 'e', 'd', 's', 'm', 'H', 'p', 'n', 'r', 'l', 't'}\n"
     ]
    }
   ],
   "source": [
    "# Solution 2: Using set comprehension\n",
    "sentence = \"Hello World, this is a sample sentence.\"\n",
    "unique_chars = {char for char in sentence if char != ' '}\n",
    "print(unique_chars)"
   ]
  },
  {
   "cell_type": "code",
   "execution_count": 65,
   "id": "e3f43197-8cbb-4318-942b-c562d4130bc3",
   "metadata": {},
   "outputs": [
    {
     "name": "stdout",
     "output_type": "stream",
     "text": [
      "{4, 5, 6, 8, 10, 12, 15, 18}\n"
     ]
    }
   ],
   "source": [
    "### 4. Product Set: \n",
    "# Given two lists of numbers, use set comprehension to create a set of all possible products between elements from the two lists.\n",
    "# Solution 1: Using without set comprehension\n",
    "list1 = [1, 2, 3]\n",
    "list2 = [4, 5, 6]\n",
    "product_set = set()\n",
    "\n",
    "for num1 in list1:\n",
    "    for num2 in list2:\n",
    "        product_set.add(num1 * num2)\n",
    "\n",
    "print(product_set)\n"
   ]
  },
  {
   "cell_type": "code",
   "execution_count": 66,
   "id": "91c046c7-99f4-49e7-af8e-7aae0351c926",
   "metadata": {},
   "outputs": [
    {
     "name": "stdout",
     "output_type": "stream",
     "text": [
      "{4, 5, 6, 8, 10, 12, 15, 18}\n"
     ]
    }
   ],
   "source": [
    "# Solution 2: Using set comprehension\n",
    "list1 = [1, 2, 3]\n",
    "list2 = [4, 5, 6]\n",
    "product_set = {num1 * num2 for num1 in list1 for num2 in list2}\n",
    "print(product_set)"
   ]
  },
  {
   "cell_type": "code",
   "execution_count": 67,
   "id": "57ee3f47-cf3d-4420-9ac7-9feecc02e0ae",
   "metadata": {},
   "outputs": [
    {
     "name": "stdout",
     "output_type": "stream",
     "text": [
      "{(2, 4), (4, 16), (1, 1), (3, 9), (5, 25)}\n"
     ]
    }
   ],
   "source": [
    "### 5. Nested Comprehension: \n",
    "# Write a set comprehension that creates a set of tuples, where each tuple contains a number from 1 to 5 and its corresponding square.\n",
    "# Solution 1: Using without set comprehension\n",
    "number_square_set = set()\n",
    "\n",
    "for i in range(1, 6):\n",
    "    number_square_set.add((i, i ** 2))\n",
    "\n",
    "print(number_square_set)\n"
   ]
  },
  {
   "cell_type": "code",
   "execution_count": 69,
   "id": "53698995-9fc5-4947-b011-b7cdc14b673e",
   "metadata": {},
   "outputs": [
    {
     "name": "stdout",
     "output_type": "stream",
     "text": [
      "{(2, 4), (4, 16), (1, 1), (3, 9), (5, 25)}\n"
     ]
    }
   ],
   "source": [
    "# Solution 2: Using set comprehension\n",
    "number_square_set = {(i, i**2) for i in range(1,6)}\n",
    "print(number_square_set)"
   ]
  },
  {
   "cell_type": "code",
   "execution_count": 73,
   "id": "ed4cc9f2-e975-4731-b341-e6c0e908a282",
   "metadata": {},
   "outputs": [
    {
     "name": "stdout",
     "output_type": "stream",
     "text": [
      "{(2, 'a'), (1, 'c'), (3, 'a'), (2, 'b'), (1, 'a'), (3, 'c'), (3, 'b'), (2, 'c'), (1, 'b')}\n"
     ]
    }
   ],
   "source": [
    "### 6. Cartesian Product:\n",
    "# Given two sets, use set comprehension to create a set of tuples representing their Cartesian product.\n",
    "# Solution 1: Using without set comprehension\n",
    "set1 = {1, 2, 3}\n",
    "set2 = {'a', 'b', 'c'}\n",
    "cartesian_product = set()\n",
    "for x in set1:\n",
    "    for y in set2:\n",
    "        cartesian_product.add((x, y))\n",
    "print(cartesian_product)"
   ]
  },
  {
   "cell_type": "code",
   "execution_count": 75,
   "id": "2da4a210-2eeb-4f2a-8efa-e375469bb6d0",
   "metadata": {},
   "outputs": [
    {
     "name": "stdout",
     "output_type": "stream",
     "text": [
      "{(2, 'a'), (1, 'c'), (3, 'a'), (2, 'b'), (1, 'a'), (3, 'c'), (3, 'b'), (2, 'c'), (1, 'b')}\n"
     ]
    }
   ],
   "source": [
    "# Solution 2: Using set comprehension\n",
    "set1 = {1, 2, 3}\n",
    "set2 = {'a', 'b', 'c'}\n",
    "cartesian_product = {(x, y) for x in set1 for y in set2}\n",
    "print(cartesian_product)"
   ]
  },
  {
   "cell_type": "code",
   "execution_count": 78,
   "id": "38861b01-0e59-4bd3-b3fe-b0c792a2d4d7",
   "metadata": {},
   "outputs": [
    {
     "name": "stdout",
     "output_type": "stream",
     "text": [
      "{3, 4, 5}\n"
     ]
    }
   ],
   "source": [
    "### 7. Word Character Count: \n",
    "# Write a set comprehension that takes a list of words and returns a set of the counts of unique characters in each word.\n",
    "# Solution 1: Using without set comprehension\n",
    "words = ['apple', 'banana', 'cherry', 'date']\n",
    "unique_char_counts = set()\n",
    "for word in words:\n",
    "    unique_count = len(set(word)) \n",
    "    unique_char_counts.add(unique_count) \n",
    "print(unique_char_counts)\n"
   ]
  },
  {
   "cell_type": "code",
   "execution_count": 77,
   "id": "a29b57fa-8b00-4e58-864d-6076cdc40039",
   "metadata": {},
   "outputs": [
    {
     "name": "stdout",
     "output_type": "stream",
     "text": [
      "{3, 4, 5}\n"
     ]
    }
   ],
   "source": [
    "# Solution 2: Using set comprehension\n",
    "words = ['apple', 'banana', 'cherry', 'date']\n",
    "unique_char_counts = {len(set(word)) for word in words}\n",
    "print(unique_char_counts)\n"
   ]
  },
  {
   "cell_type": "code",
   "execution_count": 79,
   "id": "f4c147ee-4b75-492b-9bed-f825c3ee14c1",
   "metadata": {},
   "outputs": [
    {
     "name": "stdout",
     "output_type": "stream",
     "text": [
      "{64, 256, 100, 4, 36, 196, 324, 16, 144, 400}\n"
     ]
    }
   ],
   "source": [
    "### 8. Filtered Squares: \n",
    "# Create a set comprehension that generates the squares of even numbers between 1 and 20.\n",
    "# Solution 1: Using without set comprehension\n",
    "squares_of_evens = set() \n",
    "\n",
    "for i in range(1, 21):\n",
    "    if i % 2 == 0: \n",
    "        squares_of_evens.add(i ** 2)\n",
    "\n",
    "print(squares_of_evens)\n"
   ]
  },
  {
   "cell_type": "code",
   "execution_count": 80,
   "id": "3d188a77-bd0b-4039-8937-eaddc861eba2",
   "metadata": {},
   "outputs": [
    {
     "name": "stdout",
     "output_type": "stream",
     "text": [
      "{64, 256, 100, 4, 36, 196, 324, 16, 144, 400}\n"
     ]
    }
   ],
   "source": [
    "# Solution 2: Using set comprehension\n",
    "squares_of_evens = {i ** 2 for i in range(1, 21) if i % 2 == 0}\n",
    "print(squares_of_evens)\n"
   ]
  },
  {
   "cell_type": "code",
   "execution_count": 81,
   "id": "57f80eca-5de5-42b3-b71f-d1163c6bc1da",
   "metadata": {},
   "outputs": [
    {
     "name": "stdout",
     "output_type": "stream",
     "text": [
      "{1, 2, 3, 6, 7, 8}\n"
     ]
    }
   ],
   "source": [
    "### 9. Set Intersection:\n",
    "# Given two sets of numbers, write a set comprehension to create a set of numbers that are in either of the sets but not both (symmetric difference).\n",
    "# Solution 1: Using without set comprehension\n",
    "set1 = {1, 2, 3, 4, 5}\n",
    "set2 = {4, 5, 6, 7, 8}\n",
    "symmetric_difference = set()\n",
    "\n",
    "for num in set1:\n",
    "    if num not in set2:\n",
    "        symmetric_difference.add(num)\n",
    "\n",
    "for num in set2:\n",
    "    if num not in set1:\n",
    "        symmetric_difference.add(num)\n",
    "\n",
    "print(symmetric_difference)\n"
   ]
  },
  {
   "cell_type": "code",
   "execution_count": 82,
   "id": "2f04dac9-13f0-4a16-8877-25f85faf7be1",
   "metadata": {},
   "outputs": [
    {
     "name": "stdout",
     "output_type": "stream",
     "text": [
      "{1, 2, 3, 6, 7, 8}\n"
     ]
    }
   ],
   "source": [
    "# Solution 2: Using set comprehension\n",
    "set1 = {1, 2, 3, 4, 5}\n",
    "set2 = {4, 5, 6, 7, 8}\n",
    "symmetric_difference = {num for num in set1.symmetric_difference(set2)}\n",
    "print(symmetric_difference)\n"
   ]
  },
  {
   "cell_type": "code",
   "execution_count": 83,
   "id": "7d66a85d-b8a2-4bde-8951-eb3ad9fffd9f",
   "metadata": {},
   "outputs": [
    {
     "name": "stdout",
     "output_type": "stream",
     "text": [
      "{'o'}\n"
     ]
    }
   ],
   "source": [
    "### 10. Common Vowels:\n",
    "# Given two strings, use set comprehension to create a set of vowels that are common to both strings.\n",
    "# Solution 1: Using without set comprehension\n",
    "string1 = \"Hello World\"\n",
    "string2 = \"Python Programming\"\n",
    "vowels = \"aeiouAEIOU\"\n",
    "common_vowels = set()\n",
    "\n",
    "for char in vowels:\n",
    "    if char in string1 and char in string2:\n",
    "        common_vowels.add(char)\n",
    "\n",
    "print(common_vowels)\n"
   ]
  },
  {
   "cell_type": "code",
   "execution_count": 86,
   "id": "bfacc47c-d692-47da-9dc5-690df64b8cc7",
   "metadata": {},
   "outputs": [
    {
     "name": "stdout",
     "output_type": "stream",
     "text": [
      "{'o'}\n"
     ]
    }
   ],
   "source": [
    "# Solution 2: Using set comprehension\n",
    "string1 = \"Hello World\"\n",
    "string2 = \"Python Programming\"\n",
    "vowels = \"aeiouAEIOU\"\n",
    "common_vowels = {char for char in vowels if char in string1 and char in string2}\n",
    "print(common_vowels)\n"
   ]
  },
  {
   "cell_type": "code",
   "execution_count": null,
   "id": "9cec34db-670a-4df2-b95c-20c98bdea6cf",
   "metadata": {},
   "outputs": [],
   "source": []
  }
 ],
 "metadata": {
  "kernelspec": {
   "display_name": "Python 3 (ipykernel)",
   "language": "python",
   "name": "python3"
  },
  "language_info": {
   "codemirror_mode": {
    "name": "ipython",
    "version": 3
   },
   "file_extension": ".py",
   "mimetype": "text/x-python",
   "name": "python",
   "nbconvert_exporter": "python",
   "pygments_lexer": "ipython3",
   "version": "3.12.4"
  }
 },
 "nbformat": 4,
 "nbformat_minor": 5
}
