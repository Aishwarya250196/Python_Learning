{
 "cells": [
  {
   "cell_type": "markdown",
   "id": "40afb0d7-59b4-468f-87c6-379261c8a48b",
   "metadata": {},
   "source": [
    "### Level: Basic"
   ]
  },
  {
   "cell_type": "code",
   "execution_count": 2,
   "id": "b8462322-bad0-4309-8926-a28ecd42445b",
   "metadata": {},
   "outputs": [
    {
     "name": "stdout",
     "output_type": "stream",
     "text": [
      "[17, 16, 13, 14, 18]\n"
     ]
    }
   ],
   "source": [
    "import random\n",
    "#Generate 5 random numbers between 10 and 30\n",
    "randomlist = random.sample(range(10, 30), 5)\n",
    "print(randomlist)"
   ]
  },
  {
   "cell_type": "code",
   "execution_count": 35,
   "id": "3d4dd3c9-125a-48a5-b4bc-cf17ed5b628e",
   "metadata": {},
   "outputs": [
    {
     "name": "stdout",
     "output_type": "stream",
     "text": [
      "32 is square of 16\n",
      "28 is square of 14\n",
      "36 is square of 18\n"
     ]
    }
   ],
   "source": [
    "### 1. Square of Even Numbers: \n",
    "# Given a list of integers, create a new list containing the squares of all the even numbers from the original list.\n",
    "# Solution 1: Without List Comprehension \n",
    "even_list = []\n",
    "for number in randomlist:\n",
    "    if number % 2 == 0:\n",
    "        square = number**2\n",
    "        print(f\"{square} is square of {number}\")"
   ]
  },
  {
   "cell_type": "code",
   "execution_count": 12,
   "id": "4af9f037-f385-4759-947a-76f33d770c7e",
   "metadata": {},
   "outputs": [
    {
     "name": "stdout",
     "output_type": "stream",
     "text": [
      "256 is square of 16\n",
      "196 is square of 14\n",
      "324 is square of 18\n"
     ]
    }
   ],
   "source": [
    "# Solution 2: With List Comprehension\n",
    "even_list = [f\"{number**2} is square of {number}\" for number in randomlist if number % 2 == 0]\n",
    "print(\"\\n\".join(even_list))"
   ]
  },
  {
   "cell_type": "code",
   "execution_count": 25,
   "id": "dfc9a6c7-93a8-486f-ad50-f1e428d4ce82",
   "metadata": {},
   "outputs": [
    {
     "name": "stdout",
     "output_type": "stream",
     "text": [
      "['I', 'a', 'o', 'e', 'e', 'o', 'e']\n"
     ]
    }
   ],
   "source": [
    "### 2. Filter Vowels: \n",
    "# Given a string, create a list of all the vowels in the string, using a list comprehension.\n",
    "# Solution 1: Without List Comprehension \n",
    "word = \"I am Python Developer\"\n",
    "vowel = ['A', 'a', 'E', 'e', 'I', 'i', 'O', 'o', 'U', 'u']\n",
    "list_of_vowel_in_word = []\n",
    "for letter in word:\n",
    "     if letter in vowel:\n",
    "         list_of_vowel_in_word.append(letter)\n",
    "print(list_of_vowel_in_word)"
   ]
  },
  {
   "cell_type": "code",
   "execution_count": 24,
   "id": "cd6b0cbe-33ee-429b-99d2-1da6f78813d8",
   "metadata": {},
   "outputs": [
    {
     "name": "stdout",
     "output_type": "stream",
     "text": [
      "['I', 'a', 'o', 'e', 'e', 'o', 'e']\n"
     ]
    }
   ],
   "source": [
    "# Solution 2: With List Comprehension\n",
    "word = \"I am Python Developer\"\n",
    "vowel = ['A', 'a', 'E', 'e', 'I', 'i', 'O', 'o', 'U', 'u']\n",
    "list_of_vowel_in_word = [letter for letter in word if letter in vowel]\n",
    "print(list_of_vowel_in_word)"
   ]
  },
  {
   "cell_type": "code",
   "execution_count": 39,
   "id": "04d8c470-9af8-4302-88fb-1e7f11021422",
   "metadata": {},
   "outputs": [
    {
     "name": "stdout",
     "output_type": "stream",
     "text": [
      "34\n",
      "32\n",
      "26\n",
      "28\n",
      "36\n"
     ]
    }
   ],
   "source": [
    "# Double the Numbers: \n",
    "# Given a list of integers, create a new list where each number is doubled.\n",
    "# Solution 1: Without List Comprehension \n",
    "for number in randomlist:\n",
    "    double_number = number*2\n",
    "    print(double_number)"
   ]
  },
  {
   "cell_type": "code",
   "execution_count": 41,
   "id": "05e7b365-db9c-43bf-8a7f-519a96f0cfc5",
   "metadata": {},
   "outputs": [
    {
     "name": "stdout",
     "output_type": "stream",
     "text": [
      "[34, 32, 26, 28, 36]\n"
     ]
    }
   ],
   "source": [
    "# Solution 2: With List Comprehension\n",
    "double_number = [number*2 for number in randomlist]\n",
    "print(double_number)"
   ]
  },
  {
   "cell_type": "code",
   "execution_count": 49,
   "id": "a9616b3f-556c-4e2a-a9b1-038e5be2d1db",
   "metadata": {},
   "outputs": [
    {
     "name": "stdout",
     "output_type": "stream",
     "text": [
      "['a', 'b', 'c', 'd']\n"
     ]
    }
   ],
   "source": [
    "### 4. Extract First Letters: \n",
    "# Given a list of words, create a list of the first letter of each word.\n",
    "# Solution 1: Without List Comprehension \n",
    "words = [\"apple\", \"banana\", \"cherry\", \"date\"]\n",
    "first_letter = []\n",
    "for letter in words:\n",
    "    first_letter.append(letter[0])\n",
    "print(first_letter)"
   ]
  },
  {
   "cell_type": "code",
   "execution_count": 46,
   "id": "2b60726a-ecd3-410e-bd1d-1f2dac7fa743",
   "metadata": {},
   "outputs": [
    {
     "name": "stdout",
     "output_type": "stream",
     "text": [
      "['a', 'b', 'c', 'd']\n"
     ]
    }
   ],
   "source": [
    "# Solution 2: With List Comprehension\n",
    "words = [\"apple\", \"banana\", \"cherry\", \"date\"]\n",
    "first_letter = [letter[0] for letter in words]\n",
    "print(first_letter)"
   ]
  },
  {
   "cell_type": "code",
   "execution_count": 68,
   "id": "020acf44-c7e9-43c3-b1a7-764b921ddac0",
   "metadata": {},
   "outputs": [
    {
     "name": "stdout",
     "output_type": "stream",
     "text": [
      "randomlist: [17, 16, 13, 14, 18]\n",
      "Positive Numbers List: [16, 14, 18]\n"
     ]
    }
   ],
   "source": [
    "### 5. Positive Numbers: \n",
    "# Given a list of integers, create a new list containing only the positive numbers.\n",
    "# Solution 1: Without List Comprehension \n",
    "positive_numbers = []\n",
    "print(f\"randomlist: {randomlist}\")\n",
    "for number in randomlist:\n",
    "    if number%2 == 0:\n",
    "        positive_numbers.append(number)\n",
    "print(f\"Positive Numbers List: {positive_numbers}\")"
   ]
  },
  {
   "cell_type": "code",
   "execution_count": 80,
   "id": "97fe72f7-5a78-4fcb-a489-f03e36095626",
   "metadata": {},
   "outputs": [
    {
     "name": "stdout",
     "output_type": "stream",
     "text": [
      "randomlist: [17, 16, 13, 14, 18]\n",
      "Positive Number List: [16, 14, 18]\n"
     ]
    }
   ],
   "source": [
    "# Solution 2: With List Comprehension\n",
    "print(f\"randomlist: {randomlist}\")\n",
    "positive_numbers = [number for number in randomlist if number % 2 == 0]\n",
    "print(f\"Positive Number List: {positive_numbers}\")"
   ]
  },
  {
   "cell_type": "code",
   "execution_count": 87,
   "id": "16dc2733-339b-4ca1-9995-66808c3f94cc",
   "metadata": {},
   "outputs": [
    {
     "name": "stdout",
     "output_type": "stream",
     "text": [
      "[5, 6, 6, 4]\n"
     ]
    }
   ],
   "source": [
    "### 6. Length of Words: \n",
    "# Given a list of words, create a new list containing the length of each word.\n",
    "# Solution 1: Without List Comprehension\n",
    "words = [\"apple\", \"banana\", \"cherry\", \"date\"]\n",
    "length = []\n",
    "for letter in words:\n",
    "    length.append(len(letter))\n",
    "print(length)"
   ]
  },
  {
   "cell_type": "code",
   "execution_count": 82,
   "id": "d2fcfff4-874b-490a-a437-79d57cfb4c6d",
   "metadata": {},
   "outputs": [
    {
     "name": "stdout",
     "output_type": "stream",
     "text": [
      "[5, 6, 6, 4]\n"
     ]
    }
   ],
   "source": [
    "# Solution 2: With List Comprehension\n",
    "words = [\"apple\", \"banana\", \"cherry\", \"date\"]\n",
    "length = [len(letter) for letter in words]\n",
    "print(length)"
   ]
  },
  {
   "cell_type": "code",
   "execution_count": 92,
   "id": "93db3aab-932f-44f6-91fe-cdbb2d0c1fff",
   "metadata": {},
   "outputs": [
    {
     "name": "stdout",
     "output_type": "stream",
     "text": [
      "Randomlist : [17, 16, 13, 14, 18]\n",
      "4913 is cube of 17\n",
      "2197 is cube of 13\n"
     ]
    }
   ],
   "source": [
    "### 7. Cube of Odd Numbers:\n",
    "# Given a list of integers, create a new list containing the cubes of all the odd numbers.\n",
    "# Solution 1: Without List Comprehension\n",
    "cube_of_number = []\n",
    "print(f\"Randomlist : {randomlist}\")\n",
    "for number in randomlist:\n",
    "    if number % 2 != 0:\n",
    "        cube_of_number = number**3\n",
    "        print(f\"{cube_of_number} is cube of {number}\")\n",
    "    "
   ]
  },
  {
   "cell_type": "code",
   "execution_count": 97,
   "id": "beaba1f2-0a28-478f-97cf-1385b03391bf",
   "metadata": {},
   "outputs": [
    {
     "name": "stdout",
     "output_type": "stream",
     "text": [
      "4913 is cube of 17\n",
      "2197 is cube of 13\n"
     ]
    }
   ],
   "source": [
    "# Solution 2: With List Comprehension\n",
    "cube_of_number = [f\"{number**3} is cube of {number}\" for number in randomlist if number%2 != 0]\n",
    "print(\"\\n\".join(cube_of_number))"
   ]
  },
  {
   "cell_type": "markdown",
   "id": "ed5bc1f1-cf8f-447c-8b5c-0bbbdacadd2d",
   "metadata": {},
   "source": [
    "### Level: Intermediate"
   ]
  },
  {
   "cell_type": "code",
   "execution_count": 100,
   "id": "beb4badc-388a-4c5d-a0de-666d836354e4",
   "metadata": {},
   "outputs": [
    {
     "name": "stdout",
     "output_type": "stream",
     "text": [
      "[1, 2, 3, 4, 5, 6, 7, 8, 9]\n"
     ]
    }
   ],
   "source": [
    "### 1. Flatten a Nested List: \n",
    "# Given a nested list (a list containing other lists), create a flat list containing all the elements from the nested lists.\n",
    "# Solution 1: Without List Comprehension \n",
    "nested_list = [[1, 2, 3], [4, 5], [6, 7, 8, 9]]\n",
    "flat_list = []\n",
    "for sublist in nested_list:\n",
    "    for element in sublist:\n",
    "        flat_list.append(element)\n",
    "print(flat_list)"
   ]
  },
  {
   "cell_type": "code",
   "execution_count": 101,
   "id": "cd7ab152-091a-47ea-84f4-a20f0db547a6",
   "metadata": {},
   "outputs": [
    {
     "name": "stdout",
     "output_type": "stream",
     "text": [
      "[1, 2, 3, 4, 5, 6, 7, 8, 9]\n"
     ]
    }
   ],
   "source": [
    "# Solution 2: With List Comprehension\n",
    "nested_list = [[1, 2, 3], [4, 5], [6, 7, 8, 9]]\n",
    "flat_list = [element for sublist in nested_list for element in sublist]\n",
    "print(flat_list)"
   ]
  },
  {
   "cell_type": "code",
   "execution_count": 103,
   "id": "ece65e4a-a54f-42e1-80b5-a9b0b384f744",
   "metadata": {},
   "outputs": [
    {
     "name": "stdout",
     "output_type": "stream",
     "text": [
      "[5, 6, 6, 4]\n"
     ]
    }
   ],
   "source": [
    "### 2. Character Count: \n",
    "# Given a list of strings, create a new list containing the length of each string in the original list.\n",
    "# Solution 1: Without List Comprehension\n",
    "words = [\"apple\", \"banana\", \"cherry\", \"date\"]\n",
    "length = []\n",
    "for word in words:\n",
    "    length.append(len(word))\n",
    "print(length)"
   ]
  },
  {
   "cell_type": "code",
   "execution_count": 104,
   "id": "6137807d-ee52-47cf-a5f5-e07cbcb915c4",
   "metadata": {},
   "outputs": [
    {
     "name": "stdout",
     "output_type": "stream",
     "text": [
      "[5, 6, 6, 4]\n"
     ]
    }
   ],
   "source": [
    "# Solution 2: With List Comprehension\n",
    "words = [\"apple\", \"banana\", \"cherry\", \"date\"]\n",
    "length = [len(word) for word in words]\n",
    "print(length)"
   ]
  },
  {
   "cell_type": "code",
   "execution_count": 107,
   "id": "0528373e-7879-46b3-a2f0-b530627175b5",
   "metadata": {},
   "outputs": [
    {
     "name": "stdout",
     "output_type": "stream",
     "text": [
      "[3, 4, 5]\n"
     ]
    }
   ],
   "source": [
    "### 3. Common Elements: \n",
    "# Given two lists, create a list of the elements that are common to both lists, using a list comprehension.\n",
    "# Solution 1: Without List Comprehension\n",
    "list1 = [1, 2, 3, 4, 5]\n",
    "list2 = [3, 4, 5, 6, 7]\n",
    "common_list = []\n",
    "for element in list2:\n",
    "    if element in list1:\n",
    "        common_list.append(element)\n",
    "print(common_list)"
   ]
  },
  {
   "cell_type": "code",
   "execution_count": 111,
   "id": "dfe749c3-09d0-40ca-9d24-58b438008b66",
   "metadata": {},
   "outputs": [
    {
     "name": "stdout",
     "output_type": "stream",
     "text": [
      "[3, 4, 5]\n"
     ]
    }
   ],
   "source": [
    "# Solution 2: With List Comprehension\n",
    "list1 = [1, 2, 3, 4, 5]\n",
    "list2 = [3, 4, 5, 6, 7]\n",
    "common_list = [element for element in list2 if element in list1]\n",
    "print(common_list)"
   ]
  },
  {
   "cell_type": "code",
   "execution_count": 121,
   "id": "8843ff9b-d262-4055-90fb-86a3af4fb358",
   "metadata": {},
   "outputs": [
    {
     "name": "stdout",
     "output_type": "stream",
     "text": [
      "[1, 2, 3, 4, 5]\n"
     ]
    }
   ],
   "source": [
    "### 4. Remove Duplicates: \n",
    "# Given a list, create a new list that removes duplicates while maintaining the original order.\n",
    "# Solution 1: Without List Comprehension\n",
    "original_list = [1, 2, 2, 3, 4, 4, 5, 1]\n",
    "new_list = []\n",
    "seen = set()\n",
    "\n",
    "for element in original_list:\n",
    "    if element not in seen:\n",
    "        seen.add(element)\n",
    "        new_list.append(element)\n",
    "print(new_list)       "
   ]
  },
  {
   "cell_type": "code",
   "execution_count": 126,
   "id": "5b1b4d1d-fa6b-4554-a345-f2f016f9ff2a",
   "metadata": {},
   "outputs": [
    {
     "name": "stdout",
     "output_type": "stream",
     "text": [
      "[1, 2, 3, 4, 5]\n"
     ]
    }
   ],
   "source": [
    "# Solution 2: With List Comprehension\n",
    "original_list = [1, 2, 2, 3, 4, 4, 5, 1]\n",
    "new_list = []\n",
    "seen = set()\n",
    "\n",
    "[new_list.append(element) for element in original_list if element not in seen and not seen.add(element)]\n",
    "print(new_list)"
   ]
  },
  {
   "cell_type": "code",
   "execution_count": 127,
   "id": "0bc76e42-6579-4087-bb7a-70f20e9ecc4a",
   "metadata": {},
   "outputs": [
    {
     "name": "stdout",
     "output_type": "stream",
     "text": [
      "[1, 2, 3, 4, 5, 6]\n"
     ]
    }
   ],
   "source": [
    "### 5. Flatten a List of Tuples: \n",
    "# Given a list of tuples, create a flat list of all the elements from those tuples.\n",
    "# Solution 1: Without List Comprehension\n",
    "tuple_list = [(1, 2), (3, 4), (5, 6)]\n",
    "flat_list = []\n",
    "for tup in tuple_list:\n",
    "    for element in tup:\n",
    "        flat_list.append(element)\n",
    "\n",
    "# Print the result\n",
    "print(flat_list)\n"
   ]
  },
  {
   "cell_type": "code",
   "execution_count": 128,
   "id": "19b10e3b-ab12-45ba-bc35-8e5513f664cf",
   "metadata": {},
   "outputs": [
    {
     "name": "stdout",
     "output_type": "stream",
     "text": [
      "[1, 2, 3, 4, 5, 6]\n"
     ]
    }
   ],
   "source": [
    "# Solution 2: With List Comprehension\n",
    "tuple_list = [(1, 2), (3, 4), (5, 6)]\n",
    "flat_list = [element for tup in tuple_list for element in tup]\n",
    "print(flat_list)"
   ]
  },
  {
   "cell_type": "code",
   "execution_count": 131,
   "id": "20d63dfc-bc59-4869-a330-a68929b277ed",
   "metadata": {},
   "outputs": [
    {
     "name": "stdout",
     "output_type": "stream",
     "text": [
      "['l', 'l', 'o']\n"
     ]
    }
   ],
   "source": [
    "### 6. Common Characters: \n",
    "# Given two strings, create a list of characters that are common to both strings.\n",
    "# Solution 1: Without List Comprehension\n",
    "string1 = \"hello\"\n",
    "string2 = \"world\"\n",
    "common_characters = []\n",
    "for char in string1:\n",
    "    if char in string2:\n",
    "        common_characters.append(char)\n",
    "\n",
    "print(common_characters)"
   ]
  },
  {
   "cell_type": "code",
   "execution_count": 133,
   "id": "7b5bc9c3-251d-4ce4-a659-f47c6a474ad5",
   "metadata": {},
   "outputs": [
    {
     "name": "stdout",
     "output_type": "stream",
     "text": [
      "['l', 'l', 'o']\n"
     ]
    }
   ],
   "source": [
    "# Solution 2: With List Comprehension\n",
    "string1 = \"hello\"\n",
    "string2 = \"world\"\n",
    "\n",
    "common_characters = [char for char in string1 if char in string2]\n",
    "print(common_characters)\n"
   ]
  },
  {
   "cell_type": "code",
   "execution_count": 137,
   "id": "4239c203-c0c3-4652-bd37-25495fac58f4",
   "metadata": {},
   "outputs": [
    {
     "name": "stdout",
     "output_type": "stream",
     "text": [
      "['elppa', 'ananab', 'yrrehc', 'etad']\n"
     ]
    }
   ],
   "source": [
    "### 7. String Reversal: \n",
    "# Given a list of strings, create a new list where each string is reversed.\n",
    "# Solution 1: Without List Comprehension\n",
    "words = [\"apple\", \"banana\", \"cherry\", \"date\"]\n",
    "reversed_words = []\n",
    "for word in words:\n",
    "    reversed_words.append(word[::-1])\n",
    "print(reversed_words)\n"
   ]
  },
  {
   "cell_type": "code",
   "execution_count": 138,
   "id": "9d855461-175b-4ebf-823c-46750eba8c3a",
   "metadata": {},
   "outputs": [
    {
     "name": "stdout",
     "output_type": "stream",
     "text": [
      "['elppa', 'ananab', 'yrrehc', 'etad']\n"
     ]
    }
   ],
   "source": [
    "# Solution 2: With List Comprehension\n",
    "words = [\"apple\", \"banana\", \"cherry\", \"date\"]\n",
    "reversed_words = [word[::-1] for word in words]\n",
    "print(reversed_words)\n"
   ]
  },
  {
   "cell_type": "code",
   "execution_count": 143,
   "id": "4a20c81f-908a-44d9-a78d-a4c35ada5a40",
   "metadata": {},
   "outputs": [
    {
     "name": "stdout",
     "output_type": "stream",
     "text": [
      "Even List: [2, 4, 6, 8, 10]\n",
      "odd List: [1, 3, 5, 7, 9]\n"
     ]
    }
   ],
   "source": [
    "### 8. Conditional List Generation: \n",
    "# Given a list of integers, create a list that contains \"even\" for even numbers and \"odd\" for odd numbers.\n",
    "# Solution 1: Without List Comprehension\n",
    "numbers = [1, 2, 3, 4, 5, 6, 7, 8, 9, 10]\n",
    "even_list = []\n",
    "odd_list = []\n",
    "\n",
    "for number in numbers:\n",
    "    if number % 2 == 0:\n",
    "        even_list.append(number)\n",
    "    else:\n",
    "        odd_list.append(number)\n",
    "\n",
    "# Print the result\n",
    "print(f\"Even List: {even_list}\")\n",
    "print(f\"odd List: {odd_list}\")\n"
   ]
  },
  {
   "cell_type": "code",
   "execution_count": 144,
   "id": "7f44132e-7f42-4f1a-af6c-51bc31401fa2",
   "metadata": {},
   "outputs": [
    {
     "name": "stdout",
     "output_type": "stream",
     "text": [
      "Even List: [2, 4, 6, 8, 10]\n",
      "Odd List: [1, 3, 5, 7, 9]\n"
     ]
    }
   ],
   "source": [
    "# Solution 2: With List Comprehension\n",
    "numbers = [1, 2, 3, 4, 5, 6, 7, 8, 9, 10]\n",
    "\n",
    "even_list = [number for number in numbers if number % 2 == 0]\n",
    "odd_list = [number for number in numbers if number % 2 != 0]\n",
    "\n",
    "# Print the result\n",
    "print(f\"Even List: {even_list}\")\n",
    "print(f\"Odd List: {odd_list}\")\n"
   ]
  },
  {
   "cell_type": "code",
   "execution_count": null,
   "id": "8db136ac-47ff-4c8d-96be-19b7c24a1ca6",
   "metadata": {},
   "outputs": [],
   "source": []
  }
 ],
 "metadata": {
  "kernelspec": {
   "display_name": "Python 3 (ipykernel)",
   "language": "python",
   "name": "python3"
  },
  "language_info": {
   "codemirror_mode": {
    "name": "ipython",
    "version": 3
   },
   "file_extension": ".py",
   "mimetype": "text/x-python",
   "name": "python",
   "nbconvert_exporter": "python",
   "pygments_lexer": "ipython3",
   "version": "3.12.4"
  }
 },
 "nbformat": 4,
 "nbformat_minor": 5
}
