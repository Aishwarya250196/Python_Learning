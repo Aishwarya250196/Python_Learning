{
 "cells": [
  {
   "cell_type": "code",
   "execution_count": 10,
   "id": "cc2ee6f8-dd91-4039-bdb2-a3e9b1e7ab41",
   "metadata": {},
   "outputs": [
    {
     "name": "stdout",
     "output_type": "stream",
     "text": [
      "[30, 40, 50, 60, 10, 20]\n"
     ]
    }
   ],
   "source": [
    "### 1. Write a program to rotate a list to the left by k positions.\n",
    "# Solution 1: Using Slice\n",
    "lst = [10, 20, 30, 40, 50, 60]\n",
    "k = 2\n",
    "k = k % len(lst)\n",
    "\n",
    "# Rotate the list by slicing\n",
    "rotlst = lst[k:] + lst[:k]\n",
    "print(rotlst)\n"
   ]
  },
  {
   "cell_type": "code",
   "execution_count": 11,
   "id": "7111d4d2-8201-4f38-b7b3-489834273584",
   "metadata": {},
   "outputs": [
    {
     "name": "stdout",
     "output_type": "stream",
     "text": [
      "[30, 40, 50, 60, 10, 20]\n"
     ]
    }
   ],
   "source": [
    "# Solution 2: Using pop and append\n",
    "lst = [10, 20, 30, 40, 50, 60]\n",
    "k = 2\n",
    "k = k % len(lst)\n",
    "\n",
    "for i in range(k):\n",
    "    #Remove first element\n",
    "    first_element = lst.pop(0)\n",
    "    #Append it to end\n",
    "    lst.append(first_element)\n",
    "print(lst)"
   ]
  },
  {
   "cell_type": "code",
   "execution_count": 15,
   "id": "398de2a6-2937-4857-a4f9-3e18b2bb09ca",
   "metadata": {},
   "outputs": [
    {
     "data": {
      "text/plain": [
       "[50, 60, 10, 20, 30, 40]"
      ]
     },
     "execution_count": 15,
     "metadata": {},
     "output_type": "execute_result"
    }
   ],
   "source": [
    "# Solution 3: Using Function\n",
    "def rotate_left(lst, k):\n",
    "    k = k % len(lst)\n",
    "    rotlst = lst[k:] + lst[:k]\n",
    "    return rotlst\n",
    "\n",
    "# Calling Function\n",
    "rotate_left([10, 20, 30, 40, 50, 60], 4)"
   ]
  },
  {
   "cell_type": "code",
   "execution_count": 17,
   "id": "1ea38d55-ef34-409d-a168-89e6cf58f7ed",
   "metadata": {},
   "outputs": [
    {
     "name": "stdout",
     "output_type": "stream",
     "text": [
      "[1, 2, 3, 4, 5]\n"
     ]
    }
   ],
   "source": [
    "### 2.How would you flatten a nested list (e.g., [[1, 2, [3, 4]], 5] into [1, 2, 3, 4, 5])?\n",
    "#Solution 1: Using Iteration \n",
    "nested_list = [[1, 2, [3, 4]], 5]\n",
    "#Reverse the list\n",
    "rev_nested_list = nested_list[::-1]\n",
    "empty_list = []\n",
    "\n",
    "while rev_nested_list:\n",
    "    #Remove the last element\n",
    "    item = rev_nested_list.pop()\n",
    "    if isinstance(item, list):\n",
    "        rev_nested_list.extend(item[::-1])\n",
    "    else:\n",
    "        empty_list.append(item)\n",
    "print(empty_list)"
   ]
  },
  {
   "cell_type": "code",
   "execution_count": 18,
   "id": "c01ee025-d047-47c1-a50c-ca7b2d19e704",
   "metadata": {},
   "outputs": [
    {
     "data": {
      "text/plain": [
       "[1, 2, 3, 4, 5]"
      ]
     },
     "execution_count": 18,
     "metadata": {},
     "output_type": "execute_result"
    }
   ],
   "source": [
    "# Solution 2: Using Function\n",
    "def flatten_nested_list(nested_list):\n",
    "    #Reverse the list\n",
    "    rev_nested_list = nested_list[::-1]\n",
    "    empty_list = []\n",
    "\n",
    "    while rev_nested_list:\n",
    "        #Remove the last element\n",
    "        item = rev_nested_list.pop()\n",
    "        if isinstance(item, list):\n",
    "            rev_nested_list.extend(item[::-1])\n",
    "        else:\n",
    "            empty_list.append(item)\n",
    "    return empty_list\n",
    "\n",
    "# Calling Function\n",
    "flatten_nested_list([[1, 2, [3, 4]], 5])\n",
    "            "
   ]
  },
  {
   "cell_type": "code",
   "execution_count": 38,
   "id": "ae74d443-aef7-42d3-906f-2231fb8c9172",
   "metadata": {},
   "outputs": [
    {
     "name": "stdout",
     "output_type": "stream",
     "text": [
      "The prime numbers in this range are:  [2, 3, 5, 7, 11, 13, 17, 19]\n"
     ]
    }
   ],
   "source": [
    "### 3. Write a Python function that takes a list of numbers and returns a list of all prime numbers from the input list.\n",
    "# Solution 1: Using Iteration\n",
    "# Starting and ending range\n",
    "number = [1, 2, 3, 4, 5, 6, 7, 8, 9, 10, 11, 12, 13, 14, 15, 16, 17, 18, 19, 20]\n",
    "# List to store prime numbers\n",
    "prime_list = []\n",
    "\n",
    "# Loop through the range\n",
    "for i in number:\n",
    "    if i == 0 or i == 1:\n",
    "        continue  # Skip 0 and 1 as they are not prime numbers\n",
    "    else:\n",
    "        # Check if the number is prime\n",
    "        for j in range(2, int(i / 2) + 1):\n",
    "            if i % j == 0:  # If divisible, it's not prime\n",
    "                break\n",
    "        else:\n",
    "            # If no divisors are found, it's prime\n",
    "            prime_list.append(i)\n",
    "\n",
    "# Output the result\n",
    "if len(prime_list) == 0:\n",
    "    print(\"There are no prime numbers in this range\")\n",
    "else:\n",
    "    print(\"The prime numbers in this range are: \", prime_list)\n",
    "        "
   ]
  },
  {
   "cell_type": "code",
   "execution_count": 39,
   "id": "0955a3d4-1bef-4f16-b464-e50224de9f93",
   "metadata": {},
   "outputs": [
    {
     "name": "stdout",
     "output_type": "stream",
     "text": [
      "The prime numbers in this range are:  [2, 3, 5, 7, 11, 13, 17, 19]\n"
     ]
    }
   ],
   "source": [
    "# Solution 2: Using Function\n",
    "def prime(number):\n",
    "    prime_list = []\n",
    "    for i in number:\n",
    "        if i == 0 or i == 1:\n",
    "            continue\n",
    "        else:\n",
    "            for j in range(2, int(i/2)+1):\n",
    "                if i % j == 0:\n",
    "                    break\n",
    "            else:\n",
    "                prime_list.append(i)\n",
    "    return prime_list\n",
    "\n",
    "\n",
    "# Driver program\n",
    "lst = prime([1, 2, 3, 4, 5, 6, 7, 8, 9, 10, 11, 12, 13, 14, 15, 16, 17, 18, 19, 20])\n",
    "if len(lst) == 0:\n",
    "    print(\"There are no prime numbers in this range\")\n",
    "else:\n",
    "    print(\"The prime numbers in this range are: \", lst)\n"
   ]
  },
  {
   "cell_type": "code",
   "execution_count": 45,
   "id": "5f8b316a-7b32-47b7-9ec2-6d6165802f52",
   "metadata": {},
   "outputs": [
    {
     "name": "stdout",
     "output_type": "stream",
     "text": [
      "[5, 8, 10, 20, 30, 40]\n",
      "30\n"
     ]
    }
   ],
   "source": [
    "### 4. How would you find the second largest number in a list, assuming it contains at least two distinct values?\n",
    "# Solution 1: Using Sort\n",
    "number = [10, 20, 5, 8, 40, 30]\n",
    "number.sort()\n",
    "print(number)\n",
    "Second_larget= number[-2]\n",
    "print(Second_larget)\n"
   ]
  },
  {
   "cell_type": "code",
   "execution_count": 49,
   "id": "b36c1abf-d7b5-4765-be9c-2c10de723704",
   "metadata": {},
   "outputs": [
    {
     "name": "stdout",
     "output_type": "stream",
     "text": [
      "Second Largest Number: 98\n"
     ]
    }
   ],
   "source": [
    "# Solution 1: Using Iteration\n",
    "number = [30, 60, 90, 89, 23, 4, 5, 100, 98]\n",
    "largest = second_largest = number[0]\n",
    "\n",
    "# Iterate through the list\n",
    "for num in number:\n",
    "    if num > largest:\n",
    "        second_largest = largest\n",
    "        largest = num\n",
    "    elif num > second_largest and num != largest:\n",
    "        second_largest = num\n",
    "\n",
    "# Print results\n",
    "print('Second Largest Number:', second_largest)"
   ]
  },
  {
   "cell_type": "code",
   "execution_count": 50,
   "id": "7c075f82-a702-4f07-b4c9-02ab954f5ba7",
   "metadata": {},
   "outputs": [
    {
     "data": {
      "text/plain": [
       "98"
      ]
     },
     "execution_count": 50,
     "metadata": {},
     "output_type": "execute_result"
    }
   ],
   "source": [
    "# Solution 3: Using Function \n",
    "def second_largest(number):\n",
    "    largest = second_largest = number[0]\n",
    "    for num in number:\n",
    "        if num> largest:\n",
    "            second_largest = largest\n",
    "            largest = num\n",
    "        elif num > second_largest and num != largest:\n",
    "            second_largest = num\n",
    "    return second_largest\n",
    "\n",
    "# Calling Function\n",
    "second_largest([30, 60, 90, 89, 23, 4, 5, 100, 98])"
   ]
  },
  {
   "cell_type": "code",
   "execution_count": 66,
   "id": "82c60023-2c4e-4165-a581-d71bb2873614",
   "metadata": {},
   "outputs": [
    {
     "name": "stdout",
     "output_type": "stream",
     "text": [
      "['Ram', 'Shyam', 'Rahul', 'Rajesh', 'Aishwarya']\n"
     ]
    }
   ],
   "source": [
    "### 5. Write a program to sort a list based on the length of its elements (e.g., strings) in ascending order.\n",
    "# Solution 1: Using sorted function\n",
    "stringval =  ['Shyam', 'Aishwarya', 'Ram', 'Rahul', 'Rajesh']\n",
    "stringLen = []\n",
    "stringLen = sorted(stringval, key=len)\n",
    "print(stringLen)"
   ]
  },
  {
   "cell_type": "code",
   "execution_count": 85,
   "id": "b4b0cbd8-c1a1-4b1f-978c-8f140682fe28",
   "metadata": {},
   "outputs": [
    {
     "name": "stdout",
     "output_type": "stream",
     "text": [
      "Sorted list by length:  ['Ram', 'Shyam', 'Rahul', 'Rajesh', 'Aishwarya']\n"
     ]
    }
   ],
   "source": [
    "# Solution 2: Using Iteration\n",
    "stringval =  ['Shyam', 'Aishwarya', 'Ram', 'Rahul', 'Rajesh'] \n",
    "stringLen = {}\n",
    "for i in stringval:\n",
    "    length = len(i)\n",
    "    if length not in stringLen:\n",
    "        stringLen[length] = [i]\n",
    "    else: \n",
    "        stringLen[length].append(i)\n",
    "        \n",
    "# Sort the dictionary by its keys (lengths) and reconstruct the sorted list\n",
    "sorted_strings = []\n",
    "for length in sorted(stringLen):\n",
    "    sorted_strings.extend(stringLen[length])\n",
    "print(\"Sorted list by length: \", sorted_strings)"
   ]
  },
  {
   "cell_type": "code",
   "execution_count": 90,
   "id": "9bab309c-e686-4a54-947a-aa147e80b5c7",
   "metadata": {},
   "outputs": [
    {
     "name": "stdout",
     "output_type": "stream",
     "text": [
      "['Ram', 'Shyam', 'Rahul', 'Rajesh', 'Aishwarya']\n"
     ]
    }
   ],
   "source": [
    "# Solution 3: Using Sort function\n",
    "stringval =  ['Shyam', 'Aishwarya', 'Ram', 'Rahul', 'Rajesh'] \n",
    "stringval.sort(key = len)\n",
    "print(stringval)"
   ]
  },
  {
   "cell_type": "code",
   "execution_count": 91,
   "id": "9f1905d2-0482-4293-9eaa-8ff12b13ba53",
   "metadata": {},
   "outputs": [
    {
     "data": {
      "text/plain": [
       "['kiwi', 'apple', 'banana', 'cherry', 'pineapple']"
      ]
     },
     "execution_count": 91,
     "metadata": {},
     "output_type": "execute_result"
    }
   ],
   "source": [
    "# Solution: Using Function\n",
    "def sort_string_len(stringval):\n",
    "    stringval.sort(key = len)\n",
    "    return stringval\n",
    "\n",
    "# Calling Function\n",
    "sort_string_len(['apple', 'banana', 'kiwi', 'pineapple', 'cherry'])"
   ]
  },
  {
   "cell_type": "code",
   "execution_count": 108,
   "id": "5cb3fa53-415a-4c68-969a-de8a78ea0284",
   "metadata": {},
   "outputs": [
    {
     "name": "stdout",
     "output_type": "stream",
     "text": [
      "[1, 2]\n",
      "[3, 4]\n",
      "[5]\n"
     ]
    }
   ],
   "source": [
    "### 6. Write a program to split a list into evenly sized chunks (for example, split [ 1, 2, 3, 4, 5] into chunks of size 2).\n",
    "# Solution 1:\n",
    "abc = [ 1, 2, 3, 4, 5]\n",
    "chunkslimit = 2\n",
    "for i in range(0, len(abc), chunkslimit):\n",
    "    x = i\n",
    "    print(abc[x:x+chunkslimit])"
   ]
  },
  {
   "cell_type": "code",
   "execution_count": 121,
   "id": "062e4e9b-7c8e-4fe1-8d85-d535bbd483e1",
   "metadata": {},
   "outputs": [
    {
     "name": "stdout",
     "output_type": "stream",
     "text": [
      "[1, 2]\n",
      "[3, 4]\n",
      "[5]\n"
     ]
    }
   ],
   "source": [
    "# Solution 2: Using Iteration\n",
    "abc = [1, 2, 3, 4, 5]\n",
    "chunkslimit = 2\n",
    "\n",
    "# Initialize an empty list to store chunks\n",
    "chunks = []\n",
    "chunk = []\n",
    "\n",
    "# Loop through the list elements one by one\n",
    "for i in abc:\n",
    "    chunk.append(i)  # Add element to the current chunk\n",
    "    if len(chunk) == chunkslimit:  # When chunk size reaches chunkslimit\n",
    "        chunks.append(chunk)  # Add the chunk to the result list\n",
    "        chunk = []  # Reset chunk for the next group\n",
    "# Add any remaining elements if the last chunk is not empty\n",
    "if chunk:\n",
    "    chunks.append(chunk)\n",
    "\n",
    "# Output the chunks\n",
    "for chunk in chunks:\n",
    "    print(chunk)\n"
   ]
  },
  {
   "cell_type": "code",
   "execution_count": 124,
   "id": "73c3389e-d74f-478a-a67e-88326062bbf6",
   "metadata": {},
   "outputs": [
    {
     "data": {
      "text/plain": [
       "[[1, 2], [3, 4], [5]]"
      ]
     },
     "execution_count": 124,
     "metadata": {},
     "output_type": "execute_result"
    }
   ],
   "source": [
    "#Solution 3: Using Function\n",
    "def chunk_list(abc):\n",
    "    chunklimit = 2\n",
    "    chunks = []  \n",
    "    for i in range(0, len(abc), chunklimit):\n",
    "        x = i\n",
    "        val = abc[x: x + chunklimit]\n",
    "        chunks.append(val) \n",
    "    return chunks  \n",
    "\n",
    "# Calling Function\n",
    "chunk_list([1, 2, 3, 4, 5])"
   ]
  },
  {
   "cell_type": "code",
   "execution_count": 127,
   "id": "d1496625-7b7f-4ea1-bdcd-fd232589d2ed",
   "metadata": {},
   "outputs": [
    {
     "name": "stdout",
     "output_type": "stream",
     "text": [
      "[50, 60, 10, 20, 30, 40]\n"
     ]
    }
   ],
   "source": [
    "### 8. Write a Python program to rotate a list to the right by k positions.\n",
    "# Solution 1: Using Slice\n",
    "lst = [10, 20, 30, 40, 50, 60]\n",
    "k = 2\n",
    "k = k % len(lst)\n",
    "\n",
    "# Rotate the list by slicing\n",
    "rotlst = lst[-k:] + lst[:-k]\n",
    "print(rotlst)"
   ]
  },
  {
   "cell_type": "code",
   "execution_count": 144,
   "id": "9a9a0672-b109-43c4-8633-24ec8fdc3fdd",
   "metadata": {},
   "outputs": [
    {
     "name": "stdout",
     "output_type": "stream",
     "text": [
      "[50, 60, 10, 20, 30, 40]\n"
     ]
    }
   ],
   "source": [
    "# Solution 2: Using pop and append\n",
    "lst = [10, 20, 30, 40, 50, 60]\n",
    "k = 2\n",
    "k = k % len(lst)\n",
    "\n",
    "for i in range(k):\n",
    "    #Remove first element\n",
    "    last_element = lst.pop(-1)\n",
    "    #Insert it to position\n",
    "    lst.insert(0, last_element)\n",
    "print(lst)"
   ]
  },
  {
   "cell_type": "code",
   "execution_count": 146,
   "id": "c2c8f900-54a7-464c-b3e9-f2acb59d11f2",
   "metadata": {},
   "outputs": [
    {
     "data": {
      "text/plain": [
       "[50, 60, 10, 20, 30, 40]"
      ]
     },
     "execution_count": 146,
     "metadata": {},
     "output_type": "execute_result"
    }
   ],
   "source": [
    "# Solution 3: Using Function\n",
    "def rotate_right(lst, k):\n",
    "    k = k % len(lst)\n",
    "\n",
    "    for i in range(k):\n",
    "        last_element = lst.pop(-1)\n",
    "        lst.insert(0, last_element)\n",
    "    return lst\n",
    "\n",
    "# Calling Function\n",
    "rotate_right([10, 20, 30, 40, 50, 60], 2)"
   ]
  },
  {
   "cell_type": "code",
   "execution_count": 149,
   "id": "e9e07194-8dd9-470b-af40-ba6b761c8a64",
   "metadata": {},
   "outputs": [
    {
     "name": "stdout",
     "output_type": "stream",
     "text": [
      "35.75\n",
      "Greater Numbers are:  [55, 41, 62, 49]\n"
     ]
    }
   ],
   "source": [
    "### 9. Write a Python function to find all elements in a list that are greater than the average of the list.\n",
    "# Solution 1: Simple calculate average then compair it with numbers\n",
    "number = [15, 9, 55, 41, 35, 20, 62, 49] \n",
    "# Average formula : sum_of_number / total_number\n",
    "avg = sum(number)/len(number)\n",
    "\n",
    "greater_numbers = []\n",
    "for i in number:\n",
    "    # Compaire numbers with average\n",
    "    if i > avg:\n",
    "        greater_numbers.append(i)\n",
    "print(\"Greater Numbers are: \", greater_numbers)"
   ]
  },
  {
   "cell_type": "code",
   "execution_count": 152,
   "id": "33e4d88d-2301-454d-87cb-e3d9fedfce9e",
   "metadata": {},
   "outputs": [
    {
     "name": "stdout",
     "output_type": "stream",
     "text": [
      "Greater Numbers are:  [55, 41, 62, 49]\n"
     ]
    }
   ],
   "source": [
    "# Solution 2: Using List Comprehension\n",
    "number = [15, 9, 55, 41, 35, 20, 62, 49] \n",
    "avg = sum(number)/len(number)\n",
    "greater_numbers = [i for i in number if i > avg]\n",
    "print(\"Greater Numbers are: \", greater_numbers)"
   ]
  },
  {
   "cell_type": "code",
   "execution_count": 154,
   "id": "9029a52f-b70f-40d7-b72c-b279b60bd2f1",
   "metadata": {},
   "outputs": [
    {
     "data": {
      "text/plain": [
       "[55, 41, 62, 49]"
      ]
     },
     "execution_count": 154,
     "metadata": {},
     "output_type": "execute_result"
    }
   ],
   "source": [
    "# Solution 3: Using Function\n",
    "def greater_number(number):\n",
    "    avg = sum(number)/len(number)\n",
    "    greater_numbers = [i for i in number if i > avg]\n",
    "    return greater_numbers\n",
    "\n",
    "# Calling Function\n",
    "greater_number([15, 9, 55, 41, 35, 20, 62, 49])"
   ]
  },
  {
   "cell_type": "code",
   "execution_count": 174,
   "id": "2480d4cd-5bed-41ca-b801-3344702c61e2",
   "metadata": {},
   "outputs": [
    {
     "name": "stdout",
     "output_type": "stream",
     "text": [
      "Sorted Names: ['Aishu', 'Bart', 'Homer', 'Raj']\n",
      "Result Dictionary: {'Aishu': 0, 'Bart': 1, 'Homer': 2, 'Raj': 3}\n"
     ]
    }
   ],
   "source": [
    "### 10. Write a Python program to sort a list of dictionaries by a specific key.\n",
    "# Solution 1: \n",
    "namelist = [{'name': 'Homer'}, {'name': 'Bart'}, {'name': 'Raj'}, {'name': 'Aishu'}]\n",
    "\n",
    "# Extracting names from the list of dictionaries\n",
    "names = []\n",
    "for item in namelist:\n",
    "    names.append(item['name'])\n",
    "\n",
    "# Sorting the names\n",
    "Sortname = sorted(names)\n",
    "print(\"Sorted Names:\", Sortname)\n",
    "\n",
    "# Creating a dictionary with names and their indices\n",
    "res = {}\n",
    "for index, name in enumerate(Sortname):\n",
    "    res[name] = index  # Corrected syntax for adding key-value pair\n",
    "\n",
    "print(\"Result Dictionary:\", res)\n"
   ]
  },
  {
   "cell_type": "code",
   "execution_count": 175,
   "id": "dea4b503-1e36-4734-8aee-53aae5e72ebe",
   "metadata": {},
   "outputs": [
    {
     "name": "stdout",
     "output_type": "stream",
     "text": [
      "Sorted Names: ['Aishu', 'Bart', 'Homer', 'Raj']\n"
     ]
    },
    {
     "data": {
      "text/plain": [
       "{'Aishu': 0, 'Bart': 1, 'Homer': 2, 'Raj': 3}"
      ]
     },
     "execution_count": 175,
     "metadata": {},
     "output_type": "execute_result"
    }
   ],
   "source": [
    "# Solution 2: Using Function\n",
    "def sort_list_dictionary(namelist):\n",
    "    # Extracting names from the list of dictionaries\n",
    "    names = []\n",
    "    for item in namelist:\n",
    "        names.append(item['name'])\n",
    "    \n",
    "    # Sorting the names\n",
    "    Sortname = sorted(names)\n",
    "    print(\"Sorted Names:\", Sortname)\n",
    "    \n",
    "    # Creating a dictionary with names and their indices\n",
    "    res = {}\n",
    "    for index, name in enumerate(Sortname):\n",
    "        res[name] = index  # Corrected syntax for adding key-value pair\n",
    "    return res\n",
    "\n",
    "# Calling Function\n",
    "sort_list_dictionary([{'name': 'Homer'}, {'name': 'Bart'}, {'name': 'Raj'}, {'name': 'Aishu'}])"
   ]
  },
  {
   "cell_type": "code",
   "execution_count": 185,
   "id": "d98d2407-7083-48a7-a595-0c8f00e5cb63",
   "metadata": {},
   "outputs": [
    {
     "name": "stdout",
     "output_type": "stream",
     "text": [
      "Even Number:  [2, 4, 6, 8, 10, 12, 14, 16, 18, 20, 22, 24, 26, 28, 30, 32, 34, 36, 38, 40, 42, 44, 46, 48, 50, 52, 54, 56, 58, 60, 62, 64, 66, 68, 70, 72, 74, 76, 78, 80, 82, 84, 86, 88, 90, 92, 94, 96, 98, 100]\n",
      "Odd Number:  [1, 3, 5, 7, 9, 11, 13, 15, 17, 19, 21, 23, 25, 27, 29, 31, 33, 35, 37, 39, 41, 43, 45, 47, 49, 51, 53, 55, 57, 59, 61, 63, 65, 67, 69, 71, 73, 75, 77, 79, 81, 83, 85, 87, 89, 91, 93, 95, 97, 99]\n"
     ]
    }
   ],
   "source": [
    "### 11. Write a Python program to generate a list of even numbers from 1 to 100.\n",
    "#Solution 1: Using Even or Odd computing formula\n",
    "even_number = []\n",
    "odd_number = []\n",
    "for i in range(1, 101):\n",
    "    if i % 2 == 0:\n",
    "        even_number.append(i)\n",
    "    else:\n",
    "        odd_number.append(i)\n",
    "print(\"Even Number: \", even_number)\n",
    "print(\"Odd Number: \", odd_number)"
   ]
  },
  {
   "cell_type": "code",
   "execution_count": 186,
   "id": "17f54bf2-c526-4793-99f5-9fd023f1e8f4",
   "metadata": {},
   "outputs": [
    {
     "name": "stdout",
     "output_type": "stream",
     "text": [
      "Even Number:  [2, 4, 6, 8, 10, 12, 14, 16, 18, 20, 22, 24, 26, 28, 30, 32, 34, 36, 38, 40, 42, 44, 46, 48, 50, 52, 54, 56, 58, 60, 62, 64, 66, 68, 70, 72, 74, 76, 78, 80, 82, 84, 86, 88, 90, 92, 94, 96, 98, 100]\n",
      "Odd Number:  [1, 3, 5, 7, 9, 11, 13, 15, 17, 19, 21, 23, 25, 27, 29, 31, 33, 35, 37, 39, 41, 43, 45, 47, 49, 51, 53, 55, 57, 59, 61, 63, 65, 67, 69, 71, 73, 75, 77, 79, 81, 83, 85, 87, 89, 91, 93, 95, 97, 99]\n"
     ]
    }
   ],
   "source": [
    "# Solution 2: Using List Comprehension\n",
    "even_number = [i for i in range(1, 101) if i%2 == 0]\n",
    "odd_number = [i for i in range(1, 101) if i%2 != 0]\n",
    "print(\"Even Number: \", even_number)\n",
    "print(\"Odd Number: \", odd_number)"
   ]
  },
  {
   "cell_type": "code",
   "execution_count": 218,
   "id": "4ba81628-6de6-43cd-a673-3303f284c49d",
   "metadata": {},
   "outputs": [
    {
     "name": "stdout",
     "output_type": "stream",
     "text": [
      "[2, 4, 6, 8, 10, 12, 14, 16, 18, 20, 22, 24, 26, 28, 30, 32, 34, 36, 38, 40, 42, 44, 46, 48, 50, 52, 54, 56, 58, 60, 62, 64, 66, 68, 70, 72, 74, 76, 78, 80, 82, 84, 86, 88, 90, 92, 94, 96, 98, 100]\n"
     ]
    }
   ],
   "source": [
    "# Solution 3: Using Function\n",
    "def even_odd():\n",
    "    even_number = [i for i in range(1, 101) if i%2 == 0]\n",
    "    return even_number\n",
    "# Calling Function\n",
    "print(even_odd())"
   ]
  },
  {
   "cell_type": "code",
   "execution_count": 199,
   "id": "4659286d-622e-4dd2-8471-a4b3282c32a1",
   "metadata": {},
   "outputs": [
    {
     "name": "stdout",
     "output_type": "stream",
     "text": [
      "[(1, 5), (2, 4), (3, 3), (-1, 7)]\n"
     ]
    }
   ],
   "source": [
    "### 12. Write a Python program to find all unique pairs of elements whose sum equals a target value.\n",
    "# Solution 1: Using Iteration\n",
    "nums = [1, 2, 3, 4, 3, 5, 6, -1, 2, 7]\n",
    "target = 6\n",
    "unique_pairs = []   \n",
    "for i in range(len(nums)):\n",
    "    for j in range(i + 1, len(nums)):\n",
    "        if nums[i] + nums[j] == target:\n",
    "            pair = (min(nums[i], nums[j]), max(nums[i], nums[j]))\n",
    "            if pair not in unique_pairs:\n",
    "                    unique_pairs.append(pair)\n",
    "print(unique_pairs)"
   ]
  },
  {
   "cell_type": "code",
   "execution_count": 202,
   "id": "09a06a6d-2f18-4d04-9cda-4be4c6a02c43",
   "metadata": {},
   "outputs": [
    {
     "data": {
      "text/plain": [
       "[(1, 7), (2, 6), (3, 5)]"
      ]
     },
     "execution_count": 202,
     "metadata": {},
     "output_type": "execute_result"
    }
   ],
   "source": [
    "# Solution 2: Using Function\n",
    "def find_unique_pairs(nums, target):\n",
    "    unique_pairs = [] \n",
    "\n",
    "    for i in range(len(nums)):\n",
    "        for j in range(i + 1, len(nums)):\n",
    "            if nums[i] + nums[j] == target:\n",
    "                pair = (min(nums[i], nums[j]), max(nums[i], nums[j]))\n",
    "                if pair not in unique_pairs:\n",
    "                    unique_pairs.append(pair)\n",
    "\n",
    "    return unique_pairs\n",
    "\n",
    "# Calling Function\n",
    "find_unique_pairs([1, 2, 3, 4, 3, 5, 6, -1, 2, 7], 8)"
   ]
  },
  {
   "cell_type": "code",
   "execution_count": 203,
   "id": "9df78787-2151-46f4-b614-356e46a1923a",
   "metadata": {},
   "outputs": [
    {
     "name": "stdout",
     "output_type": "stream",
     "text": [
      "[(2, 4), (3, 3), (-1, 7), (1, 5)]\n"
     ]
    }
   ],
   "source": [
    "# Solution 3: Using Dictionary\n",
    "nums = [1, 2, 3, 4, 3, 5, 6, -1, 2, 7]\n",
    "target = 6\n",
    "seen = {}  # Dictionary to store numbers and their counts\n",
    "unique_pairs = set()  # Set to store unique pairs\n",
    "\n",
    "for num in nums:\n",
    "    complement = target - num  # Calculate the complement needed to reach the target\n",
    "\n",
    "    # Check if the complement is already in the dictionary\n",
    "    if complement in seen:\n",
    "        # Add the pair in a sorted manner to ensure uniqueness\n",
    "        unique_pairs.add((min(num, complement), max(num, complement)))\n",
    "\n",
    "    # Increment the count for the current number\n",
    "    seen[num] = seen.get(num, 0) + 1\n",
    "\n",
    "print(list(unique_pairs))  "
   ]
  },
  {
   "cell_type": "code",
   "execution_count": 236,
   "id": "b8c79ae1-8147-4dc3-a2e0-c8001d748620",
   "metadata": {},
   "outputs": [
    {
     "name": "stdout",
     "output_type": "stream",
     "text": [
      "5\n"
     ]
    }
   ],
   "source": [
    "### 13. Write a function that takes a list and returns the median element (for both odd and even-length lists).\n",
    "# Solution 1: Simple Median formula\n",
    "nums = [1, 2, 3, 4, 3, 5, 6, -1, 2, 7, 10]\n",
    "#minus 1 because the first element is index 0\n",
    "middleIndex = round((len(nums) - 1)/2)\n",
    "print(middleIndex)"
   ]
  },
  {
   "cell_type": "code",
   "execution_count": 243,
   "id": "db33511f-068f-492b-9ef9-ea88b145e8d9",
   "metadata": {},
   "outputs": [
    {
     "name": "stdout",
     "output_type": "stream",
     "text": [
      "6\n"
     ]
    }
   ],
   "source": [
    "# Solution 2:\n",
    "# In the above case, you are calculating the middle index correctly \n",
    "#but not handling the case where the length of the list is even.\n",
    "nums = [1, 2, 3, 4, 3, 5, 6, -1, 2, 7, 10, 12, 20]\n",
    "n = len(nums)\n",
    "# Check if the number of elements is odd or even\n",
    "middle_index = n // 2  # Use integer division\n",
    "\n",
    "if n % 2 == 1:  # Odd length\n",
    "    print(nums[middle_index])\n",
    "else:  # Even length\n",
    "    print( (nums[middle_index - 1] + nums[middle_index]) / 2)\n"
   ]
  },
  {
   "cell_type": "code",
   "execution_count": 245,
   "id": "41ff6ce6-cfce-4dd7-b5bf-11be2c44b378",
   "metadata": {},
   "outputs": [
    {
     "data": {
      "text/plain": [
       "4.0"
      ]
     },
     "execution_count": 245,
     "metadata": {},
     "output_type": "execute_result"
    }
   ],
   "source": [
    "# Solution 3: Using Function\n",
    "def find_median(nums):\n",
    "    n = len(nums)\n",
    "    \n",
    "    # Check if the number of elements is odd or even\n",
    "    middle_index = n // 2  # Use integer division\n",
    "\n",
    "    if n % 2 == 1:  # Odd length\n",
    "        return nums[middle_index] \n",
    "    else:  # Even length\n",
    "        return (nums[middle_index - 1] + nums[middle_index]) / 2 \n",
    "\n",
    "# Example usage\n",
    "find_median([1, 2, 3, 4, 3, 5, 6, -1, 2, 7])\n"
   ]
  },
  {
   "cell_type": "code",
   "execution_count": 254,
   "id": "332164dc-becf-4cbd-a99b-4e9998d202a3",
   "metadata": {},
   "outputs": [
    {
     "name": "stdout",
     "output_type": "stream",
     "text": [
      "[10, 20, 30, 40, 50, 60, 70, 80, 90, 100, 0, 0, 0, 0, 0, 0, 0, 0, 0]\n"
     ]
    }
   ],
   "source": [
    "### 14. Write a Python program to move all zeroes to the end of a list while maintaining the order of other elements.\n",
    "# Solution 1: Simple append and concate list\n",
    "Lists = [10, 0, 30, 0, 40, 0, 20, 0, 60, 0, 80, 0, 70 ,0, 50, 0, 90, 0, 100]\n",
    "zeroslist = []\n",
    "numberlist = []\n",
    "for i in Lists:\n",
    "    if i != 0:\n",
    "        numberlist.append(i)\n",
    "    else:\n",
    "        zeroslist.append(i)\n",
    "numberlist.sort()\n",
    "original_list = numberlist + zeroslist\n",
    "print(original_list)"
   ]
  },
  {
   "cell_type": "code",
   "execution_count": 275,
   "id": "e6ccf546-e260-4639-9e2f-55ee993cf7c0",
   "metadata": {},
   "outputs": [
    {
     "name": "stdout",
     "output_type": "stream",
     "text": [
      "[10, 20, 30, 40, 50, 60, 70, 80, 90, 100, 0, 0, 0, 0, 0, 0, 0, 0, 0]\n"
     ]
    }
   ],
   "source": [
    "# Solution 2: Using extend\n",
    "Lists = [10, 0, 30, 0, 40, 0, 20, 0, 60, 0, 80, 0, 70 ,0, 50, 0, 90, 0, 100]\n",
    "numberlist = [i for i in Lists if i != 0]\n",
    "zerolist = Lists.count(0) \n",
    "numberlist.sort()\n",
    "numberlist.extend([0] * zerolist)\n",
    "print(numberlist)"
   ]
  },
  {
   "cell_type": "code",
   "execution_count": 276,
   "id": "7ede6733-7184-4058-949b-749a98349ec6",
   "metadata": {},
   "outputs": [
    {
     "data": {
      "text/plain": [
       "[10, 20, 30, 40, 50, 60, 70, 80, 90, 100, 0, 0, 0, 0, 0, 0, 0, 0, 0]"
      ]
     },
     "execution_count": 276,
     "metadata": {},
     "output_type": "execute_result"
    }
   ],
   "source": [
    "# Solution 3: Using Function\n",
    "def move_zero_end(Lists):\n",
    "    numberlist = [i for i in Lists if i != 0]\n",
    "    zerolist = Lists.count(0) \n",
    "    numberlist.sort()\n",
    "    numberlist.extend([0] * zerolist)\n",
    "    return numberlist\n",
    "\n",
    "# Calling Function\n",
    "move_zero_end([10, 0, 30, 0, 40, 0, 20, 0, 60, 0, 80, 0, 70 ,0, 50, 0, 90, 0, 100])\n"
   ]
  },
  {
   "cell_type": "code",
   "execution_count": 4,
   "id": "2eb1382c-5524-4a9f-98e2-2052e7f10f9a",
   "metadata": {},
   "outputs": [
    {
     "name": "stdout",
     "output_type": "stream",
     "text": [
      "[[2, 4, 6, 8, 10], [1, 3, 5, 7, 9]]\n"
     ]
    }
   ],
   "source": [
    "### 15. Given a list of integers, write a function that groups the numbers into sublists of odd and even numbers.\n",
    "# Solution 1: Using append\n",
    "numbers = [1, 2, 3, 4, 5, 6, 7, 8, 9, 10]\n",
    "even_numbers = []\n",
    "odd_numbers = []\n",
    "for i in numbers:\n",
    "    if i % 2 == 0:\n",
    "        even_numbers.append(i)\n",
    "    else:\n",
    "        odd_numbers.append(i)\n",
    "complete_list = [even_numbers, odd_numbers]\n",
    "print(complete_list)"
   ]
  },
  {
   "cell_type": "code",
   "execution_count": 5,
   "id": "95a5b5c2-31aa-4d44-996f-950283d05920",
   "metadata": {},
   "outputs": [
    {
     "name": "stdout",
     "output_type": "stream",
     "text": [
      "[[2, 4, 6, 8, 10], [1, 3, 5, 7, 9]]\n"
     ]
    }
   ],
   "source": [
    "# Solution 2: List Comprehension\n",
    "numbers = [1, 2, 3, 4, 5, 6, 7, 8, 9, 10]\n",
    "\n",
    "# Initialize two lists in one line using list comprehension\n",
    "even_numbers = [i for i in numbers if i % 2 == 0]\n",
    "odd_numbers = [i for i in numbers if i % 2 != 0]\n",
    "\n",
    "# Combine them into a complete list\n",
    "complete_list = [even_numbers, odd_numbers]\n",
    "\n",
    "print(complete_list)"
   ]
  },
  {
   "cell_type": "code",
   "execution_count": 6,
   "id": "b0033b90-b433-49c7-8a46-e73efda8381a",
   "metadata": {},
   "outputs": [
    {
     "data": {
      "text/plain": [
       "[[2, 4, 6, 8, 10], [1, 3, 5, 7, 9]]"
      ]
     },
     "execution_count": 6,
     "metadata": {},
     "output_type": "execute_result"
    }
   ],
   "source": [
    "# Solution 3: Using Function\n",
    "def even_odd(numbers):\n",
    "    # Initialize two lists in one line using list comprehension\n",
    "    even_numbers = [i for i in numbers if i % 2 == 0]\n",
    "    odd_numbers = [i for i in numbers if i % 2 != 0]\n",
    "    \n",
    "    # Combine them into a complete list\n",
    "    complete_list = [even_numbers, odd_numbers]\n",
    "    return complete_list\n",
    "\n",
    "# Calling Function \n",
    "even_odd([1, 2, 3, 4, 5, 6, 7, 8, 9, 10])"
   ]
  },
  {
   "cell_type": "code",
   "execution_count": 8,
   "id": "a89f946a-c625-478b-a75f-23928a8b3ea3",
   "metadata": {},
   "outputs": [
    {
     "data": {
      "text/plain": [
       "[9, 10, 4, 5]"
      ]
     },
     "execution_count": 8,
     "metadata": {},
     "output_type": "execute_result"
    }
   ],
   "source": [
    "### 16. Write a Python function to find the intersection of multiple lists (more than two).\n",
    "# Solution 1: Using set\n",
    "lst1 = [15, 9, 10, 56, 23, 78, 5, 4, 9]\n",
    "lst2 = [9, 4, 5, 36, 47, 26, 10, 45, 87]\n",
    "list(set(lst1) & set(lst2))"
   ]
  },
  {
   "cell_type": "code",
   "execution_count": 32,
   "id": "1538a650-912c-480b-94e5-9193592a1e35",
   "metadata": {},
   "outputs": [
    {
     "name": "stdout",
     "output_type": "stream",
     "text": [
      "[9, 10, 5, 4, 9]\n"
     ]
    }
   ],
   "source": [
    "# Solution 2: Using append()\n",
    "lst1 = [15, 9, 10, 56, 23, 78, 5, 4, 9]\n",
    "lst2 = [9, 4, 5, 36, 47, 26, 10, 45, 87]\n",
    "#lst3 = [value for value in lst1 if value in lst2]\n",
    "lst3 = []\n",
    "for value in lst1:\n",
    "    if value in lst2:\n",
    "        lst3.append(value)\n",
    "print(lst3)"
   ]
  },
  {
   "cell_type": "code",
   "execution_count": 34,
   "id": "2e7ea12e-020e-4729-addb-702f15c46289",
   "metadata": {},
   "outputs": [
    {
     "data": {
      "text/plain": [
       "[9, 10, 4, 5]"
      ]
     },
     "execution_count": 34,
     "metadata": {},
     "output_type": "execute_result"
    }
   ],
   "source": [
    "# Solution:  Using Function\n",
    "def intersection_list(lst1, lst2):\n",
    "    lst3 = list(set(lst1) & set(lst2))\n",
    "    return lst3\n",
    "\n",
    "# Calling Function \n",
    "intersection_list([15, 9, 10, 56, 23, 78, 5, 4, 9], [9, 4, 5, 36, 47, 26, 10, 45, 87])"
   ]
  },
  {
   "cell_type": "code",
   "execution_count": 39,
   "id": "e0677150-aa79-4f9a-804c-0ef2de43034b",
   "metadata": {},
   "outputs": [
    {
     "name": "stdout",
     "output_type": "stream",
     "text": [
      "gee\n"
     ]
    }
   ],
   "source": [
    "### 17. Write a program to find the longest common prefix in a list of strings.\n",
    "# Solution 1: \n",
    "strs = [\"geeksforgeeks\", \"geeks\", \"geek\", \"geezer\"]\n",
    "# Sort the list of strings\n",
    "strs.sort()\n",
    "\n",
    "# Get the first and last strings after sorting\n",
    "first = strs[0]\n",
    "last = strs[-1]\n",
    "min_length = min(len(first), len(last))\n",
    "\n",
    "i = 0\n",
    "# Find the common prefix between the first\n",
    "# and last strings\n",
    "while i < min_length and first[i] == last[i]:\n",
    "    i += 1\n",
    "\n",
    "# Check if there's no common prefix\n",
    "if i == 0:\n",
    "    print( \"-1\")\n",
    "\n",
    "# Return the common prefix\n",
    "print( first[:i])\n"
   ]
  },
  {
   "cell_type": "code",
   "execution_count": 41,
   "id": "6596c9ae-7375-4226-ab33-3f18a3623f60",
   "metadata": {},
   "outputs": [
    {
     "data": {
      "text/plain": [
       "'gee'"
      ]
     },
     "execution_count": 41,
     "metadata": {},
     "output_type": "execute_result"
    }
   ],
   "source": [
    "# Solution 3: Using Function\n",
    "def longest_common_prefix(strs):\n",
    "    # Sort the list of strings\n",
    "    strs.sort()\n",
    "\n",
    "    # Get the first and last strings after sorting\n",
    "    first = strs[0]\n",
    "    last = strs[-1]\n",
    "    min_length = min(len(first), len(last))\n",
    "\n",
    "    i = 0\n",
    "    # Find the common prefix between the first\n",
    "    # and last strings\n",
    "    while i < min_length and first[i] == last[i]:\n",
    "        i += 1\n",
    "\n",
    "    # Check if there's no common prefix\n",
    "    if i == 0:\n",
    "        return \"-1\"\n",
    "\n",
    "    # Return the common prefix\n",
    "    return first[:i]\n",
    "\n",
    "# Calling Function\n",
    "longest_common_prefix([\"geeksforgeeks\", \"geeks\", \"geek\", \"geezer\"])"
   ]
  },
  {
   "cell_type": "code",
   "execution_count": 44,
   "id": "256f4206-3803-4028-af37-628ac82b48f4",
   "metadata": {},
   "outputs": [
    {
     "name": "stdout",
     "output_type": "stream",
     "text": [
      "[4, 4, 5, 5, 9, 9, 9, 10, 10, 15, 23, 26, 36, 45, 47, 56, 78, 87]\n"
     ]
    }
   ],
   "source": [
    "### 18. How would you merge multiple sorted lists into a single sorted list?\n",
    "# Solution 1:\n",
    "lst1 = [15, 9, 10, 56, 23, 78, 5, 4, 9]\n",
    "lst2 = [9, 4, 5, 36, 47, 26, 10, 45, 87]\n",
    "mergelist = sorted(lst1 + lst2)\n",
    "print(mergelist)"
   ]
  },
  {
   "cell_type": "code",
   "execution_count": 45,
   "id": "1b469579-9258-4e3a-90ca-d846290a99d1",
   "metadata": {},
   "outputs": [
    {
     "data": {
      "text/plain": [
       "[4, 4, 5, 5, 9, 9, 9, 10, 10, 15, 23, 26, 36, 45, 47, 56, 78, 87]"
      ]
     },
     "execution_count": 45,
     "metadata": {},
     "output_type": "execute_result"
    }
   ],
   "source": [
    "# Solution 2: Using Function\n",
    "def merge_single_list(lst1, lst2):\n",
    "    mergelist = sorted(lst1 + lst2)\n",
    "    return mergelist\n",
    "\n",
    "# Calling Function\n",
    "merge_single_list([15, 9, 10, 56, 23, 78, 5, 4, 9], [9, 4, 5, 36, 47, 26, 10, 45, 87])"
   ]
  },
  {
   "cell_type": "code",
   "execution_count": 47,
   "id": "eab987b0-3659-459e-aef9-9d4622861fa4",
   "metadata": {},
   "outputs": [
    {
     "name": "stdout",
     "output_type": "stream",
     "text": [
      "3\n"
     ]
    }
   ],
   "source": [
    "### 19. Write a Python program to count the number of sublists within a given list.\n",
    "# Solution 1:\n",
    "my_list = [1, 2, [3, 4], 5, [6, 7, 8], 9, []]\n",
    "count = 0\n",
    "for element in my_list:\n",
    "    if isinstance(element, list):  # Check if the element is a list\n",
    "            count += 1  # Increment count if it's a sublist\n",
    "print(count)"
   ]
  },
  {
   "cell_type": "code",
   "execution_count": 49,
   "id": "6547c95b-3d85-4c5d-b9a9-6b2c9b0a9a7a",
   "metadata": {},
   "outputs": [
    {
     "name": "stdout",
     "output_type": "stream",
     "text": [
      "3\n"
     ]
    }
   ],
   "source": [
    "# Solution 2: List Comprehension\n",
    "my_list = [1, 2, [3, 4], 5, [6, 7, 8], 9, []]\n",
    "print( sum(1 for element in my_list if isinstance(element, list)) )\n",
    "    "
   ]
  },
  {
   "cell_type": "code",
   "execution_count": 50,
   "id": "8529a4e7-aa3e-405f-ab6c-02b8a248f437",
   "metadata": {},
   "outputs": [
    {
     "name": "stdout",
     "output_type": "stream",
     "text": [
      "Number of sublists: 3\n"
     ]
    }
   ],
   "source": [
    "# Solution 3: \n",
    "def count_sublists(main_list):\n",
    "    return sum(1 for element in main_list if isinstance(element, list))\n",
    "\n",
    "# Example usage\n",
    "sublists_count = count_sublists([1, 2, [3, 4], 5, [6, 7, 8], 9, []])\n",
    "print(\"Number of sublists:\", sublists_count)\n"
   ]
  },
  {
   "cell_type": "code",
   "execution_count": 53,
   "id": "3200e755-2101-42ac-bd31-466b60e7875f",
   "metadata": {},
   "outputs": [
    {
     "name": "stdout",
     "output_type": "stream",
     "text": [
      "30\n"
     ]
    }
   ],
   "source": [
    "### 20. Write a program to find the maximum product of two numbers in a list.\n",
    "# Solution 1: \n",
    "number_list = [1, 2, 3, 4, 5, 6]\n",
    "if len(number_list) < 2:\n",
    "    print( \"At least two numbers are required.\")\n",
    "\n",
    "# Initialize the largest and second largest\n",
    "max1 = max2 = float('-inf')\n",
    "\n",
    "# Initialize the smallest and second smallest\n",
    "min1 = min2 = float('inf')\n",
    "\n",
    "for i in number_list:\n",
    "    # Update largest and second largest\n",
    "    if i > max1:\n",
    "        max2 = max1\n",
    "        max1 = i\n",
    "    elif i > max2:\n",
    "        max2 = i\n",
    "    \n",
    "    # Update smallest and second smallest\n",
    "    if i < min1:\n",
    "        min2 = min1\n",
    "        min1 = i\n",
    "    elif i < min2:\n",
    "        min2 = i\n",
    "\n",
    "# The maximum product is the maximum of the product of the two largest\n",
    "# and the product of the two smallest\n",
    "print( max(max1 * max2, min1 * min2) )"
   ]
  },
  {
   "cell_type": "code",
   "execution_count": 54,
   "id": "f5e1ea2d-c8fd-4879-bc1d-6b19b2ef4a1e",
   "metadata": {},
   "outputs": [
    {
     "name": "stdout",
     "output_type": "stream",
     "text": [
      "20\n"
     ]
    }
   ],
   "source": [
    "# Solution 2:\n",
    "number_list = [1, 2, 3, 4, 5]\n",
    "if len(number_list) < 2:\n",
    "    print(\"At least two numbers are required.\")\n",
    "\n",
    "# Sort the list\n",
    "number_list.sort()\n",
    "\n",
    "# The maximum product of two numbers\n",
    "max_product = max(number_list[-1] * number_list[-2], number_list[0] * number_list[1])\n",
    "\n",
    "print( max_product)"
   ]
  },
  {
   "cell_type": "code",
   "execution_count": 56,
   "id": "68cf2853-4f9c-4214-9eef-bbfc2fd1a03a",
   "metadata": {},
   "outputs": [
    {
     "name": "stdout",
     "output_type": "stream",
     "text": [
      "Maximum product of two numbers: 56\n"
     ]
    }
   ],
   "source": [
    "# Solution 3: Using Function\n",
    "def max_product(numbers):\n",
    "    if len(numbers) < 2:\n",
    "        print(\"At least two numbers are required.\")\n",
    "\n",
    "    # Sort the list\n",
    "    numbers.sort()\n",
    "\n",
    "    # The maximum product of two numbers\n",
    "    max_product = max(numbers[-1] * numbers[-2], numbers[0] * numbers[1])\n",
    "    \n",
    "    return max_product\n",
    "\n",
    "# Example usage\n",
    "result = max_product([1, 2, 3, 4, 5, 6, 7, 8])\n",
    "print(\"Maximum product of two numbers:\", result)\n"
   ]
  },
  {
   "cell_type": "code",
   "execution_count": null,
   "id": "07a15ae6-1ece-49ad-acdf-ede77f3979b3",
   "metadata": {},
   "outputs": [],
   "source": []
  }
 ],
 "metadata": {
  "kernelspec": {
   "display_name": "Python 3 (ipykernel)",
   "language": "python",
   "name": "python3"
  },
  "language_info": {
   "codemirror_mode": {
    "name": "ipython",
    "version": 3
   },
   "file_extension": ".py",
   "mimetype": "text/x-python",
   "name": "python",
   "nbconvert_exporter": "python",
   "pygments_lexer": "ipython3",
   "version": "3.12.4"
  }
 },
 "nbformat": 4,
 "nbformat_minor": 5
}
