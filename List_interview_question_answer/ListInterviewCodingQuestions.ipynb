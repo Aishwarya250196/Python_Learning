{
 "cells": [
  {
   "cell_type": "code",
   "execution_count": 1,
   "id": "f39dc7d0-c521-492a-abbb-5def6e921b9d",
   "metadata": {},
   "outputs": [
    {
     "name": "stdout",
     "output_type": "stream",
     "text": [
      "Largest: 9, Smallest: 1\n"
     ]
    }
   ],
   "source": [
    "# 1. Write a Python program to find the largest and smallest elements in a list.\n",
    "def find_largest_smallest(lst):\n",
    "    if not lst:\n",
    "        return None, None\n",
    "    largest = max(lst)\n",
    "    smallest = min(lst)\n",
    "    return largest, smallest\n",
    "\n",
    "# Example\n",
    "lst = [3, 1, 7, 4, 2, 9]\n",
    "largest, smallest = find_largest_smallest(lst)\n",
    "print(f\"Largest: {largest}, Smallest: {smallest}\")\n"
   ]
  },
  {
   "cell_type": "code",
   "execution_count": null,
   "id": "8e5f562b-781f-47fd-9476-78c6c84bed4e",
   "metadata": {},
   "outputs": [],
   "source": []
  }
 ],
 "metadata": {
  "kernelspec": {
   "display_name": "Python 3 (ipykernel)",
   "language": "python",
   "name": "python3"
  },
  "language_info": {
   "codemirror_mode": {
    "name": "ipython",
    "version": 3
   },
   "file_extension": ".py",
   "mimetype": "text/x-python",
   "name": "python",
   "nbconvert_exporter": "python",
   "pygments_lexer": "ipython3",
   "version": "3.12.4"
  }
 },
 "nbformat": 4,
 "nbformat_minor": 5
}
