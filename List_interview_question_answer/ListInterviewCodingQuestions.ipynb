{
 "cells": [
  {
   "cell_type": "code",
   "execution_count": 29,
   "id": "b94cbe41-47b4-4795-b214-576c1a2910eb",
   "metadata": {},
   "outputs": [
    {
     "name": "stdout",
     "output_type": "stream",
     "text": [
      "[15, 14, 29, 17, 28]\n",
      "None\n"
     ]
    }
   ],
   "source": [
    "###### 1. Write a Python program to find the largest and smallest elements in a list.\n",
    "import random\n",
    "#Generate 5 random numbers between 10 and 30\n",
    "randomlist = random.sample(range(10, 30), 5)\n",
    "print(randomlist)"
   ]
  },
  {
   "cell_type": "code",
   "execution_count": 36,
   "id": "d6d2159e-5953-4dbf-99bd-c24c4e3fd61b",
   "metadata": {},
   "outputs": [
    {
     "name": "stdout",
     "output_type": "stream",
     "text": [
      "Largest Number: 29\n",
      "Smallest Number: 14\n"
     ]
    }
   ],
   "source": [
    "# Solution 1: Using Iteration\n",
    "# Initialize largest and smallest with the first element of the list\n",
    "largest = randomlist[0]\n",
    "smallest = randomlist[0]\n",
    "\n",
    "# Iterate through the list\n",
    "for num in randomlist:\n",
    "    if num > largest:\n",
    "        largest = num\n",
    "    if num < smallest:\n",
    "        smallest = num\n",
    "\n",
    "# Print results\n",
    "print('Largest Number:', largest)\n",
    "print('Smallest Number:', smallest)"
   ]
  },
  {
   "cell_type": "code",
   "execution_count": 42,
   "id": "964b50ae-0a85-4044-b5ff-397cc1c1e416",
   "metadata": {},
   "outputs": [
    {
     "name": "stdout",
     "output_type": "stream",
     "text": [
      "[14, 15, 17, 28, 29]\n",
      "Largest Number: 29\n",
      "Smallest Number: 14\n"
     ]
    }
   ],
   "source": [
    "# Solution 2: Using Sorting\n",
    "randomlist.sort()\n",
    "print(randomlist)\n",
    "smallest = randomlist[0]\n",
    "largest = randomlist[-1]\n",
    "# Print results\n",
    "print('Largest Number:', largest)\n",
    "print('Smallest Number:', smallest)"
   ]
  },
  {
   "cell_type": "code",
   "execution_count": 46,
   "id": "62a7f4ec-952f-48b9-af11-73ebcd1579a4",
   "metadata": {},
   "outputs": [
    {
     "data": {
      "text/plain": [
       "(29, 14)"
      ]
     },
     "execution_count": 46,
     "metadata": {},
     "output_type": "execute_result"
    }
   ],
   "source": [
    "# Solution 3: Using Function\n",
    "def find_largest_smallest_age(randomlist):\n",
    "    largest = randomlist[0]\n",
    "    smallest = randomlist[0]\n",
    "    for num in randomlist:\n",
    "        if num > largest:\n",
    "            largest = num\n",
    "        if num < smallest:\n",
    "            smallest = num\n",
    "    return largest, smallest\n",
    "\n",
    "# Calling Function\n",
    "find_largest_smallest_age([14, 15, 17, 28, 29])"
   ]
  },
  {
   "cell_type": "code",
   "execution_count": 48,
   "id": "c21927f3-c348-4db2-b81f-270a584d04d9",
   "metadata": {},
   "outputs": [
    {
     "name": "stdout",
     "output_type": "stream",
     "text": [
      "[2, 25, 'abc', 4, 40, 60, 75]\n"
     ]
    }
   ],
   "source": [
    "### 2. How would you remove duplicates from a list without using set().\n",
    "# Solution 1: Using Iteration\n",
    "priceList = [2, 25, 'abc', 2, 4, 40, 60, 75, 'abc', 60]\n",
    "newPriceList = []\n",
    "for i in priceList:\n",
    "    if i not in  newPriceList:\n",
    "        newPriceList.append(i)\n",
    "print(newPriceList)"
   ]
  },
  {
   "cell_type": "code",
   "execution_count": 49,
   "id": "7ed383d7-4d3a-4e4f-99e0-fbb242df72a1",
   "metadata": {},
   "outputs": [
    {
     "data": {
      "text/plain": [
       "[2, 25, 'abc', 4, 40, 60, 75]"
      ]
     },
     "execution_count": 49,
     "metadata": {},
     "output_type": "execute_result"
    }
   ],
   "source": [
    "# Solution 2: Using Function\n",
    "def dublicates(priceList):\n",
    "    newPriceList = []\n",
    "    for i in priceList:\n",
    "        if i not in newPriceList:\n",
    "            newPriceList.append(i)\n",
    "    return newPriceList\n",
    "\n",
    "# Calling Function\n",
    "dublicates([2, 25, 'abc', 2, 4, 40, 60, 75, 'abc', 60])"
   ]
  },
  {
   "cell_type": "code",
   "execution_count": 50,
   "id": "ebf8a028-34a2-4295-93dc-ca598eb358ae",
   "metadata": {},
   "outputs": [
    {
     "name": "stdout",
     "output_type": "stream",
     "text": [
      "[10, 8, 7, 4, 6, 5, 2, 3, 1]\n"
     ]
    }
   ],
   "source": [
    "### 3. Write a program to reverse a list without using built-in methods.\n",
    "# Solution 1: Using Iteration\n",
    "rollnumber = [1,3,2,5,6,4,7,8,10]\n",
    "reverseRollnumber = []\n",
    "for i in rollnumber:\n",
    "    reverseRollnumber.insert(0, i)\n",
    "print(reverseRollnumber)"
   ]
  },
  {
   "cell_type": "code",
   "execution_count": 51,
   "id": "728fb81a-69eb-452d-8864-9cf08b748bc4",
   "metadata": {},
   "outputs": [
    {
     "name": "stdout",
     "output_type": "stream",
     "text": [
      "[10, 8, 7, 4, 6, 5, 2, 3, 1]\n"
     ]
    }
   ],
   "source": [
    "# Solution 2: Using Iteration with indexing\n",
    "rollnumber = [1,3,2,5,6,4,7,8,10]\n",
    "reverseRollnumber = []\n",
    "for i in rollnumber[::-1]:\n",
    "    reverseRollnumber.append(i)\n",
    "print(reverseRollnumber)"
   ]
  },
  {
   "cell_type": "code",
   "execution_count": 53,
   "id": "5382da8b-2e99-4b38-8c43-36a0de7a88b1",
   "metadata": {},
   "outputs": [
    {
     "name": "stdout",
     "output_type": "stream",
     "text": [
      "[10, 8, 7, 4, 6, 5, 2, 3, 1]\n"
     ]
    }
   ],
   "source": [
    "# Solution 3: Using Function\n",
    "def reverse_Rollnumber(rollnumber):\n",
    "    reverseRollnumber = []\n",
    "    for i in rollnumber:\n",
    "        reverseRollnumber.insert(0, i)\n",
    "    return reverseRollnumber\n",
    "print(reverseRollnumber)"
   ]
  },
  {
   "cell_type": "code",
   "execution_count": 56,
   "id": "9064ad7d-ee1e-40f3-a890-c06b322b6eb6",
   "metadata": {},
   "outputs": [
    {
     "name": "stdout",
     "output_type": "stream",
     "text": [
      "[1, 2, 3, 4, 5, 6, 7, 8]\n"
     ]
    }
   ],
   "source": [
    "### 4. Given two lists, write a program to merge them into a new list without duplicates.\n",
    "# Solution 1: Using Iteration\n",
    "list1 = [1,2,3,4,5]\n",
    "list2 = [4,5,6,7,8]\n",
    "list3 = list1 + list2\n",
    "no_dublicate_list3 = []\n",
    "for i in list3:\n",
    "    if i not in no_dublicate_list3:\n",
    "        no_dublicate_list3.append(i)\n",
    "print(no_dublicate_list3)"
   ]
  },
  {
   "cell_type": "code",
   "execution_count": 59,
   "id": "3bbed58d-d818-4df1-beb8-7e76b7d47d6c",
   "metadata": {},
   "outputs": [
    {
     "data": {
      "text/plain": [
       "[1, 2, 'abc', 4, 'a', 'g', 5, 'h']"
      ]
     },
     "execution_count": 59,
     "metadata": {},
     "output_type": "execute_result"
    }
   ],
   "source": [
    "# Solution 2: Using Funtion\n",
    "def not_dublicate_value(list1, list2):\n",
    "    list3 = list1 + list2\n",
    "    no_dublicate_list3 = []\n",
    "    for i in list3:\n",
    "        if i not in no_dublicate_list3:\n",
    "            no_dublicate_list3.append(i)\n",
    "    return no_dublicate_list3\n",
    "\n",
    "# Calling Function\n",
    "not_dublicate_value([1,2,'abc',4,'a','g'], [4,'abc',5,'g','h'])"
   ]
  },
  {
   "cell_type": "code",
   "execution_count": 69,
   "id": "b6e6fdb5-21e9-4609-8933-63d0e6bef4c6",
   "metadata": {},
   "outputs": [
    {
     "name": "stdout",
     "output_type": "stream",
     "text": [
      "No, It is not palindromlist list.\n"
     ]
    }
   ],
   "source": [
    "### 5. Write a Python program to check if a list is a palindrome.\n",
    "# Solution 1: Using list slicing\n",
    "lists = [0,1,1,2]\n",
    "# Reversing the list\n",
    "reverse = lists[::-1]\n",
    "if lists == reverse:\n",
    "    print('Yes, It is palindromlist list.')\n",
    "else:\n",
    "    print('No, It is not palindromlist list.')\n",
    "    "
   ]
  },
  {
   "cell_type": "code",
   "execution_count": 75,
   "id": "6c3f99ff-8886-4d34-b113-aa3908f92a63",
   "metadata": {},
   "outputs": [
    {
     "name": "stdout",
     "output_type": "stream",
     "text": [
      "Yes, It is palindromlist list.\n"
     ]
    }
   ],
   "source": [
    "# Solution 2: Using reversed()\n",
    "lists = [0,1,1,0]\n",
    "# reversing list\n",
    "reverse = list(reversed(lists))\n",
    "if lists == reverse:\n",
    "    print('Yes, It is palindromlist list.')\n",
    "else:\n",
    "    print('No, It is not palindromlist list.')"
   ]
  },
  {
   "cell_type": "code",
   "execution_count": 89,
   "id": "8ee380fb-63ed-44cd-b8ac-959862e22f53",
   "metadata": {},
   "outputs": [
    {
     "name": "stdout",
     "output_type": "stream",
     "text": [
      "Yes, It is palindromlist list.\n"
     ]
    }
   ],
   "source": [
    "# Solution 3: Using Function\n",
    "def check_palindrom_list(lists):\n",
    "    reverse = lists[::-1]\n",
    "    return reverse\n",
    "\n",
    "# Example list\n",
    "lists = [0, 1, 1, 0]\n",
    "output = check_palindrom_list(lists)\n",
    "\n",
    "if lists == output:\n",
    "    print('Yes, It is palindromlist list.')\n",
    "else:\n",
    "    print('No, It is not palindromlist list.')\n",
    "\n"
   ]
  },
  {
   "cell_type": "code",
   "execution_count": 107,
   "id": "1c8c4acb-dfd7-4d3a-a9db-57601221639f",
   "metadata": {},
   "outputs": [
    {
     "name": "stdout",
     "output_type": "stream",
     "text": [
      "[14, 15, 17, 28, 29]\n",
      "Second Smallest Element:  15\n"
     ]
    }
   ],
   "source": [
    "### 6. Write a Python program to find the second smallest element in a list.\n",
    "# Solution 1: Using sorting\n",
    "randomlist.sort()\n",
    "print(randomlist)\n",
    "print('Second Smallest Element: ', randomlist[1])"
   ]
  },
  {
   "cell_type": "code",
   "execution_count": 154,
   "id": "0aacf5f4-bfed-4f3a-80ab-3ef7a0b796ab",
   "metadata": {},
   "outputs": [
    {
     "name": "stdout",
     "output_type": "stream",
     "text": [
      "[14, 15, 17, 28, 29]\n",
      "Second Smallest Element:  15\n"
     ]
    }
   ],
   "source": [
    "# Solution 2: Using Sorting and Operation\n",
    "randomlist.sort()\n",
    "print(randomlist)\n",
    "if randomlist[0] < randomlist[1]:\n",
    "    smallest = randomlist[0]\n",
    "    secondSmallest = randomlist[1]\n",
    "print('Second Smallest Element: ', secondSmallest)"
   ]
  },
  {
   "cell_type": "code",
   "execution_count": 173,
   "id": "8e36d1fd-4b4d-4dc8-a720-044cd6a87049",
   "metadata": {},
   "outputs": [
    {
     "data": {
      "text/plain": [
       "10"
      ]
     },
     "execution_count": 173,
     "metadata": {},
     "output_type": "execute_result"
    }
   ],
   "source": [
    "# Solution 3: Using Function\n",
    "def second_smallest(randomlist1):\n",
    "    secondSmallest = 0\n",
    "    randomlist1.sort()\n",
    "    if randomlist1[0] < randomlist1[1]:\n",
    "        smallest = randomlist1[0]\n",
    "        secondSmallest = randomlist1[1]\n",
    "    return secondSmallest\n",
    "\n",
    "# Calling Function\n",
    "second_smallest([14, 17, 10, 8, 29])"
   ]
  },
  {
   "cell_type": "code",
   "execution_count": 184,
   "id": "f9cc874a-5b4b-4d20-9e06-40ce39250924",
   "metadata": {},
   "outputs": [
    {
     "name": "stdout",
     "output_type": "stream",
     "text": [
      "{'Apple': 3, 'Banana': 1, 'Mango': 2}\n"
     ]
    }
   ],
   "source": [
    "### 7. How would you count the frequency of each element in a list?\n",
    "# Solution 1: Convert to Dictionary\n",
    "fruits = ['Apple', 'Banana', 'Mango', 'Apple', 'Mango', 'Apple']\n",
    "# Create an empty dictionary to store the frequency\n",
    "fruit_count = {}\n",
    "for i in fruits:\n",
    "    if i in fruit_count:\n",
    "        fruit_count[i] += 1\n",
    "    else:\n",
    "        fruit_count[i] = 1   \n",
    "\n",
    "print(fruit_count)"
   ]
  },
  {
   "cell_type": "code",
   "execution_count": 203,
   "id": "d62b5775-1345-4a53-a3bc-593a428cb466",
   "metadata": {},
   "outputs": [
    {
     "name": "stdout",
     "output_type": "stream",
     "text": [
      "Set: {'Apple', 'Banana', 'Mango'}\n",
      "Apple:3\n",
      "Banana:1\n",
      "Mango:2\n"
     ]
    }
   ],
   "source": [
    "# Solution 2: Conver to set\n",
    "fruits = ['Apple', 'Banana', 'Mango', 'Apple', 'Mango', 'Apple']\n",
    "fruit_set = set(fruits)\n",
    "print(\"Set:\", fruit_set)\n",
    "for i in fruit_set:\n",
    "    #print(fruits.count(i))\n",
    "    print(f\"{i}:{fruits.count(i)}\")"
   ]
  },
  {
   "cell_type": "code",
   "execution_count": 211,
   "id": "8748ffcf-16fa-4597-9d65-bcd2400302a4",
   "metadata": {},
   "outputs": [
    {
     "data": {
      "text/plain": [
       "{'Apple': 3, 'Banana': 1, 'Mango': 2}"
      ]
     },
     "execution_count": 211,
     "metadata": {},
     "output_type": "execute_result"
    }
   ],
   "source": [
    "# Solution 3: Using Function\n",
    "def count_of_fruit(fruits):\n",
    "    fruit_dict = {}\n",
    "    fruit_set = set(fruits)\n",
    "    for i in fruit_set:\n",
    "        fruit_dict[i] = fruits.count(i)\n",
    "    return fruit_dict\n",
    "\n",
    "# Calling Function\n",
    "count_of_fruit(['Apple', 'Banana', 'Mango', 'Apple', 'Mango', 'Apple'])\n",
    "    "
   ]
  },
  {
   "cell_type": "code",
   "execution_count": 215,
   "id": "0f20ba11-99f0-4101-8661-b6ddec465a7b",
   "metadata": {},
   "outputs": [
    {
     "name": "stdout",
     "output_type": "stream",
     "text": [
      "[3, 4, 5, 6]\n"
     ]
    }
   ],
   "source": [
    "### 8. Write a Python program to find the intersection of two lists.\n",
    "# Solution 1: Convert list to set\n",
    "list1 = [1,2,3,4,5,6]\n",
    "list2 = [3,4,5,6,7,8]\n",
    "set_list1 = set(list1)\n",
    "set_list2 = set(list2)\n",
    "set_list3 = set_list1.intersection(set_list2)\n",
    "print(list(set_list3))"
   ]
  },
  {
   "cell_type": "code",
   "execution_count": 220,
   "id": "db05560b-ca2c-4802-97e9-af8047889682",
   "metadata": {},
   "outputs": [
    {
     "name": "stdout",
     "output_type": "stream",
     "text": [
      "[3, 4, 5, 6]\n"
     ]
    }
   ],
   "source": [
    "# Solution 2: Using Iteration\n",
    "list1 = [1,2,3,4,5,6]\n",
    "list2 = [3,4,5,6,7,8]\n",
    "intersectionList = []\n",
    "for i in list1:\n",
    "     if i in list2:\n",
    "         intersectionList.append(i)\n",
    "print(intersectionList)\n",
    "        "
   ]
  },
  {
   "cell_type": "code",
   "execution_count": 222,
   "id": "6ff0c18b-c2f3-4577-b351-d52d10a9fe4d",
   "metadata": {},
   "outputs": [
    {
     "data": {
      "text/plain": [
       "[3, 4, 5, 6]"
      ]
     },
     "execution_count": 222,
     "metadata": {},
     "output_type": "execute_result"
    }
   ],
   "source": [
    "# Solution 3: Using Function\n",
    "def intersection_element(list1, list2):\n",
    "    intersectionList = []\n",
    "    for i in list1:\n",
    "        if i in list2:\n",
    "            intersectionList.append(i)\n",
    "    return intersectionList\n",
    "\n",
    "# Calling Function\n",
    "intersection_element([1,2,3,4,5,6], [3,4,5,6,7,8])"
   ]
  },
  {
   "cell_type": "code",
   "execution_count": 229,
   "id": "f4157453-b35b-4f3c-919f-4a14754b4b69",
   "metadata": {},
   "outputs": [
    {
     "name": "stdout",
     "output_type": "stream",
     "text": [
      "[1, 3, 2, 4]\n"
     ]
    }
   ],
   "source": [
    "### 9. Write a program to concatenate two lists element-wise (e.g., [1, 2] and [3, 4] should become [1, 3, 2, 4]).\n",
    "# Solution 1: \n",
    "def concatenate_element_wise(list1, list2):\n",
    "    # Create an empty list to store the result\n",
    "    result = []\n",
    "    \n",
    "    # Get the minimum length to avoid index out-of-range errors\n",
    "    length = min(len(list1), len(list2))\n",
    "    \n",
    "    # Iterate through the lists and add elements from both lists alternately\n",
    "    for i in range(length):\n",
    "        result.append(list1[i])\n",
    "        result.append(list2[i])\n",
    "    \n",
    "    # Add remaining elements if the lists are of unequal length\n",
    "    if len(list1) > length:\n",
    "        result.extend(list1[length:])\n",
    "    if len(list2) > length:\n",
    "        result.extend(list2[length:])\n",
    "    \n",
    "    return result\n",
    "\n",
    "# Example usage\n",
    "list1 = [1, 2]\n",
    "list2 = [3, 4]\n",
    "\n",
    "# Calling the function\n",
    "result = concatenate_element_wise(list1, list2)\n",
    "\n",
    "# Print the result\n",
    "print(result)\n",
    "\n"
   ]
  },
  {
   "cell_type": "code",
   "execution_count": 239,
   "id": "eccd284b-43b3-49ec-876a-a96018f7d0fb",
   "metadata": {},
   "outputs": [
    {
     "name": "stdout",
     "output_type": "stream",
     "text": [
      "[10, 20, 35, 95]\n"
     ]
    }
   ],
   "source": [
    "### 10. Write a Python program to remove every second element from a list.\n",
    "# Solution 1: Using List del function\n",
    "list1 = [10,15,20,30,35,70,95,100]\n",
    "del list1[1::2]\n",
    "print(list1)"
   ]
  },
  {
   "cell_type": "code",
   "execution_count": 240,
   "id": "67309a27-03c7-4e08-a917-a5d90b746439",
   "metadata": {},
   "outputs": [
    {
     "data": {
      "text/plain": [
       "[10, 20, 35, 95]"
      ]
     },
     "execution_count": 240,
     "metadata": {},
     "output_type": "execute_result"
    }
   ],
   "source": [
    "# Solution 2: Using Function\n",
    "def del_second_element(list1):\n",
    "    del list1[1::2]\n",
    "    return list1\n",
    "\n",
    "# Calling Function\n",
    "del_second_element([10,15,20,30,35,70,95,100])"
   ]
  },
  {
   "cell_type": "code",
   "execution_count": null,
   "id": "3612d55f-99eb-413c-9a67-ea96e0188e5e",
   "metadata": {},
   "outputs": [],
   "source": []
  }
 ],
 "metadata": {
  "kernelspec": {
   "display_name": "Python 3 (ipykernel)",
   "language": "python",
   "name": "python3"
  },
  "language_info": {
   "codemirror_mode": {
    "name": "ipython",
    "version": 3
   },
   "file_extension": ".py",
   "mimetype": "text/x-python",
   "name": "python",
   "nbconvert_exporter": "python",
   "pygments_lexer": "ipython3",
   "version": "3.12.4"
  }
 },
 "nbformat": 4,
 "nbformat_minor": 5
}
