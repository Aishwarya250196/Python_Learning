{
 "cells": [
  {
   "cell_type": "code",
   "execution_count": 29,
   "id": "b94cbe41-47b4-4795-b214-576c1a2910eb",
   "metadata": {},
   "outputs": [
    {
     "name": "stdout",
     "output_type": "stream",
     "text": [
      "[15, 14, 29, 17, 28]\n",
      "None\n"
     ]
    }
   ],
   "source": [
    "###### 1. Write a Python program to find the largest and smallest elements in a list.\n",
    "import random\n",
    "#Generate 5 random numbers between 10 and 30\n",
    "randomlist = random.sample(range(10, 30), 5)\n",
    "print(randomlist)"
   ]
  },
  {
   "cell_type": "code",
   "execution_count": 36,
   "id": "d6d2159e-5953-4dbf-99bd-c24c4e3fd61b",
   "metadata": {},
   "outputs": [
    {
     "name": "stdout",
     "output_type": "stream",
     "text": [
      "Largest Number: 29\n",
      "Smallest Number: 14\n"
     ]
    }
   ],
   "source": [
    "# Solution 1: Using Iteration\n",
    "# Initialize largest and smallest with the first element of the list\n",
    "largest = randomlist[0]\n",
    "smallest = randomlist[0]\n",
    "\n",
    "# Iterate through the list\n",
    "for num in randomlist:\n",
    "    if num > largest:\n",
    "        largest = num\n",
    "    if num < smallest:\n",
    "        smallest = num\n",
    "\n",
    "# Print results\n",
    "print('Largest Number:', largest)\n",
    "print('Smallest Number:', smallest)"
   ]
  },
  {
   "cell_type": "code",
   "execution_count": 42,
   "id": "964b50ae-0a85-4044-b5ff-397cc1c1e416",
   "metadata": {},
   "outputs": [
    {
     "name": "stdout",
     "output_type": "stream",
     "text": [
      "[14, 15, 17, 28, 29]\n",
      "Largest Number: 29\n",
      "Smallest Number: 14\n"
     ]
    }
   ],
   "source": [
    "# Solution 2: Using Sorting\n",
    "randomlist.sort()\n",
    "print(randomlist)\n",
    "smallest = randomlist[0]\n",
    "largest = randomlist[-1]\n",
    "# Print results\n",
    "print('Largest Number:', largest)\n",
    "print('Smallest Number:', smallest)"
   ]
  },
  {
   "cell_type": "code",
   "execution_count": 46,
   "id": "62a7f4ec-952f-48b9-af11-73ebcd1579a4",
   "metadata": {},
   "outputs": [
    {
     "data": {
      "text/plain": [
       "(29, 14)"
      ]
     },
     "execution_count": 46,
     "metadata": {},
     "output_type": "execute_result"
    }
   ],
   "source": [
    "# Solution 3: Using Function\n",
    "def find_largest_smallest_age(randomlist):\n",
    "    largest = randomlist[0]\n",
    "    smallest = randomlist[0]\n",
    "    for num in randomlist:\n",
    "        if num > largest:\n",
    "            largest = num\n",
    "        if num < smallest:\n",
    "            smallest = num\n",
    "    return largest, smallest\n",
    "\n",
    "# Calling Function\n",
    "find_largest_smallest_age([14, 15, 17, 28, 29])"
   ]
  },
  {
   "cell_type": "code",
   "execution_count": 48,
   "id": "c21927f3-c348-4db2-b81f-270a584d04d9",
   "metadata": {},
   "outputs": [
    {
     "name": "stdout",
     "output_type": "stream",
     "text": [
      "[2, 25, 'abc', 4, 40, 60, 75]\n"
     ]
    }
   ],
   "source": [
    "### 2. How would you remove duplicates from a list without using set().\n",
    "# Solution 1: Using Iteration\n",
    "priceList = [2, 25, 'abc', 2, 4, 40, 60, 75, 'abc', 60]\n",
    "newPriceList = []\n",
    "for i in priceList:\n",
    "    if i not in  newPriceList:\n",
    "        newPriceList.append(i)\n",
    "print(newPriceList)"
   ]
  },
  {
   "cell_type": "code",
   "execution_count": 49,
   "id": "7ed383d7-4d3a-4e4f-99e0-fbb242df72a1",
   "metadata": {},
   "outputs": [
    {
     "data": {
      "text/plain": [
       "[2, 25, 'abc', 4, 40, 60, 75]"
      ]
     },
     "execution_count": 49,
     "metadata": {},
     "output_type": "execute_result"
    }
   ],
   "source": [
    "# Solution 2: Using Function\n",
    "def dublicates(priceList):\n",
    "    newPriceList = []\n",
    "    for i in priceList:\n",
    "        if i not in newPriceList:\n",
    "            newPriceList.append(i)\n",
    "    return newPriceList\n",
    "\n",
    "# Calling Function\n",
    "dublicates([2, 25, 'abc', 2, 4, 40, 60, 75, 'abc', 60])"
   ]
  },
  {
   "cell_type": "code",
   "execution_count": 50,
   "id": "ebf8a028-34a2-4295-93dc-ca598eb358ae",
   "metadata": {},
   "outputs": [
    {
     "name": "stdout",
     "output_type": "stream",
     "text": [
      "[10, 8, 7, 4, 6, 5, 2, 3, 1]\n"
     ]
    }
   ],
   "source": [
    "### 3. Write a program to reverse a list without using built-in methods.\n",
    "# Solution 1: Using Iteration\n",
    "rollnumber = [1,3,2,5,6,4,7,8,10]\n",
    "reverseRollnumber = []\n",
    "for i in rollnumber:\n",
    "    reverseRollnumber.insert(0, i)\n",
    "print(reverseRollnumber)"
   ]
  },
  {
   "cell_type": "code",
   "execution_count": 51,
   "id": "728fb81a-69eb-452d-8864-9cf08b748bc4",
   "metadata": {},
   "outputs": [
    {
     "name": "stdout",
     "output_type": "stream",
     "text": [
      "[10, 8, 7, 4, 6, 5, 2, 3, 1]\n"
     ]
    }
   ],
   "source": [
    "# Solution 2: Using Iteration with indexing\n",
    "rollnumber = [1,3,2,5,6,4,7,8,10]\n",
    "reverseRollnumber = []\n",
    "for i in rollnumber[::-1]:\n",
    "    reverseRollnumber.append(i)\n",
    "print(reverseRollnumber)"
   ]
  },
  {
   "cell_type": "code",
   "execution_count": 53,
   "id": "5382da8b-2e99-4b38-8c43-36a0de7a88b1",
   "metadata": {},
   "outputs": [
    {
     "name": "stdout",
     "output_type": "stream",
     "text": [
      "[10, 8, 7, 4, 6, 5, 2, 3, 1]\n"
     ]
    }
   ],
   "source": [
    "# Solution 3: Using Function\n",
    "def reverse_Rollnumber(rollnumber):\n",
    "    reverseRollnumber = []\n",
    "    for i in rollnumber:\n",
    "        reverseRollnumber.insert(0, i)\n",
    "    return reverseRollnumber\n",
    "print(reverseRollnumber)"
   ]
  },
  {
   "cell_type": "code",
   "execution_count": 56,
   "id": "9064ad7d-ee1e-40f3-a890-c06b322b6eb6",
   "metadata": {},
   "outputs": [
    {
     "name": "stdout",
     "output_type": "stream",
     "text": [
      "[1, 2, 3, 4, 5, 6, 7, 8]\n"
     ]
    }
   ],
   "source": [
    "### 4. Given two lists, write a program to merge them into a new list without duplicates.\n",
    "# Solution 1: Using Iteration\n",
    "list1 = [1,2,3,4,5]\n",
    "list2 = [4,5,6,7,8]\n",
    "list3 = list1 + list2\n",
    "no_dublicate_list3 = []\n",
    "for i in list3:\n",
    "    if i not in no_dublicate_list3:\n",
    "        no_dublicate_list3.append(i)\n",
    "print(no_dublicate_list3)"
   ]
  },
  {
   "cell_type": "code",
   "execution_count": 59,
   "id": "3bbed58d-d818-4df1-beb8-7e76b7d47d6c",
   "metadata": {},
   "outputs": [
    {
     "data": {
      "text/plain": [
       "[1, 2, 'abc', 4, 'a', 'g', 5, 'h']"
      ]
     },
     "execution_count": 59,
     "metadata": {},
     "output_type": "execute_result"
    }
   ],
   "source": [
    "# Solution 2: Using Funtion\n",
    "def not_dublicate_value(list1, list2):\n",
    "    list3 = list1 + list2\n",
    "    no_dublicate_list3 = []\n",
    "    for i in list3:\n",
    "        if i not in no_dublicate_list3:\n",
    "            no_dublicate_list3.append(i)\n",
    "    return no_dublicate_list3\n",
    "\n",
    "# Calling Function\n",
    "not_dublicate_value([1,2,'abc',4,'a','g'], [4,'abc',5,'g','h'])"
   ]
  },
  {
   "cell_type": "code",
   "execution_count": 69,
   "id": "b6e6fdb5-21e9-4609-8933-63d0e6bef4c6",
   "metadata": {},
   "outputs": [
    {
     "name": "stdout",
     "output_type": "stream",
     "text": [
      "No, It is not palindromlist list.\n"
     ]
    }
   ],
   "source": [
    "### 5. Write a Python program to check if a list is a palindrome.\n",
    "# Solution 1: Using list slicing\n",
    "lists = [0,1,1,2]\n",
    "# Reversing the list\n",
    "reverse = lists[::-1]\n",
    "if lists == reverse:\n",
    "    print('Yes, It is palindromlist list.')\n",
    "else:\n",
    "    print('No, It is not palindromlist list.')\n",
    "    "
   ]
  },
  {
   "cell_type": "code",
   "execution_count": 75,
   "id": "6c3f99ff-8886-4d34-b113-aa3908f92a63",
   "metadata": {},
   "outputs": [
    {
     "name": "stdout",
     "output_type": "stream",
     "text": [
      "Yes, It is palindromlist list.\n"
     ]
    }
   ],
   "source": [
    "# Solution 2: Using reversed()\n",
    "lists = [0,1,1,0]\n",
    "# reversing list\n",
    "reverse = list(reversed(lists))\n",
    "if lists == reverse:\n",
    "    print('Yes, It is palindromlist list.')\n",
    "else:\n",
    "    print('No, It is not palindromlist list.')"
   ]
  },
  {
   "cell_type": "code",
   "execution_count": 89,
   "id": "8ee380fb-63ed-44cd-b8ac-959862e22f53",
   "metadata": {},
   "outputs": [
    {
     "name": "stdout",
     "output_type": "stream",
     "text": [
      "Yes, It is palindromlist list.\n"
     ]
    }
   ],
   "source": [
    "# Solution 3: Using Function\n",
    "def check_palindrom_list(lists):\n",
    "    reverse = lists[::-1]\n",
    "    return reverse\n",
    "\n",
    "# Example list\n",
    "lists = [0, 1, 1, 0]\n",
    "output = check_palindrom_list(lists)\n",
    "\n",
    "if lists == output:\n",
    "    print('Yes, It is palindromlist list.')\n",
    "else:\n",
    "    print('No, It is not palindromlist list.')\n",
    "\n"
   ]
  },
  {
   "cell_type": "code",
   "execution_count": 107,
   "id": "1c8c4acb-dfd7-4d3a-a9db-57601221639f",
   "metadata": {},
   "outputs": [
    {
     "name": "stdout",
     "output_type": "stream",
     "text": [
      "[14, 15, 17, 28, 29]\n",
      "Second Smallest Element:  15\n"
     ]
    }
   ],
   "source": [
    "### 6. Write a Python program to find the second smallest element in a list.\n",
    "# Solution 1: Using sorting\n",
    "randomlist.sort()\n",
    "print(randomlist)\n",
    "print('Second Smallest Element: ', randomlist[1])"
   ]
  },
  {
   "cell_type": "code",
   "execution_count": 154,
   "id": "0aacf5f4-bfed-4f3a-80ab-3ef7a0b796ab",
   "metadata": {},
   "outputs": [
    {
     "name": "stdout",
     "output_type": "stream",
     "text": [
      "[14, 15, 17, 28, 29]\n",
      "Second Smallest Element:  15\n"
     ]
    }
   ],
   "source": [
    "# Solution 2: Using Sorting and Operation\n",
    "randomlist.sort()\n",
    "print(randomlist)\n",
    "if randomlist[0] < randomlist[1]:\n",
    "    smallest = randomlist[0]\n",
    "    secondSmallest = randomlist[1]\n",
    "print('Second Smallest Element: ', secondSmallest)"
   ]
  },
  {
   "cell_type": "code",
   "execution_count": 173,
   "id": "8e36d1fd-4b4d-4dc8-a720-044cd6a87049",
   "metadata": {},
   "outputs": [
    {
     "data": {
      "text/plain": [
       "10"
      ]
     },
     "execution_count": 173,
     "metadata": {},
     "output_type": "execute_result"
    }
   ],
   "source": [
    "# Solution 3: Using Function\n",
    "def second_smallest(randomlist1):\n",
    "    secondSmallest = 0\n",
    "    randomlist1.sort()\n",
    "    if randomlist1[0] < randomlist1[1]:\n",
    "        smallest = randomlist1[0]\n",
    "        secondSmallest = randomlist1[1]\n",
    "    return secondSmallest\n",
    "\n",
    "# Calling Function\n",
    "second_smallest([14, 17, 10, 8, 29])"
   ]
  },
  {
   "cell_type": "code",
   "execution_count": 184,
   "id": "f9cc874a-5b4b-4d20-9e06-40ce39250924",
   "metadata": {},
   "outputs": [
    {
     "name": "stdout",
     "output_type": "stream",
     "text": [
      "{'Apple': 3, 'Banana': 1, 'Mango': 2}\n"
     ]
    }
   ],
   "source": [
    "### 7. How would you count the frequency of each element in a list?\n",
    "# Solution 1: Convert to Dictionary\n",
    "fruits = ['Apple', 'Banana', 'Mango', 'Apple', 'Mango', 'Apple']\n",
    "# Create an empty dictionary to store the frequency\n",
    "fruit_count = {}\n",
    "for i in fruits:\n",
    "    if i in fruit_count:\n",
    "        fruit_count[i] += 1\n",
    "    else:\n",
    "        fruit_count[i] = 1   \n",
    "\n",
    "print(fruit_count)"
   ]
  },
  {
   "cell_type": "code",
   "execution_count": 203,
   "id": "d62b5775-1345-4a53-a3bc-593a428cb466",
   "metadata": {},
   "outputs": [
    {
     "name": "stdout",
     "output_type": "stream",
     "text": [
      "Set: {'Apple', 'Banana', 'Mango'}\n",
      "Apple:3\n",
      "Banana:1\n",
      "Mango:2\n"
     ]
    }
   ],
   "source": [
    "# Solution 2: Conver to set\n",
    "fruits = ['Apple', 'Banana', 'Mango', 'Apple', 'Mango', 'Apple']\n",
    "fruit_set = set(fruits)\n",
    "print(\"Set:\", fruit_set)\n",
    "for i in fruit_set:\n",
    "    #print(fruits.count(i))\n",
    "    print(f\"{i}:{fruits.count(i)}\")"
   ]
  },
  {
   "cell_type": "code",
   "execution_count": 211,
   "id": "8748ffcf-16fa-4597-9d65-bcd2400302a4",
   "metadata": {},
   "outputs": [
    {
     "data": {
      "text/plain": [
       "{'Apple': 3, 'Banana': 1, 'Mango': 2}"
      ]
     },
     "execution_count": 211,
     "metadata": {},
     "output_type": "execute_result"
    }
   ],
   "source": [
    "# Solution 3: Using Function\n",
    "def count_of_fruit(fruits):\n",
    "    fruit_dict = {}\n",
    "    fruit_set = set(fruits)\n",
    "    for i in fruit_set:\n",
    "        fruit_dict[i] = fruits.count(i)\n",
    "    return fruit_dict\n",
    "\n",
    "# Calling Function\n",
    "count_of_fruit(['Apple', 'Banana', 'Mango', 'Apple', 'Mango', 'Apple'])\n",
    "    "
   ]
  },
  {
   "cell_type": "code",
   "execution_count": 215,
   "id": "0f20ba11-99f0-4101-8661-b6ddec465a7b",
   "metadata": {},
   "outputs": [
    {
     "name": "stdout",
     "output_type": "stream",
     "text": [
      "[3, 4, 5, 6]\n"
     ]
    }
   ],
   "source": [
    "### 8. Write a Python program to find the intersection of two lists.\n",
    "# Solution 1: Convert list to set\n",
    "list1 = [1,2,3,4,5,6]\n",
    "list2 = [3,4,5,6,7,8]\n",
    "set_list1 = set(list1)\n",
    "set_list2 = set(list2)\n",
    "set_list3 = set_list1.intersection(set_list2)\n",
    "print(list(set_list3))"
   ]
  },
  {
   "cell_type": "code",
   "execution_count": 220,
   "id": "db05560b-ca2c-4802-97e9-af8047889682",
   "metadata": {},
   "outputs": [
    {
     "name": "stdout",
     "output_type": "stream",
     "text": [
      "[3, 4, 5, 6]\n"
     ]
    }
   ],
   "source": [
    "# Solution 2: Using Iteration\n",
    "list1 = [1,2,3,4,5,6]\n",
    "list2 = [3,4,5,6,7,8]\n",
    "intersectionList = []\n",
    "for i in list1:\n",
    "     if i in list2:\n",
    "         intersectionList.append(i)\n",
    "print(intersectionList)\n",
    "        "
   ]
  },
  {
   "cell_type": "code",
   "execution_count": 222,
   "id": "6ff0c18b-c2f3-4577-b351-d52d10a9fe4d",
   "metadata": {},
   "outputs": [
    {
     "data": {
      "text/plain": [
       "[3, 4, 5, 6]"
      ]
     },
     "execution_count": 222,
     "metadata": {},
     "output_type": "execute_result"
    }
   ],
   "source": [
    "# Solution 3: Using Function\n",
    "def intersection_element(list1, list2):\n",
    "    intersectionList = []\n",
    "    for i in list1:\n",
    "        if i in list2:\n",
    "            intersectionList.append(i)\n",
    "    return intersectionList\n",
    "\n",
    "# Calling Function\n",
    "intersection_element([1,2,3,4,5,6], [3,4,5,6,7,8])"
   ]
  },
  {
   "cell_type": "code",
   "execution_count": 229,
   "id": "f4157453-b35b-4f3c-919f-4a14754b4b69",
   "metadata": {},
   "outputs": [
    {
     "name": "stdout",
     "output_type": "stream",
     "text": [
      "[1, 3, 2, 4]\n"
     ]
    }
   ],
   "source": [
    "### 9. Write a program to concatenate two lists element-wise (e.g., [1, 2] and [3, 4] should become [1, 3, 2, 4]).\n",
    "# Solution 1: \n",
    "def concatenate_element_wise(list1, list2):\n",
    "    # Create an empty list to store the result\n",
    "    result = []\n",
    "    \n",
    "    # Get the minimum length to avoid index out-of-range errors\n",
    "    length = min(len(list1), len(list2))\n",
    "    \n",
    "    # Iterate through the lists and add elements from both lists alternately\n",
    "    for i in range(length):\n",
    "        result.append(list1[i])\n",
    "        result.append(list2[i])\n",
    "    \n",
    "    # Add remaining elements if the lists are of unequal length\n",
    "    if len(list1) > length:\n",
    "        result.extend(list1[length:])\n",
    "    if len(list2) > length:\n",
    "        result.extend(list2[length:])\n",
    "    \n",
    "    return result\n",
    "\n",
    "# Example usage\n",
    "list1 = [1, 2]\n",
    "list2 = [3, 4]\n",
    "\n",
    "# Calling the function\n",
    "result = concatenate_element_wise(list1, list2)\n",
    "\n",
    "# Print the result\n",
    "print(result)\n",
    "\n"
   ]
  },
  {
   "cell_type": "code",
   "execution_count": 239,
   "id": "eccd284b-43b3-49ec-876a-a96018f7d0fb",
   "metadata": {},
   "outputs": [
    {
     "name": "stdout",
     "output_type": "stream",
     "text": [
      "[10, 20, 35, 95]\n"
     ]
    }
   ],
   "source": [
    "### 10. Write a Python program to remove every second element from a list.\n",
    "# Solution 1: Using List del function\n",
    "list1 = [10,15,20,30,35,70,95,100]\n",
    "del list1[1::2]\n",
    "print(list1)"
   ]
  },
  {
   "cell_type": "code",
   "execution_count": 240,
   "id": "67309a27-03c7-4e08-a917-a5d90b746439",
   "metadata": {},
   "outputs": [
    {
     "data": {
      "text/plain": [
       "[10, 20, 35, 95]"
      ]
     },
     "execution_count": 240,
     "metadata": {},
     "output_type": "execute_result"
    }
   ],
   "source": [
    "# Solution 2: Using Function\n",
    "def del_second_element(list1):\n",
    "    del list1[1::2]\n",
    "    return list1\n",
    "\n",
    "# Calling Function\n",
    "del_second_element([10,15,20,30,35,70,95,100])"
   ]
  },
  {
   "cell_type": "code",
   "execution_count": 1,
   "id": "3612d55f-99eb-413c-9a67-ea96e0188e5e",
   "metadata": {},
   "outputs": [
    {
     "name": "stdout",
     "output_type": "stream",
     "text": [
      "550\n"
     ]
    }
   ],
   "source": [
    "### 11. Write a Python program to sum all the elements in a list.\n",
    "# Solution 1: Using sum function\n",
    "markss = [10, 20, 30, 40, 50, 60, 70, 80, 90, 100]\n",
    "total = sum(markss)\n",
    "print(total)\n"
   ]
  },
  {
   "cell_type": "code",
   "execution_count": 7,
   "id": "50c10c7e-b1c1-40c2-a7c1-8194518984a0",
   "metadata": {},
   "outputs": [
    {
     "name": "stdout",
     "output_type": "stream",
     "text": [
      "550\n"
     ]
    }
   ],
   "source": [
    "#Solution 2: Using Iteration\n",
    "markss = [10, 20, 30, 40, 50, 60, 70, 80, 90, 100]\n",
    "total = 0\n",
    "for i in markss:\n",
    "    total += i\n",
    "print(total)"
   ]
  },
  {
   "cell_type": "code",
   "execution_count": 8,
   "id": "9da034ce-9dcd-41c1-8b61-1c33aa5a5d5f",
   "metadata": {},
   "outputs": [
    {
     "data": {
      "text/plain": [
       "550"
      ]
     },
     "execution_count": 8,
     "metadata": {},
     "output_type": "execute_result"
    }
   ],
   "source": [
    "# Solution 3: Using Function\n",
    "def sum_element(markks):\n",
    "    total = sum(markks)\n",
    "    return total\n",
    "\n",
    "# Calling Function\n",
    "sum_element([10, 20, 30, 40, 50, 60, 70, 80, 90, 100])"
   ]
  },
  {
   "cell_type": "code",
   "execution_count": null,
   "id": "08ea1a48-6639-4f86-a502-c7b750c5da83",
   "metadata": {},
   "outputs": [],
   "source": [
    "### 12. Write a Python program to remove all occurrences of a specific value from a list.\n",
    "# Solution 1: Convert list to set\n",
    "age_number = [1, 2, 3, 4, 2, 5, 2, 6]\n",
    "#Convert list to set\n",
    "age_number_set = set(age_number)\n",
    "# use remove built-in function of set\n",
    "age_number_set.remove(2)\n",
    "# Convert set to list\n",
    "age_number_list = list(age_number_set)\n",
    "print(age_number_list)\n",
    "\n"
   ]
  },
  {
   "cell_type": "code",
   "execution_count": 120,
   "id": "573668e3-cb4f-4c08-a747-9d736de08520",
   "metadata": {},
   "outputs": [
    {
     "name": "stdout",
     "output_type": "stream",
     "text": [
      "[1, 3, 4, 5, 6]\n"
     ]
    }
   ],
   "source": [
    "# Solution 2: Using Iteration\n",
    "age_number = [1, 2, 3, 4, 2, 5, 2, 6]\n",
    "value = 2\n",
    "k = 0\n",
    "for i in range(len(age_number)):\n",
    "    if age_number[i] != value:\n",
    "        age_number[k] = age_number[i]\n",
    "        k += 1\n",
    "# Truncate the list to the new length (removing extra elements)\n",
    "age_number = age_number[:k]\n",
    "print(age_number)"
   ]
  },
  {
   "cell_type": "code",
   "execution_count": 121,
   "id": "9cae20cc-c994-4d3f-9bdd-d4dc88cdc7fe",
   "metadata": {},
   "outputs": [
    {
     "data": {
      "text/plain": [
       "[1, 3, 4, 5, 6]"
      ]
     },
     "execution_count": 121,
     "metadata": {},
     "output_type": "execute_result"
    }
   ],
   "source": [
    "# Solution 3: Using Function\n",
    "def remove_specific_element(age_number, value):\n",
    "    k = 0\n",
    "    for i in range(len(age_number)):\n",
    "        if age_number[i] != value:\n",
    "            age_number[k] = age_number[i]\n",
    "            k+=1\n",
    "    age_number = age_number[:k]\n",
    "    return age_number\n",
    "\n",
    "# Calling Function\n",
    "remove_specific_element([1, 2, 3, 4, 2, 5, 2, 6], 2 )"
   ]
  },
  {
   "cell_type": "code",
   "execution_count": 36,
   "id": "3a4fb64e-0584-48d5-afae-82c295a33b2f",
   "metadata": {},
   "outputs": [
    {
     "name": "stdout",
     "output_type": "stream",
     "text": [
      "Hello World 100 Python 500\n"
     ]
    }
   ],
   "source": [
    "### 13. How would you concatenate all the elements of a list into a single string with a separator?\n",
    "# Solution 1: Using join function\n",
    "words = ['Hello', 'World',100 , 'Python', 500]\n",
    "result = ' '.join(map(str, words))\n",
    "print(result)"
   ]
  },
  {
   "cell_type": "code",
   "execution_count": 42,
   "id": "049c511f-9661-4193-a03d-a52ed63cefcb",
   "metadata": {},
   "outputs": [
    {
     "name": "stdout",
     "output_type": "stream",
     "text": [
      "Hello World 100 Python 500 "
     ]
    }
   ],
   "source": [
    "# Solution 2: Using Print parameter end\n",
    "words = ['Hello', 'World',100 , 'Python', 500]\n",
    "for i in words:\n",
    "    print(i, end=\" \")"
   ]
  },
  {
   "cell_type": "code",
   "execution_count": 43,
   "id": "6f35a294-f77c-4018-9def-1669dbe131d5",
   "metadata": {},
   "outputs": [
    {
     "data": {
      "text/plain": [
       "'Hello World 100 Python 500'"
      ]
     },
     "execution_count": 43,
     "metadata": {},
     "output_type": "execute_result"
    }
   ],
   "source": [
    "# Solution 3: Using Function\n",
    "def concatenate_list(words):\n",
    "    result = ' '.join(map(str, words))\n",
    "    return result\n",
    "\n",
    "# Calling Function \n",
    "concatenate_list(['Hello', 'World',100 , 'Python', 500])"
   ]
  },
  {
   "cell_type": "code",
   "execution_count": 55,
   "id": "d700ee8f-e8c0-424d-8f61-c76bda2d7336",
   "metadata": {},
   "outputs": [
    {
     "name": "stdout",
     "output_type": "stream",
     "text": [
      "3\n"
     ]
    }
   ],
   "source": [
    "### 14. Write a Python program to find the index of an element in a list.\n",
    "# Solution 1: Check specific element index\n",
    "building_numbers = [15, 34, 20, 45, 60, 2]\n",
    "for i in building_numbers:\n",
    "    index_value = building_numbers.index(45)\n",
    "print(index_value)"
   ]
  },
  {
   "cell_type": "code",
   "execution_count": 57,
   "id": "9a56eb09-c7ca-498a-a568-651d61d33685",
   "metadata": {},
   "outputs": [
    {
     "name": "stdout",
     "output_type": "stream",
     "text": [
      "0 15\n",
      "1 34\n",
      "2 20\n",
      "3 45\n",
      "4 60\n",
      "5 2\n"
     ]
    }
   ],
   "source": [
    "# Solution 2: Check all element index\n",
    "building_numbers = [15, 34, 20, 45, 60, 2]\n",
    "for i in range(len(building_numbers)):\n",
    "    index_value = building_numbers[i]\n",
    "    print(i, index_value)"
   ]
  },
  {
   "cell_type": "code",
   "execution_count": 58,
   "id": "4af3831c-48f3-4bb3-a219-96422c8d4bd9",
   "metadata": {},
   "outputs": [
    {
     "data": {
      "text/plain": [
       "2"
      ]
     },
     "execution_count": 58,
     "metadata": {},
     "output_type": "execute_result"
    }
   ],
   "source": [
    "# Solution 3: Using Function\n",
    "def find_index(building_numbers, value):\n",
    "    for i in building_numbers:\n",
    "        index_value = building_numbers.index(value)\n",
    "        return index_value\n",
    "\n",
    "# Calling Function\n",
    "find_index([15, 34, 20, 45, 60, 2], 20)"
   ]
  },
  {
   "cell_type": "code",
   "execution_count": 67,
   "id": "48ef0a71-1172-42f1-9744-3db96159214f",
   "metadata": {},
   "outputs": [
    {
     "name": "stdout",
     "output_type": "stream",
     "text": [
      "All elements in a list are not unique\n"
     ]
    }
   ],
   "source": [
    "### 15. Write a program to check if all elements in a list are unique.\n",
    "# Solution 1: Convert list into set and compair\n",
    "building_numbers = [15, 34, 20, 45, 60, 2, 20, 15]\n",
    "building_numbers_set = set(building_numbers)\n",
    "if len(building_numbers_set) == len(building_numbers):\n",
    "    print(\"All elements in a list are unique\")\n",
    "else: \n",
    "    print(\"All elements in a list are not unique\")\n",
    "        "
   ]
  },
  {
   "cell_type": "code",
   "execution_count": 73,
   "id": "c687f276-f928-4307-8a9f-e241d3177e3c",
   "metadata": {},
   "outputs": [
    {
     "name": "stdout",
     "output_type": "stream",
     "text": [
      "All elements in a list are unique\n"
     ]
    }
   ],
   "source": [
    "# Solution 2: Iteration then compair\n",
    "building_numbers = [15, 34, 20, 45, 60, 2]\n",
    "new_building_number = []\n",
    "for i in building_numbers:\n",
    "    if i not in new_building_number:\n",
    "        new_building_number.append(i)\n",
    "\n",
    "if len(new_building_number) == len(building_numbers):\n",
    "    print(\"All elements in a list are unique\")\n",
    "else: \n",
    "    print(\"All elements in a list are not unique\")"
   ]
  },
  {
   "cell_type": "code",
   "execution_count": 75,
   "id": "3a7462b6-5e51-4639-9284-f4516c874733",
   "metadata": {},
   "outputs": [
    {
     "data": {
      "text/plain": [
       "False"
      ]
     },
     "execution_count": 75,
     "metadata": {},
     "output_type": "execute_result"
    }
   ],
   "source": [
    "# Solution 3: Using function\n",
    "def comapair_list(building_numbers):\n",
    "    building_numbers_set = set(building_numbers)\n",
    "    if len(building_numbers_set) == len(building_numbers):\n",
    "        return True\n",
    "    else: \n",
    "        return False\n",
    "\n",
    "# Calling Function\n",
    "comapair_list([15, 34, 20, 45, 60, 2, 34, 45])"
   ]
  },
  {
   "cell_type": "code",
   "execution_count": 90,
   "id": "d95615eb-6494-473a-8c25-822c1679c8fc",
   "metadata": {},
   "outputs": [
    {
     "name": "stdout",
     "output_type": "stream",
     "text": [
      "list contains duplicates\n"
     ]
    }
   ],
   "source": [
    "### 16. Write a Python program to check if a list contains any duplicates.\n",
    "# Solution 1: Convert list to set\n",
    "boys_height = [16, 18,20, 30, 20, 30, 25, 26, 25]\n",
    "height_set = set(boys_height)\n",
    "if len(height_set) == len(boys_height):\n",
    "    print(\"list contains no duplicates\")\n",
    "else:\n",
    "    print(\"list contains duplicates\")"
   ]
  },
  {
   "cell_type": "code",
   "execution_count": 89,
   "id": "023b468d-4256-462d-82e0-12acbf0d8523",
   "metadata": {},
   "outputs": [
    {
     "name": "stdout",
     "output_type": "stream",
     "text": [
      "list contains duplicates [20, 30, 25]\n"
     ]
    }
   ],
   "source": [
    "# Solution 2: Using Iteration\n",
    "boys_height = [16, 18,20, 30, 20, 30, 25, 26, 25]\n",
    "new_height = []\n",
    "dublicate = []\n",
    "for i in boys_height:\n",
    "    if i not in new_height:\n",
    "        new_height.append(i)\n",
    "    else:\n",
    "        dublicate.append(i)\n",
    "print(\"list contains duplicates\", dublicate)"
   ]
  },
  {
   "cell_type": "code",
   "execution_count": 91,
   "id": "2c9248c8-892e-403d-9a85-28b106e586b5",
   "metadata": {},
   "outputs": [
    {
     "data": {
      "text/plain": [
       "[20, 30, 25]"
      ]
     },
     "execution_count": 91,
     "metadata": {},
     "output_type": "execute_result"
    }
   ],
   "source": [
    "# Solution 3: Using Function \n",
    "def Dublicate_height(boys_height):\n",
    "    new_height = []\n",
    "    dublicate = []\n",
    "    for i in boys_height:\n",
    "        if i not in new_height:\n",
    "            new_height.append(i)\n",
    "        else:\n",
    "            dublicate.append(i)\n",
    "    return dublicate\n",
    "\n",
    "# Calling Function\n",
    "Dublicate_height([16, 18,20, 30, 20, 30, 25, 26, 25])\n",
    "    "
   ]
  },
  {
   "cell_type": "code",
   "execution_count": 103,
   "id": "1670c98d-18f0-465d-acf4-3257906ca37a",
   "metadata": {},
   "outputs": [
    {
     "name": "stdout",
     "output_type": "stream",
     "text": [
      "5\n"
     ]
    }
   ],
   "source": [
    "### 17. How would you count the number of occurrences of a specific element in a list?\n",
    "# Solution 1: Using Count function\n",
    "numberlist = [20, 30, 40, 60, 45, 40, 30, 20, 20, 20, 20]\n",
    "count_specific_number = numberlist.count(20)\n",
    "print(count_specific_number)"
   ]
  },
  {
   "cell_type": "code",
   "execution_count": 114,
   "id": "acd38a51-e1c8-49d8-8b34-8c75cc071fa5",
   "metadata": {},
   "outputs": [
    {
     "name": "stdout",
     "output_type": "stream",
     "text": [
      "5\n"
     ]
    }
   ],
   "source": [
    "# Solution 2: Using Iteration\n",
    "numberlist = [20, 30, 40, 60, 45, 40, 30, 20, 20, 20, 20]\n",
    "value = 20\n",
    "count = 0\n",
    "for i in numberlist:\n",
    "    if i == value:\n",
    "        count += 1\n",
    "\n",
    "print(count)"
   ]
  },
  {
   "cell_type": "code",
   "execution_count": 119,
   "id": "a28c29ec-7651-4232-b0ab-a2ad1fd5b10e",
   "metadata": {},
   "outputs": [
    {
     "data": {
      "text/plain": [
       "2"
      ]
     },
     "execution_count": 119,
     "metadata": {},
     "output_type": "execute_result"
    }
   ],
   "source": [
    "# Solution 3: Using Function\n",
    "def occurrences_specific_number(numberlist, value):\n",
    "    count_specific_number = numberlist.count(value)\n",
    "    return count_specific_number\n",
    "\n",
    "# Calling Function\n",
    "occurrences_specific_number([20, 30, 40, 60, 45, 40, 30, 20, 20, 20, 20], 30)"
   ]
  },
  {
   "cell_type": "code",
   "execution_count": 123,
   "id": "d23d91fa-d24f-4f0a-b19b-a5c5788a89cb",
   "metadata": {},
   "outputs": [
    {
     "name": "stdout",
     "output_type": "stream",
     "text": [
      "3628800\n"
     ]
    }
   ],
   "source": [
    "### 18. Write a Python program to multiply all the elements in a list.\n",
    "# Solution 1:\n",
    "number1 = [1, 2, 3, 4, 5, 6, 7, 8, 9, 10]\n",
    "result = 1\n",
    "for i in number1:\n",
    "    result = result * i\n",
    "print(result)    "
   ]
  },
  {
   "cell_type": "code",
   "execution_count": 125,
   "id": "5a401d49-e416-4eea-ae38-204baa7166f8",
   "metadata": {},
   "outputs": [
    {
     "data": {
      "text/plain": [
       "3125"
      ]
     },
     "execution_count": 125,
     "metadata": {},
     "output_type": "execute_result"
    }
   ],
   "source": [
    "# Solution 3: Using Function\n",
    "def multiply_element(number1):\n",
    "    result = 1\n",
    "    for i in number1:\n",
    "        result = result * i\n",
    "    return result\n",
    "\n",
    "# Calling Function\n",
    "multiply_element([5, 5, 5, 5, 5])"
   ]
  },
  {
   "cell_type": "code",
   "execution_count": 8,
   "id": "3f3a096c-06ac-43cc-9d00-0d812da26749",
   "metadata": {},
   "outputs": [
    {
     "name": "stdout",
     "output_type": "stream",
     "text": [
      "[10, 20, 100, 30, 40, 40, 30, 60, 70, 20, 10, 20, 500]\n"
     ]
    }
   ],
   "source": [
    "### 19. Write a Python program to append an element to a list, and then insert another at a specific index.\n",
    "# Solution 1: Using append and insert function\n",
    "girls_age = [10, 20, 30, 40, 40, 30, 60, 70, 20, 10, 20]\n",
    "# Append element 500\n",
    "girls_age.append(500)\n",
    "\n",
    "#insert element 100 on index 2\n",
    "girls_age.insert(2, 100)\n",
    "\n",
    "print(girls_age)\n",
    "    \n",
    "    "
   ]
  },
  {
   "cell_type": "code",
   "execution_count": 10,
   "id": "a928e290-00a5-4b76-b58f-c9e214afec0a",
   "metadata": {},
   "outputs": [
    {
     "data": {
      "text/plain": [
       "[10, 20, 30, 40, 40, 5000, 30, 60, 70, 20, 10, 20, 1000]"
      ]
     },
     "execution_count": 10,
     "metadata": {},
     "output_type": "execute_result"
    }
   ],
   "source": [
    "# Solution 2: Using Function\n",
    "def append_insert(girls_age, append, insert, index):\n",
    "    girls_age.append(append)\n",
    "    girls_age.insert(index, insert)\n",
    "    return girls_age\n",
    "# Calling Function\n",
    "append_insert([10, 20, 30, 40, 40, 30, 60, 70, 20, 10, 20], 1000, 5000, 5)"
   ]
  },
  {
   "cell_type": "code",
   "execution_count": 18,
   "id": "c6cfa0cf-e611-4ddb-94c0-a98facf1387a",
   "metadata": {},
   "outputs": [
    {
     "name": "stdout",
     "output_type": "stream",
     "text": [
      "[40, 45, 60, 85, 95, 70, 25]\n"
     ]
    }
   ],
   "source": [
    "### 20. How would you remove the first and last elements from a list and return the modified list?\n",
    "# Solution 1:\n",
    "orange_bucket = [30, 40, 45, 60, 85, 95, 70, 25, 10]\n",
    "# Remove first element\n",
    "orange_bucket.remove(orange_bucket[0])\n",
    "\n",
    "# Remove last element\n",
    "orange_bucket.remove(orange_bucket[-1])\n",
    "print(orange_bucket)\n"
   ]
  },
  {
   "cell_type": "code",
   "execution_count": 22,
   "id": "36faee19-9a2c-47c2-9471-6bb8b57ec39b",
   "metadata": {},
   "outputs": [
    {
     "name": "stdout",
     "output_type": "stream",
     "text": [
      "[40, 45, 60, 85, 95, 70, 25]\n"
     ]
    }
   ],
   "source": [
    "# Solution 2:\n",
    "orange_bucket = [30, 40, 45, 60, 85, 95, 70, 25, 10]\n",
    "#Remove last element\n",
    "orange_bucket.pop()\n",
    "\n",
    "#Remove first element\n",
    "orange_bucket.pop(0)\n",
    "print(orange_bucket)"
   ]
  },
  {
   "cell_type": "code",
   "execution_count": 26,
   "id": "3d41e8b0-4106-4a63-9aef-1ac8b2b4b0db",
   "metadata": {},
   "outputs": [
    {
     "data": {
      "text/plain": [
       "[40, 45, 60, 25, 95, 70, 25]"
      ]
     },
     "execution_count": 26,
     "metadata": {},
     "output_type": "execute_result"
    }
   ],
   "source": [
    "# Solution 3: function with del method\n",
    "def delete_first_last_element(orange_bucket):\n",
    "    # delete first element\n",
    "    del orange_bucket[0]\n",
    "\n",
    "    #delete last element\n",
    "    del orange_bucket[-1]\n",
    "    return orange_bucket\n",
    "\n",
    "# Calling Function\n",
    "delete_first_last_element([30, 40, 45, 60, 25, 95, 70, 25, 10])"
   ]
  }
 ],
 "metadata": {
  "kernelspec": {
   "display_name": "Python 3 (ipykernel)",
   "language": "python",
   "name": "python3"
  },
  "language_info": {
   "codemirror_mode": {
    "name": "ipython",
    "version": 3
   },
   "file_extension": ".py",
   "mimetype": "text/x-python",
   "name": "python",
   "nbconvert_exporter": "python",
   "pygments_lexer": "ipython3",
   "version": "3.12.4"
  }
 },
 "nbformat": 4,
 "nbformat_minor": 5
}
