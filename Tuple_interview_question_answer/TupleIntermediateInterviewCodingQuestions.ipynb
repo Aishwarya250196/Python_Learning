{
 "cells": [
  {
   "cell_type": "code",
   "execution_count": 1,
   "id": "35cc1b18-f9fc-453a-9a6a-268d385f039d",
   "metadata": {},
   "outputs": [
    {
     "name": "stdout",
     "output_type": "stream",
     "text": [
      "50 is maximum\n",
      "10 is minimum\n"
     ]
    }
   ],
   "source": [
    "### 1. Write a Python function to return the maximum and minimum values from a tuple.\n",
    "# Solution 1: Using max() and min()\n",
    "my_tuple = (10, 20, 30, 40, 50, 30)\n",
    "maximum = max(my_tuple)\n",
    "minimum = min(my_tuple)\n",
    "print(f\"{maximum} is maximum\")\n",
    "print(f\"{minimum} is minimum\")"
   ]
  },
  {
   "cell_type": "code",
   "execution_count": 2,
   "id": "100c590e-71eb-4eac-b8ec-502844739cef",
   "metadata": {},
   "outputs": [
    {
     "name": "stdout",
     "output_type": "stream",
     "text": [
      "50 is maximum\n",
      "10 is minimum\n"
     ]
    }
   ],
   "source": [
    "# Solution 2: Using iteration\n",
    "my_tuple = (10, 20, 30, 40, 50, 30)\n",
    "maximum = my_tuple[0]\n",
    "minimum = my_tuple[0]\n",
    "\n",
    "for number in my_tuple:\n",
    "    if number > maximum:\n",
    "        maximum = number\n",
    "    if number < minimum:\n",
    "        minimum = number\n",
    "\n",
    "print(f\"{maximum} is maximum\")\n",
    "print(f\"{minimum} is minimum\")"
   ]
  },
  {
   "cell_type": "code",
   "execution_count": 3,
   "id": "b3f2d33d-6776-49ed-8b2e-9fbedb1d7833",
   "metadata": {},
   "outputs": [
    {
     "name": "stdout",
     "output_type": "stream",
     "text": [
      "50 is max\n",
      "10 is min\n"
     ]
    }
   ],
   "source": [
    "# Solution 3: Using Function\n",
    "def max_min(my_tuple):\n",
    "    maximum = max(my_tuple)\n",
    "    minimum = min(my_tuple)\n",
    "    return maximum, minimum\n",
    "\n",
    "# Calling Function\n",
    "max_min((10, 20, 30, 40, 50, 30))    \n",
    "print(f\"{maximum} is max\")\n",
    "print(f\"{minimum} is min\")"
   ]
  },
  {
   "cell_type": "code",
   "execution_count": 7,
   "id": "1aae5816-7a4a-42dc-af7b-dca43b81030f",
   "metadata": {},
   "outputs": [
    {
     "name": "stdout",
     "output_type": "stream",
     "text": [
      "Is tuple1 a subset of tuple2? True\n"
     ]
    }
   ],
   "source": [
    "### 2. How would you check if a tuple is a subset of another tuple?\n",
    "# Solution 1: Using issubset()\n",
    "tuple1 = (1, 2, 3)\n",
    "tuple2 = (1, 2, 3, 4, 5)\n",
    "# Convert both tuple into set\n",
    "set_tuple1 = set(tuple1)\n",
    "set_tuple2 = set(tuple2)\n",
    "# Check if it is subset of not\n",
    "subset = set_tuple1.issubset(set_tuple2)\n",
    "print(f\"Is tuple1 a subset of tuple2? {subset}\")"
   ]
  },
  {
   "cell_type": "code",
   "execution_count": 14,
   "id": "77d29b5e-fc8a-4374-b765-8f156c692903",
   "metadata": {},
   "outputs": [
    {
     "name": "stdout",
     "output_type": "stream",
     "text": [
      "Is tuple1 a subset of tuple2? True\n"
     ]
    }
   ],
   "source": [
    "# Solution 2: Using Iteration\n",
    "tuple1 = (1, 2, 3)\n",
    "tuple2 = (1, 2, 3, 4, 5)\n",
    "subset = True\n",
    "for item in tuple1:\n",
    "    if item not in tuple2:\n",
    "        subset =  False\n",
    "        break\n",
    "\n",
    "print(f\"Is tuple1 a subset of tuple2? {subset}\")   "
   ]
  },
  {
   "cell_type": "code",
   "execution_count": 16,
   "id": "c5fc7148-ec7a-4ed2-a96f-4238e8a68907",
   "metadata": {},
   "outputs": [
    {
     "data": {
      "text/plain": [
       "True"
      ]
     },
     "execution_count": 16,
     "metadata": {},
     "output_type": "execute_result"
    }
   ],
   "source": [
    "# Solution 3: Using Function\n",
    "def is_subset(tuple1, tuple2):\n",
    "    subset = True\n",
    "    for item in tuple1:\n",
    "        if item not in tuple2:\n",
    "            subset =  False\n",
    "            break\n",
    "        return subset\n",
    "\n",
    "# Calling Function \n",
    "is_subset((1, 2, 3), (1, 2, 3, 4, 5))"
   ]
  },
  {
   "cell_type": "code",
   "execution_count": 20,
   "id": "44cb05e9-4fb3-4166-95f6-2285a6d3171c",
   "metadata": {},
   "outputs": [
    {
     "name": "stdout",
     "output_type": "stream",
     "text": [
      "(2, 4, 50, 40, 20, 10)\n"
     ]
    }
   ],
   "source": [
    "### 3. Write a program to create a tuple of even numbers from a range.\n",
    "# Solution 1: Using Iteration\n",
    "tuple2 = (1, 2, 3, 4, 5, 50, 40, 23, 20, 10)\n",
    "even_tuple = ()\n",
    "for item in tuple2:\n",
    "    if item % 2 == 0:\n",
    "        even_tuple += (item, )\n",
    "print(even_tuple)"
   ]
  },
  {
   "cell_type": "code",
   "execution_count": 21,
   "id": "ee7fd15c-d9e6-454b-9595-274fe0337c13",
   "metadata": {},
   "outputs": [
    {
     "name": "stdout",
     "output_type": "stream",
     "text": [
      "(2, 4, 6, 8, 10, 12, 14, 16, 18, 20)\n"
     ]
    }
   ],
   "source": [
    "# Solution 2: Using list comprehension\n",
    "even_tuple = tuple(i for i in range(1, 21) if i % 2 == 0)\n",
    "\n",
    "print(even_tuple)\n"
   ]
  },
  {
   "cell_type": "code",
   "execution_count": 29,
   "id": "eb409fcf-bc80-4a2a-a9ce-816872950cf1",
   "metadata": {},
   "outputs": [
    {
     "data": {
      "text/plain": [
       "(2, 4, 6, 8, 10, 12, 14, 16, 18, 20, 22, 24, 26, 28)"
      ]
     },
     "execution_count": 29,
     "metadata": {},
     "output_type": "execute_result"
    }
   ],
   "source": [
    "# Solution 3: Using Function\n",
    "def even_tuple(start_number, end_number):\n",
    "    even_tuple = ()\n",
    "    for i in range(start_number, end_number):\n",
    "        if i % 2 == 0:\n",
    "            even_tuple += (i,)\n",
    "    return even_tuple\n",
    "\n",
    "# Calling Function\n",
    "even_tuple(1, 30)"
   ]
  },
  {
   "cell_type": "code",
   "execution_count": 31,
   "id": "6106644a-3736-48e5-89f8-7471ccd5dad1",
   "metadata": {},
   "outputs": [
    {
     "name": "stdout",
     "output_type": "stream",
     "text": [
      "Product of all elements: 120\n"
     ]
    }
   ],
   "source": [
    "### 4. How can you find the product of all elements in a tuple?\n",
    "# Solution 1: Using *=\n",
    "tuple2 = (1, 2, 3, 4, 5)\n",
    "product = 1\n",
    "for item in tuple2:\n",
    "    product *= item \n",
    "print(\"Product of all elements:\", product)"
   ]
  },
  {
   "cell_type": "code",
   "execution_count": 33,
   "id": "d42e61e3-c77a-4e09-9353-5c3d04c5a811",
   "metadata": {},
   "outputs": [
    {
     "name": "stdout",
     "output_type": "stream",
     "text": [
      "Product of all elements: 120\n"
     ]
    }
   ],
   "source": [
    "# Solution 2: Using for and enumerate()\n",
    "tuple2 = (1, 2, 3, 4, 5)\n",
    "product = 1\n",
    "for index, item in enumerate(tuple2):\n",
    "    product *= item \n",
    "print(\"Product of all elements:\", product)"
   ]
  },
  {
   "cell_type": "code",
   "execution_count": 34,
   "id": "1f4ee98a-8bb1-4cbf-b154-8dacd588059d",
   "metadata": {},
   "outputs": [
    {
     "data": {
      "text/plain": [
       "120"
      ]
     },
     "execution_count": 34,
     "metadata": {},
     "output_type": "execute_result"
    }
   ],
   "source": [
    "# Solution 3: Using Function\n",
    "def product_tuple(tuple1):\n",
    "    product = 1\n",
    "    for item in tuple1:\n",
    "        product *= item \n",
    "    return product\n",
    "\n",
    "# Calling Function \n",
    "product_tuple((1, 2, 3, 4, 5))"
   ]
  },
  {
   "cell_type": "code",
   "execution_count": 36,
   "id": "3915df63-8428-4890-a325-e830dcbc2207",
   "metadata": {},
   "outputs": [
    {
     "name": "stdout",
     "output_type": "stream",
     "text": [
      "The nested tuple is: ((1, 2, 3), ('a', 'b', 'c'), (True, False, None))\n",
      "Inner tuple: (1, 2, 3)\n",
      "Element: 1\n",
      "Element: 2\n",
      "Element: 3\n",
      "Inner tuple: ('a', 'b', 'c')\n",
      "Element: a\n",
      "Element: b\n",
      "Element: c\n",
      "Inner tuple: (True, False, None)\n",
      "Element: True\n",
      "Element: False\n",
      "Element: None\n"
     ]
    }
   ],
   "source": [
    "### 5. Write a Python program to create a nested tuple and print its elements.\n",
    "# Solution 1: Using Iteration\n",
    "nested_tuple = ((1, 2, 3), ('a', 'b', 'c'), (True, False, None))\n",
    "\n",
    "# Print the entire nested tuple\n",
    "print(\"The nested tuple is:\", nested_tuple)\n",
    "\n",
    "# Iterating through the nested tuple\n",
    "for inner_tuple in nested_tuple:\n",
    "    print(\"Inner tuple:\", inner_tuple)\n",
    "    # Iterating through elements of each inner tuple\n",
    "    for element in inner_tuple:\n",
    "        print(\"Element:\", element)\n"
   ]
  },
  {
   "cell_type": "code",
   "execution_count": 39,
   "id": "0e86ba56-6070-49d8-99ff-fbd3b4c8d78f",
   "metadata": {},
   "outputs": [
    {
     "name": "stdout",
     "output_type": "stream",
     "text": [
      "Inner tuple: (1, 2, 3)\n",
      "Element: 1\n",
      "Element: 2\n",
      "Element: 3\n",
      "Inner tuple: ('x', 'y', 'z')\n",
      "Element: x\n",
      "Element: y\n",
      "Element: z\n",
      "Inner tuple: (True, False, None)\n",
      "Element: True\n",
      "Element: False\n",
      "Element: None\n"
     ]
    }
   ],
   "source": [
    "# Solution 2: Using Indexing\n",
    "# Creating a nested tuple\n",
    "nested_tuple = ((1, 2, 3), ('x', 'y', 'z'), (True, False, None))\n",
    "\n",
    "# Print elements using indexing\n",
    "for i in range(len(nested_tuple)):\n",
    "    print(f\"Inner tuple: {nested_tuple[i]}\")\n",
    "    for j in range(len(nested_tuple[i])):\n",
    "        print(f\"Element: {nested_tuple[i][j]}\")\n"
   ]
  },
  {
   "cell_type": "code",
   "execution_count": 41,
   "id": "5644bf6f-7e49-4a5c-ae15-3d0e5f7f7eb1",
   "metadata": {},
   "outputs": [
    {
     "name": "stdout",
     "output_type": "stream",
     "text": [
      "Inner tuple 1: (4, 5, 6)\n",
      "Element : 4\n",
      "Element : 5\n",
      "Element : 6\n",
      "Inner tuple 2: ('p', 'q', 'r')\n",
      "Element : p\n",
      "Element : q\n",
      "Element : r\n",
      "Inner tuple 3: (10, 20, 30)\n",
      "Element : 10\n",
      "Element : 20\n",
      "Element : 30\n"
     ]
    }
   ],
   "source": [
    "# Solution 3: Using enumerate()\n",
    "nested_tuple = ((4, 5, 6), ('p', 'q', 'r'), (10, 20, 30))\n",
    "\n",
    "# Using enumerate to access both index and elements\n",
    "for outer_index, inner_tuple in enumerate(nested_tuple, start=1):\n",
    "    print(f\"Inner tuple {outer_index}: {inner_tuple}\")\n",
    "    for inner_index, element in enumerate(inner_tuple, start=1):\n",
    "        print(f\"Element : {element}\")\n"
   ]
  },
  {
   "cell_type": "code",
   "execution_count": 42,
   "id": "ee082916-19ce-4c1f-b6b5-e099823e559e",
   "metadata": {},
   "outputs": [
    {
     "name": "stdout",
     "output_type": "stream",
     "text": [
      "The nested tuple is: ((1, 2, 3), ('a', 'b', 'c'), (True, False, None))\n",
      "Inner tuple: (1, 2, 3)\n",
      "Element: 1\n",
      "Element: 2\n",
      "Element: 3\n",
      "Inner tuple: ('a', 'b', 'c')\n",
      "Element: a\n",
      "Element: b\n",
      "Element: c\n",
      "Inner tuple: (True, False, None)\n",
      "Element: True\n",
      "Element: False\n",
      "Element: None\n"
     ]
    }
   ],
   "source": [
    "# Solution 4: Using Function\n",
    "def nested_tuple(nested_tuple):\n",
    "    # Print the entire nested tuple\n",
    "    print(\"The nested tuple is:\", nested_tuple)\n",
    "    \n",
    "    # Iterating through the nested tuple\n",
    "    for inner_tuple in nested_tuple:\n",
    "        print(\"Inner tuple:\", inner_tuple)\n",
    "        # Iterating through elements of each inner tuple\n",
    "        for element in inner_tuple:\n",
    "            print(\"Element:\", element)\n",
    "\n",
    "# Calling Function\n",
    "nested_tuple(((1, 2, 3), ('a', 'b', 'c'), (True, False, None)))"
   ]
  },
  {
   "cell_type": "code",
   "execution_count": 43,
   "id": "09d9dcd6-db78-4458-83f5-d5f88a4ecada",
   "metadata": {},
   "outputs": [
    {
     "name": "stdout",
     "output_type": "stream",
     "text": [
      "1\n",
      "2\n",
      "3\n",
      "4\n",
      "5\n"
     ]
    }
   ],
   "source": [
    "### 6. How would you iterate over a tuple and print each element?\n",
    "# Solution 1: Using Iteration\n",
    "tuple1 = (1, 2, 3, 4, 5)\n",
    "for item in tuple1:\n",
    "    print(item)"
   ]
  },
  {
   "cell_type": "code",
   "execution_count": 45,
   "id": "cb902e64-fa78-43c4-bf54-d869689abd48",
   "metadata": {},
   "outputs": [
    {
     "name": "stdout",
     "output_type": "stream",
     "text": [
      "1\n",
      "2\n",
      "3\n",
      "4\n",
      "5\n"
     ]
    },
    {
     "data": {
      "text/plain": [
       "[None, None, None, None, None]"
      ]
     },
     "execution_count": 45,
     "metadata": {},
     "output_type": "execute_result"
    }
   ],
   "source": [
    "# Solution 2: Using List Comprehension\n",
    "tuple1 = (1, 2, 3, 4, 5)\n",
    "[print(item) for item in tuple1]"
   ]
  },
  {
   "cell_type": "code",
   "execution_count": 46,
   "id": "e666074c-4664-4d8c-9dc0-ef213ebdd902",
   "metadata": {},
   "outputs": [
    {
     "name": "stdout",
     "output_type": "stream",
     "text": [
      "Index 0: 1\n",
      "Index 1: 2\n",
      "Index 2: 3\n",
      "Index 3: 4\n",
      "Index 4: 5\n"
     ]
    }
   ],
   "source": [
    "# Solution 3:  Using enumerate()\n",
    "tuple1 = (1, 2, 3, 4, 5)\n",
    "for index, item in enumerate(tuple1):\n",
    "    print(f\"Index {index}: {item}\")\n"
   ]
  },
  {
   "cell_type": "code",
   "execution_count": 47,
   "id": "6fce7325-bf17-45c3-9634-f2b2406718ef",
   "metadata": {},
   "outputs": [
    {
     "name": "stdout",
     "output_type": "stream",
     "text": [
      "1\n",
      "2\n",
      "3\n",
      "4\n",
      "5\n"
     ]
    },
    {
     "data": {
      "text/plain": [
       "[None, None, None, None, None]"
      ]
     },
     "execution_count": 47,
     "metadata": {},
     "output_type": "execute_result"
    }
   ],
   "source": [
    "# Solution 4: Using map()\n",
    "tuple1 = (1, 2, 3, 4, 5)\n",
    "list(map(print, tuple1))\n"
   ]
  },
  {
   "cell_type": "code",
   "execution_count": 48,
   "id": "b601ac9e-d33f-4697-9984-566a87e58c9f",
   "metadata": {},
   "outputs": [
    {
     "name": "stdout",
     "output_type": "stream",
     "text": [
      "1\n",
      "2\n",
      "3\n",
      "4\n",
      "5\n"
     ]
    }
   ],
   "source": [
    "# Solution 5: Using Function\n",
    "def print_tuple_elements(t):\n",
    "    for item in t:\n",
    "        print(item)\n",
    "\n",
    "tuple1 = (1, 2, 3, 4, 5)\n",
    "print_tuple_elements(tuple1)\n"
   ]
  },
  {
   "cell_type": "code",
   "execution_count": 49,
   "id": "dcf6726e-fe76-4997-ae9c-4c3dc76ffd95",
   "metadata": {},
   "outputs": [
    {
     "name": "stdout",
     "output_type": "stream",
     "text": [
      "{'a': 1, 'b': 2, 'c': 3}\n"
     ]
    }
   ],
   "source": [
    "### 7. Write a program to convert a tuple of tuples into a dictionary.\n",
    "# Solution 1: Using a Loop\n",
    "tuple_of_tuples = (('a', 1), ('b', 2), ('c', 3))\n",
    "dictionary = {}\n",
    "for key, value in tuple_of_tuples:\n",
    "    dictionary[key] = value\n",
    "print(dictionary)"
   ]
  },
  {
   "cell_type": "code",
   "execution_count": 50,
   "id": "72515570-0c6a-44ad-8828-fbec6782db94",
   "metadata": {},
   "outputs": [
    {
     "name": "stdout",
     "output_type": "stream",
     "text": [
      "{'a': 1, 'b': 2, 'c': 3}\n"
     ]
    }
   ],
   "source": [
    "# Solution 2: Using Dictionary Comprehension\n",
    "tuple_of_tuples = (('a', 1), ('b', 2), ('c', 3))\n",
    "dictionary = {key: value for key, value in tuple_of_tuples}\n",
    "print(dictionary)\n"
   ]
  },
  {
   "cell_type": "code",
   "execution_count": 51,
   "id": "60fcb144-c336-42b9-8554-b7aa1ec1ae59",
   "metadata": {},
   "outputs": [
    {
     "data": {
      "text/plain": [
       "{'a': 1, 'b': 2, 'c': 3}"
      ]
     },
     "execution_count": 51,
     "metadata": {},
     "output_type": "execute_result"
    }
   ],
   "source": [
    "# Solution 3: Using Function \n",
    "def tuple_dictionary(tuple_of_tuples):\n",
    "    dictionary = {}\n",
    "    for key, value in tuple_of_tuples:\n",
    "        dictionary[key] = value\n",
    "    return dictionary\n",
    "\n",
    "# Calling Function'\n",
    "tuple_dictionary((('a', 1), ('b', 2), ('c', 3)))"
   ]
  },
  {
   "cell_type": "code",
   "execution_count": 52,
   "id": "08315df2-a28c-4f6c-b628-70e4cf4a220a",
   "metadata": {},
   "outputs": [
    {
     "name": "stdout",
     "output_type": "stream",
     "text": [
      "{1, 2, 3, 4, 5, 6}\n"
     ]
    }
   ],
   "source": [
    "### 8. Write a Python function to find all unique elements from a tuple.\n",
    "# Solution 1: Convert into set\n",
    "tuple1 = (1, 2, 2, 3, 4, 4, 5, 5, 6)\n",
    "# convert into set\n",
    "set_tuple1 = set(tuple1)\n",
    "print(set_tuple1)"
   ]
  },
  {
   "cell_type": "code",
   "execution_count": 59,
   "id": "1be073f5-3d56-4c34-9296-ec4c93f27b85",
   "metadata": {},
   "outputs": [
    {
     "name": "stdout",
     "output_type": "stream",
     "text": [
      "(1, 2, 3, 4, 5, 6)\n"
     ]
    }
   ],
   "source": [
    "# Solution 2: Using Iteration \n",
    "tuple1 = (1, 2, 2, 3, 4, 4, 5, 5, 6)\n",
    "new_tuple = ()\n",
    "for item in tuple1:\n",
    "    if item not in new_tuple:\n",
    "        new_tuple += (item,)\n",
    "print(new_tuple)\n"
   ]
  },
  {
   "cell_type": "code",
   "execution_count": 60,
   "id": "65acece4-5628-480a-bbde-7ae053ca4da5",
   "metadata": {},
   "outputs": [
    {
     "data": {
      "text/plain": [
       "{1, 2, 3, 4, 5, 6}"
      ]
     },
     "execution_count": 60,
     "metadata": {},
     "output_type": "execute_result"
    }
   ],
   "source": [
    "# Solution 3: Using Function\n",
    "def unique_tuple(tuple1):\n",
    "    # convert into set\n",
    "    set_tuple1 = set(tuple1)\n",
    "    return set_tuple1\n",
    "\n",
    "# Calling Function\n",
    "unique_tuple((1, 2, 2, 3, 4, 4, 5, 5, 6))"
   ]
  },
  {
   "cell_type": "code",
   "execution_count": 72,
   "id": "3811fd7b-ea26-43e5-ba48-c4c5de7acaa1",
   "metadata": {},
   "outputs": [
    {
     "name": "stdout",
     "output_type": "stream",
     "text": [
      "(1, 2, 3, 3, 4, 4, 5, 5, 6)\n"
     ]
    }
   ],
   "source": [
    "### 9. How would you sort a tuple of numbers in ascending order?\n",
    "# Solution 1: Convert into list and then sort\n",
    "t1 = (1, 3, 3, 2, 5, 5, 6, 4, 4)\n",
    "# Convert to list\n",
    "new_list = list(t1)\n",
    "# Sort the list\n",
    "new_list.sort()\n",
    "# Convert list to tuple\n",
    "new_tuple = tuple(new_list)\n",
    "print(new_tuple)"
   ]
  },
  {
   "cell_type": "code",
   "execution_count": 73,
   "id": "767b93ab-90df-42c0-beba-efcfc7505aec",
   "metadata": {},
   "outputs": [
    {
     "name": "stdout",
     "output_type": "stream",
     "text": [
      "(1, 2, 3, 3, 4, 4, 5, 5, 6)\n"
     ]
    }
   ],
   "source": [
    "# Solution 2: Using sorted()\n",
    "t1 = (1, 3, 3, 2, 5, 5, 6, 4, 4)\n",
    "sorted_t1 = sorted(t1)\n",
    "# Convert to tuple\n",
    "tuple_t1 = tuple(sorted_t1)\n",
    "print(tuple_t1)"
   ]
  },
  {
   "cell_type": "code",
   "execution_count": 74,
   "id": "b7eb0ddf-2662-4321-af7f-7b6c9ed1a8f0",
   "metadata": {},
   "outputs": [
    {
     "data": {
      "text/plain": [
       "(1, 2, 3, 3, 4, 4, 5, 5, 6)"
      ]
     },
     "execution_count": 74,
     "metadata": {},
     "output_type": "execute_result"
    }
   ],
   "source": [
    "# Solution 3: Using Function\n",
    "def sort_tuple(t1):\n",
    "    # Convert to list\n",
    "    new_list = list(t1)\n",
    "    # Sort the list\n",
    "    new_list.sort()\n",
    "    # Convert list to tuple\n",
    "    new_tuple = tuple(new_list)\n",
    "    return new_tuple\n",
    "\n",
    "# Calling Function \n",
    "sort_tuple((1, 3, 3, 2, 5, 5, 6, 4, 4))"
   ]
  },
  {
   "cell_type": "code",
   "execution_count": 75,
   "id": "53528ebf-ec6e-44ac-b5a7-6ec7a11a5b79",
   "metadata": {},
   "outputs": [
    {
     "name": "stdout",
     "output_type": "stream",
     "text": [
      "Original tuple: (1, 2, 3, 4, 5)\n",
      "Swapped tuple: (5, 2, 3, 4, 1)\n"
     ]
    }
   ],
   "source": [
    "### 10. Write a program to swap the first and last elements of a tuple.\n",
    "# Solution 1: \n",
    "original_tuple = (1, 2, 3, 4, 5)\n",
    "\n",
    "# Check if the tuple has at least two elements\n",
    "if len(original_tuple) < 2:\n",
    "    print(\"Tuple must have at least two elements to swap.\")\n",
    "else:\n",
    "    # Swap the first and last elements\n",
    "    swapped_tuple = (original_tuple[-1],) + original_tuple[1:-1] + (original_tuple[0],)\n",
    "\n",
    "    print(\"Original tuple:\", original_tuple)\n",
    "    print(\"Swapped tuple:\", swapped_tuple)\n"
   ]
  },
  {
   "cell_type": "code",
   "execution_count": 76,
   "id": "ad883334-bc75-4e92-840a-690b04208e90",
   "metadata": {},
   "outputs": [
    {
     "name": "stdout",
     "output_type": "stream",
     "text": [
      "Original tuple: (1, 2, 3, 4, 5)\n",
      "Swapped tuple: (5, 2, 3, 4, 1)\n"
     ]
    }
   ],
   "source": [
    "#Solution 2: Using List Conversion\n",
    "original_tuple = (1, 2, 3, 4, 5)\n",
    "\n",
    "# Convert tuple to list\n",
    "temp_list = list(original_tuple)\n",
    "\n",
    "# Swap the first and last elements\n",
    "temp_list[0], temp_list[-1] = temp_list[-1], temp_list[0]\n",
    "\n",
    "# Convert back to tuple\n",
    "swapped_tuple = tuple(temp_list)\n",
    "\n",
    "print(\"Original tuple:\", original_tuple)\n",
    "print(\"Swapped tuple:\", swapped_tuple)\n"
   ]
  },
  {
   "cell_type": "code",
   "execution_count": 77,
   "id": "e329d206-17bb-4f30-9b7e-893386f73937",
   "metadata": {},
   "outputs": [
    {
     "name": "stdout",
     "output_type": "stream",
     "text": [
      "Original tuple: (1, 2, 3, 4, 5)\n",
      "Swapped tuple: (5, 2, 3, 4, 1)\n"
     ]
    }
   ],
   "source": [
    "# Solution 3: Using Tuple Concatenation\n",
    "original_tuple = (1, 2, 3, 4, 5)\n",
    "\n",
    "# Swap using concatenation\n",
    "swapped_tuple = (original_tuple[-1],) + original_tuple[1:-1] + (original_tuple[0],)\n",
    "\n",
    "print(\"Original tuple:\", original_tuple)\n",
    "print(\"Swapped tuple:\", swapped_tuple)\n"
   ]
  },
  {
   "cell_type": "code",
   "execution_count": 80,
   "id": "9b0a239d-adc0-4f11-8b06-74e77b486aa3",
   "metadata": {},
   "outputs": [
    {
     "data": {
      "text/plain": [
       "(5, 2, 3, 4, 1)"
      ]
     },
     "execution_count": 80,
     "metadata": {},
     "output_type": "execute_result"
    }
   ],
   "source": [
    "# Solution 4 : Using Function\n",
    "def swapping(original_tuple):\n",
    "    # Swap using concatenation\n",
    "    swapped_tuple = (original_tuple[-1],) + original_tuple[1:-1] + (original_tuple[0],)\n",
    "\n",
    "    return swapped_tuple\n",
    "\n",
    "# Calling Function\n",
    "swapping((1, 2, 3, 4, 5))"
   ]
  },
  {
   "cell_type": "code",
   "execution_count": null,
   "id": "af504750-cc2a-4764-bf12-44abe2700e96",
   "metadata": {},
   "outputs": [],
   "source": []
  }
 ],
 "metadata": {
  "kernelspec": {
   "display_name": "Python 3 (ipykernel)",
   "language": "python",
   "name": "python3"
  },
  "language_info": {
   "codemirror_mode": {
    "name": "ipython",
    "version": 3
   },
   "file_extension": ".py",
   "mimetype": "text/x-python",
   "name": "python",
   "nbconvert_exporter": "python",
   "pygments_lexer": "ipython3",
   "version": "3.12.4"
  }
 },
 "nbformat": 4,
 "nbformat_minor": 5
}
