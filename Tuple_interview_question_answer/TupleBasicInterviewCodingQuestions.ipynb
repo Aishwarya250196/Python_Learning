{
 "cells": [
  {
   "cell_type": "code",
   "execution_count": 1,
   "id": "8e650fb3-e174-455b-918b-ff5f488bc51b",
   "metadata": {},
   "outputs": [
    {
     "name": "stdout",
     "output_type": "stream",
     "text": [
      "(1, 'a', 2, 'abc', 30, True)\n"
     ]
    }
   ],
   "source": [
    "### 1. Write a Python program to create a tuple and print its elements.\n",
    "# Solution 1: Using print()\n",
    "t1 = (1,'a', 2, 'abc', 30, True)\n",
    "print(t1)"
   ]
  },
  {
   "cell_type": "code",
   "execution_count": 3,
   "id": "8281acdf-a79b-4e57-a6d4-1c4aa6350c8a",
   "metadata": {},
   "outputs": [
    {
     "name": "stdout",
     "output_type": "stream",
     "text": [
      "20\n"
     ]
    }
   ],
   "source": [
    "### 2. How would you access the third element in a tuple?\n",
    "t1 = (1,'a', 20, 'abc', 30, True)\n",
    "# Third element is 20 and array start from 0\n",
    "print(t1[2])"
   ]
  },
  {
   "cell_type": "code",
   "execution_count": 4,
   "id": "b7985a7e-bff1-420d-9e15-ed266704123e",
   "metadata": {},
   "outputs": [
    {
     "name": "stdout",
     "output_type": "stream",
     "text": [
      "6\n"
     ]
    }
   ],
   "source": [
    "### 3. Write a program to find the length of a tuple.\n",
    "# Solution 1: Using len()\n",
    "t1 = (1,'a', 20, 'abc', 30, True)\n",
    "length = len(t1)\n",
    "print(length)"
   ]
  },
  {
   "cell_type": "code",
   "execution_count": 6,
   "id": "f4d7eed6-f61d-4289-ab89-f674b5b2008d",
   "metadata": {},
   "outputs": [
    {
     "name": "stdout",
     "output_type": "stream",
     "text": [
      "6 is the length of tuple\n"
     ]
    }
   ],
   "source": [
    "# Solution 2: Using Iteration\n",
    "t1 = (1,'a', 20, 'abc', 30, True)\n",
    "length = 0\n",
    "for item in t1:\n",
    "    length += 1\n",
    "print(f\"{length} is the length of tuple\")\n",
    "    "
   ]
  },
  {
   "cell_type": "code",
   "execution_count": 7,
   "id": "e9a9914d-aa47-4aad-8c8c-f7f690c2fdd7",
   "metadata": {},
   "outputs": [
    {
     "data": {
      "text/plain": [
       "6"
      ]
     },
     "execution_count": 7,
     "metadata": {},
     "output_type": "execute_result"
    }
   ],
   "source": [
    "# Solution 3: Using Function\n",
    "def length_tuple(t1):\n",
    "    length = len(t1)\n",
    "    return length\n",
    "\n",
    "# Calling Function \n",
    "length_tuple((1,'a', 20, 'abc', 30, True))"
   ]
  },
  {
   "cell_type": "code",
   "execution_count": 9,
   "id": "50cf27e7-f6ee-4d44-9cdc-829b648f2305",
   "metadata": {},
   "outputs": [
    {
     "name": "stdout",
     "output_type": "stream",
     "text": [
      "(1, 20, 30, 50, 100, 'a', 'b', 'c', 'd', True)\n"
     ]
    }
   ],
   "source": [
    "### 4. How would you concatenate two tuples?\n",
    "# Solution 1: using concatenate \"+\"\n",
    "t1 = (1, 20, 30, 50, 100)\n",
    "t2 = ('a', 'b', 'c', 'd', True)\n",
    "merge = t1 + t2\n",
    "print(merge)"
   ]
  },
  {
   "cell_type": "code",
   "execution_count": 14,
   "id": "080bb1c7-c4b2-4930-9964-0217b20b4959",
   "metadata": {},
   "outputs": [
    {
     "name": "stdout",
     "output_type": "stream",
     "text": [
      "(1, 20, 30, 50, 100, 'a', 'b', 'c', 'd', True)\n"
     ]
    }
   ],
   "source": [
    "# Solution 2: Using Iteration\n",
    "t1 = (1, 20, 30, 50, 100)\n",
    "t2 = ('a', 'b', 'c', 'd', True)\n",
    "concatenated_tuple = ()\n",
    "for item in t1:\n",
    "    concatenated_tuple += (item,)\n",
    "\n",
    "for item in t2:\n",
    "    concatenated_tuple += (item,)\n",
    "\n",
    "print(concatenated_tuple)"
   ]
  },
  {
   "cell_type": "code",
   "execution_count": 15,
   "id": "780e3095-a0bc-4eb6-b254-db361fc200a5",
   "metadata": {},
   "outputs": [
    {
     "data": {
      "text/plain": [
       "(1, 20, 30, 50, 100, 'a', 'b', 'c', 'd', True)"
      ]
     },
     "execution_count": 15,
     "metadata": {},
     "output_type": "execute_result"
    }
   ],
   "source": [
    "# Solution 3: Using function\n",
    "def concatenated_tuple(t1, t2):\n",
    "    concatenated_tuple = t1 + t2\n",
    "    return concatenated_tuple\n",
    "\n",
    "# Calling Function\n",
    "concatenated_tuple((1, 20, 30, 50, 100), ('a', 'b', 'c', 'd', True))"
   ]
  },
  {
   "cell_type": "code",
   "execution_count": 18,
   "id": "c6b0e856-c0d6-4d56-928f-99dab6deb34f",
   "metadata": {},
   "outputs": [
    {
     "name": "stdout",
     "output_type": "stream",
     "text": [
      "(1, 'abc', 50, 'yess', 'true', 900)\n"
     ]
    }
   ],
   "source": [
    "### 5. Write a Python program to convert a list into a tuple.\n",
    "# Solution 1: using tuple()\n",
    "list1 = [1, 'abc', 50, 'yess', 'true', 900]\n",
    "# list to tuple\n",
    "tuple_t1 = tuple(list1)\n",
    "print(tuple_t1)\n"
   ]
  },
  {
   "cell_type": "code",
   "execution_count": 20,
   "id": "8336d44e-a366-4c4a-8d78-b3d5c043fd71",
   "metadata": {},
   "outputs": [
    {
     "name": "stdout",
     "output_type": "stream",
     "text": [
      "Converted Tuple: (1, 'abc', 50, 'yess', 'true', 900)\n"
     ]
    }
   ],
   "source": [
    "# Solution 2: Using iteration\n",
    "list1 = [1, 'abc', 50, 'yess', 'true', 900]\n",
    "converted_tuple = ()\n",
    "for item in list1:\n",
    "    converted_tuple += (item, )\n",
    "\n",
    "print(\"Converted Tuple:\", converted_tuple)"
   ]
  },
  {
   "cell_type": "code",
   "execution_count": 21,
   "id": "70ac22b0-d831-4a00-a340-534432687926",
   "metadata": {},
   "outputs": [
    {
     "data": {
      "text/plain": [
       "(1, 'abc', 50, 'yess', 'true', 900)"
      ]
     },
     "execution_count": 21,
     "metadata": {},
     "output_type": "execute_result"
    }
   ],
   "source": [
    "# Solution 3: Using function\n",
    "def list_to_tuple(list1):\n",
    "    tuple_t1 = tuple(list1)\n",
    "    return tuple_t1\n",
    "\n",
    "# Calling Function\n",
    "list_to_tuple([1, 'abc', 50, 'yess', 'true', 900])"
   ]
  },
  {
   "cell_type": "code",
   "execution_count": 22,
   "id": "017858be-72b5-4b70-b680-26354023ebf9",
   "metadata": {},
   "outputs": [
    {
     "name": "stdout",
     "output_type": "stream",
     "text": [
      "Occurrences of '2' in the tuple: 4\n"
     ]
    }
   ],
   "source": [
    "### 6. Write a program to count the occurrences of an element in a tuple.\n",
    "# Solution 1: Using count()\n",
    "my_tuple = (1, 2, 3, 4, 2, 2, 5, 6, 2)\n",
    "# Count occurrences of the element '2'\n",
    "count = my_tuple.count(2)\n",
    "# Print the count\n",
    "print(\"Occurrences of '2' in the tuple:\", count)\n"
   ]
  },
  {
   "cell_type": "code",
   "execution_count": 27,
   "id": "efb74ab3-f0d0-45ba-8788-2dd7b14ba339",
   "metadata": {},
   "outputs": [
    {
     "name": "stdout",
     "output_type": "stream",
     "text": [
      "Occurrences of 2 in the tuple: 4\n"
     ]
    }
   ],
   "source": [
    "# Solution 2: Using Iteration\n",
    "my_tuple = (1, 2, 3, 4, 2, 2, 5, 6, 2)\n",
    "number = 2\n",
    "count = 0\n",
    "\n",
    "for item in my_tuple:\n",
    "    if item == number:\n",
    "        count += 1\n",
    "print(f\"Occurrences of {number} in the tuple:\", count)"
   ]
  },
  {
   "cell_type": "code",
   "execution_count": 30,
   "id": "e9ace126-e2f5-49fb-ba13-cf6bb0c46454",
   "metadata": {},
   "outputs": [
    {
     "data": {
      "text/plain": [
       "4"
      ]
     },
     "execution_count": 30,
     "metadata": {},
     "output_type": "execute_result"
    }
   ],
   "source": [
    "# Solution 3: Using Function\n",
    "def count_occurence(my_tuple, number):\n",
    "    count = my_tuple.count(number)\n",
    "    return count\n",
    "\n",
    "# Calling Function \n",
    "count_occurence((1, 2, 3, 4, 2, 2, 5, 6, 2), 2)"
   ]
  },
  {
   "cell_type": "code",
   "execution_count": 31,
   "id": "33f6c9a4-9ed6-423e-b053-532503a693f0",
   "metadata": {},
   "outputs": [
    {
     "name": "stdout",
     "output_type": "stream",
     "text": [
      "a: 1\n",
      "b: 2\n",
      "c: hello\n",
      "d: 4.5\n"
     ]
    }
   ],
   "source": [
    "### 7. How would you unpack a tuple into separate variables?\n",
    "# Solution 1: unpack tuple directl to the variable\n",
    "my_tuple = (1, 2, 'hello', 4.5)\n",
    "\n",
    "# Unpack the tuple into separate variables\n",
    "a, b, c, d = my_tuple\n",
    "\n",
    "# Print the unpacked variables\n",
    "print(\"a:\", a)\n",
    "print(\"b:\", b)\n",
    "print(\"c:\", c)\n",
    "print(\"d:\", d)\n",
    "\n"
   ]
  },
  {
   "cell_type": "code",
   "execution_count": 32,
   "id": "03750ff0-3775-4343-a480-2c9b26db0b75",
   "metadata": {},
   "outputs": [
    {
     "name": "stdout",
     "output_type": "stream",
     "text": [
      "a: 1\n",
      "b: 2\n",
      "c: hello\n",
      "d: 4.5\n",
      "e: more\n",
      "f: elements\n"
     ]
    }
   ],
   "source": [
    "# Solution 2: Using Iteration\n",
    "my_tuple = (1, 2, 'hello', 4.5, 'more', 'elements')\n",
    "\n",
    "# Dynamic unpacking using a loop\n",
    "variables = []\n",
    "for item in my_tuple:\n",
    "    variables.append(item)\n",
    "\n",
    "# Assign variables to unpacked tuple elements\n",
    "a, b, c, d, e, f = variables\n",
    "\n",
    "# Print the unpacked variables\n",
    "print(\"a:\", a)\n",
    "print(\"b:\", b)\n",
    "print(\"c:\", c)\n",
    "print(\"d:\", d)\n",
    "print(\"e:\", e)\n",
    "print(\"f:\", f)\n"
   ]
  },
  {
   "cell_type": "code",
   "execution_count": 33,
   "id": "968c0580-6d44-4b9f-8e5d-d812969fb204",
   "metadata": {},
   "outputs": [
    {
     "name": "stdout",
     "output_type": "stream",
     "text": [
      "a: 1\n",
      "b: 2\n",
      "rest: ['hello', 4.5, 'extra', 'elements']\n"
     ]
    }
   ],
   "source": [
    "# Solution 3: Using asterisk*\n",
    "my_tuple = (1, 2, 'hello', 4.5, 'extra', 'elements')\n",
    "\n",
    "# Unpack with asterisk for variable length\n",
    "a, b, *rest = my_tuple\n",
    "\n",
    "# Print the unpacked variables\n",
    "print(\"a:\", a)\n",
    "print(\"b:\", b)\n",
    "print(\"rest:\", rest)\n"
   ]
  },
  {
   "cell_type": "code",
   "execution_count": 34,
   "id": "72233e12-e1f5-4ae1-9e5c-8d3db2aab451",
   "metadata": {},
   "outputs": [
    {
     "name": "stdout",
     "output_type": "stream",
     "text": [
      "a: 1\n",
      "b: 2\n",
      "c: hello\n",
      "d: 4.5\n"
     ]
    }
   ],
   "source": [
    "# Solution 4: Using indexing\n",
    "my_tuple = (1, 2, 'hello', 4.5)\n",
    "\n",
    "# Unpack using indexing\n",
    "a = my_tuple[0]\n",
    "b = my_tuple[1]\n",
    "c = my_tuple[2]\n",
    "d = my_tuple[3]\n",
    "\n",
    "# Print the unpacked variables\n",
    "print(\"a:\", a)\n",
    "print(\"b:\", b)\n",
    "print(\"c:\", c)\n",
    "print(\"d:\", d)\n"
   ]
  },
  {
   "cell_type": "code",
   "execution_count": 40,
   "id": "6eca55db-81c9-40d2-963b-1d10bbd90091",
   "metadata": {},
   "outputs": [
    {
     "name": "stdout",
     "output_type": "stream",
     "text": [
      "a: 1\n",
      "b: 2\n",
      "rest: ['hello', 4.5, 'extra', 'elements']\n"
     ]
    }
   ],
   "source": [
    "# Solution 5: Using Function\n",
    "def unpack_tuple(my_tuple):\n",
    "    if len(my_tuple) < 2:\n",
    "        print(\"Tuple must have at least 2 elements to unpack.\")\n",
    "\n",
    "    # Unpack the tuple\n",
    "    a, b, *rest = my_tuple\n",
    "\n",
    "    # Return unpacked variables\n",
    "    return a, b, rest\n",
    "\n",
    "# Example usage:\n",
    "\n",
    "a, b, rest = unpack_tuple((1, 2, 'hello', 4.5, 'extra', 'elements'))\n",
    "\n",
    "# Print the unpacked variables\n",
    "print(\"a:\", a)\n",
    "print(\"b:\", b)\n",
    "print(\"rest:\", rest)\n"
   ]
  },
  {
   "cell_type": "code",
   "execution_count": 42,
   "id": "c2637dc8-d96f-4531-895c-92069ce44605",
   "metadata": {},
   "outputs": [
    {
     "name": "stdout",
     "output_type": "stream",
     "text": [
      "2\n"
     ]
    }
   ],
   "source": [
    "### 8. Write a Python program to find the index of a specific element in a tuple.\n",
    "# Solution 1: Using index()\n",
    "tuple1 = (1, 2, 'hello', 4.5, 'extra', 'elements')\n",
    "# find index of 'hello'\n",
    "index_element = tuple1.index('hello')\n",
    "print(index_element)"
   ]
  },
  {
   "cell_type": "code",
   "execution_count": 45,
   "id": "50e1372e-428b-4e54-b3f0-1ad6a70226ab",
   "metadata": {},
   "outputs": [
    {
     "name": "stdout",
     "output_type": "stream",
     "text": [
      "3 is index of 4.5\n"
     ]
    }
   ],
   "source": [
    "# Solution 2: Using Itereation\n",
    "tuple1 = (1, 2, 'hello', 4.5, 'extra', 'elements')\n",
    "value = 4.5\n",
    "for index, element in enumerate(tuple1):\n",
    "    if value == element:\n",
    "        print(f\"{index} is index of {value}\")"
   ]
  },
  {
   "cell_type": "code",
   "execution_count": 47,
   "id": "91c3b42d-864c-4dad-9f3b-49005590cb7e",
   "metadata": {},
   "outputs": [
    {
     "data": {
      "text/plain": [
       "4"
      ]
     },
     "execution_count": 47,
     "metadata": {},
     "output_type": "execute_result"
    }
   ],
   "source": [
    "# Solution 3: Using Function\n",
    "def index_element(tuple1, value):\n",
    "    index_element = tuple1.index(value)\n",
    "    return index_element\n",
    "\n",
    "# Calling Function\n",
    "index_element((1, 2, 'hello', 4.5, 'extra', 'elements'), 'extra')"
   ]
  },
  {
   "cell_type": "code",
   "execution_count": 48,
   "id": "548c90b8-e388-4e46-a0a7-c7359f8e2dd1",
   "metadata": {},
   "outputs": [
    {
     "name": "stdout",
     "output_type": "stream",
     "text": [
      "Tuple with mixed data types: (25, 'Hello', 3.14, True, [1, 2, 3], {'key': 'value'})\n"
     ]
    }
   ],
   "source": [
    "### 9. Write a program to create a tuple with mixed data types.\n",
    "# Solution 1:  Create a tuple with mixed data types\n",
    "mixed_tuple = (25, \"Hello\", 3.14, True, [1, 2, 3], {'key': 'value'})\n",
    "print(\"Tuple with mixed data types:\", mixed_tuple)\n"
   ]
  },
  {
   "cell_type": "code",
   "execution_count": 51,
   "id": "ea3fc70a-5daa-4830-abcb-981103a45b84",
   "metadata": {},
   "outputs": [
    {
     "name": "stdout",
     "output_type": "stream",
     "text": [
      "(25, 'Hello', 3.14, True, [1, 2, 3], {'key': 'value'})\n"
     ]
    }
   ],
   "source": [
    "# Solution 2: Using iteration\n",
    "tuple1 = (25, \"Hello\", 3.14, True, [1, 2, 3], {'key': 'value'})\n",
    "mixed_tuple = ()\n",
    "\n",
    "for element in tuple1:\n",
    "    mixed_tuple += (element, )\n",
    "\n",
    "print(mixed_tuple)"
   ]
  },
  {
   "cell_type": "code",
   "execution_count": 52,
   "id": "f3265f53-1567-408a-810a-b58672b5f2da",
   "metadata": {},
   "outputs": [
    {
     "data": {
      "text/plain": [
       "(25, 'Hello', 3.14, True, [1, 2, 3], {'key': 'value'})"
      ]
     },
     "execution_count": 52,
     "metadata": {},
     "output_type": "execute_result"
    }
   ],
   "source": [
    "# Solution 3: Using Function\n",
    "def mixed_tuple(tuple1):\n",
    "    mixed_tuple = ()\n",
    "    for element in tuple1:\n",
    "        mixed_tuple += (element, )\n",
    "    return mixed_tuple\n",
    "\n",
    "# Calling Function\n",
    "mixed_tuple((25, \"Hello\", 3.14, True, [1, 2, 3], {'key': 'value'}))"
   ]
  },
  {
   "cell_type": "code",
   "execution_count": 58,
   "id": "3fef8ce0-fa1e-4e83-ae68-d9dc3ae54654",
   "metadata": {},
   "outputs": [
    {
     "name": "stdout",
     "output_type": "stream",
     "text": [
      "{25, 3.14, 'Hello', True}\n"
     ]
    }
   ],
   "source": [
    "### 10. How would you convert a tuple into a set?\n",
    "# Solution 1: Using set()\n",
    "tuple1 = (25, \"Hello\", 3.14, True )\n",
    "set_tuple1 = set(tuple1)\n",
    "print(set_tuple1)"
   ]
  },
  {
   "cell_type": "code",
   "execution_count": 60,
   "id": "e0c3648a-da6d-4ddb-9fdd-be59c0f4afa9",
   "metadata": {},
   "outputs": [
    {
     "name": "stdout",
     "output_type": "stream",
     "text": [
      "{25, 3.14, 'Hello', True}\n"
     ]
    }
   ],
   "source": [
    "# Solution 2: Using Iteration\n",
    "tuple1 = (25, \"Hello\", 3.14, True )\n",
    "set_tuple = set()\n",
    "for item in tuple1:\n",
    "    set_tuple.add(item)\n",
    "print(set_tuple)"
   ]
  },
  {
   "cell_type": "code",
   "execution_count": 61,
   "id": "f8a3fb3c-ef57-4f90-9ecd-0ed0a57fb8e4",
   "metadata": {},
   "outputs": [
    {
     "data": {
      "text/plain": [
       "{25, 3.14, 'Hello', True}"
      ]
     },
     "execution_count": 61,
     "metadata": {},
     "output_type": "execute_result"
    }
   ],
   "source": [
    "# Solution 3: Using Function\n",
    "def tuple_to_set(tuple1):\n",
    "    set_tuple1 = set(tuple1)\n",
    "    return set_tuple1\n",
    "\n",
    "# Calling Function\n",
    "tuple_to_set((25, \"Hello\", 3.14, True ))"
   ]
  },
  {
   "cell_type": "code",
   "execution_count": null,
   "id": "1159f4bf-1ffc-4bc4-9a59-925ce700a522",
   "metadata": {},
   "outputs": [],
   "source": []
  }
 ],
 "metadata": {
  "kernelspec": {
   "display_name": "Python 3 (ipykernel)",
   "language": "python",
   "name": "python3"
  },
  "language_info": {
   "codemirror_mode": {
    "name": "ipython",
    "version": 3
   },
   "file_extension": ".py",
   "mimetype": "text/x-python",
   "name": "python",
   "nbconvert_exporter": "python",
   "pygments_lexer": "ipython3",
   "version": "3.12.4"
  }
 },
 "nbformat": 4,
 "nbformat_minor": 5
}
