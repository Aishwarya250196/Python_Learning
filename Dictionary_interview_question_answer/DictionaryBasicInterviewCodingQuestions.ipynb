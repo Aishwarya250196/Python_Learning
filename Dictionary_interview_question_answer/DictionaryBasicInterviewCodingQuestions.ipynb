{
 "cells": [
  {
   "cell_type": "code",
   "execution_count": 1,
   "id": "de0ca2d9-0cc2-43c1-b618-0f206272ed6c",
   "metadata": {},
   "outputs": [
    {
     "name": "stdout",
     "output_type": "stream",
     "text": [
      "{'Aish': 20, 'Raj': 25, 'Ram': 29, 'Seeta': 10}\n"
     ]
    }
   ],
   "source": [
    "# Create a dictionary to store the names and ages of three people.\n",
    "# Solution 1:  Using print()\n",
    "people = {'Aish': 20, 'Raj': 25,'Seeta': 10}\n",
    "print(Dict)"
   ]
  },
  {
   "cell_type": "code",
   "execution_count": 3,
   "id": "faca4dcf-f026-4cbd-9c22-d89f24d765be",
   "metadata": {},
   "outputs": [
    {
     "name": "stdout",
     "output_type": "stream",
     "text": [
      "Aish is age 20\n",
      "Raj is age 25\n",
      "Seeta is age 10\n"
     ]
    }
   ],
   "source": [
    "# Solution 2: Using items()\n",
    "people = {'Aish': 20, 'Raj': 25,'Seeta': 10}\n",
    "for name, age in Dict.items():\n",
    "    print(f\"{name} is age {age}\")"
   ]
  },
  {
   "cell_type": "code",
   "execution_count": 7,
   "id": "47979794-cf91-4c2a-b72b-dc3ab45ec9c0",
   "metadata": {},
   "outputs": [
    {
     "name": "stdout",
     "output_type": "stream",
     "text": [
      "Aish is age 20\n",
      "Raj is age 25\n",
      "Seeta is age 10\n"
     ]
    }
   ],
   "source": [
    "# Solution 3: Using a Tuple\n",
    "people = [\n",
    "    ('Aish', 20), \n",
    "    ('Raj', 25),\n",
    "    ('Seeta', 10)\n",
    "]\n",
    "for name, age in people:\n",
    "    print(f\"{name} is age {age}\")"
   ]
  },
  {
   "cell_type": "code",
   "execution_count": 9,
   "id": "fcd3a926-22a9-4bbd-b745-1271d6b4e68b",
   "metadata": {},
   "outputs": [
    {
     "name": "stdout",
     "output_type": "stream",
     "text": [
      "Alice is 30 years old.\n",
      "Bob is 25 years old.\n",
      "Charlie is 35 years old.\n"
     ]
    }
   ],
   "source": [
    "# Solution 4: Using Function\n",
    "def print_people_info(people):\n",
    "    for name, age in people.items():\n",
    "        print(f\"{name} is {age} years old.\")\n",
    "\n",
    "\n",
    "print_people_info({\"Alice\": 30,\"Bob\": 25,\"Charlie\": 35})\n"
   ]
  },
  {
   "cell_type": "code",
   "execution_count": 17,
   "id": "bc6e054b-a299-4f79-a798-18e9c834e9fe",
   "metadata": {},
   "outputs": [
    {
     "name": "stdout",
     "output_type": "stream",
     "text": [
      "20\n",
      "25\n",
      "10\n"
     ]
    }
   ],
   "source": [
    "### 2. Write a program that retrieves the age of a person from a dictionary.\n",
    "# Solution 1: Using values()\n",
    "people = {'Aish': 20, 'Raj': 25,'Seeta': 10}\n",
    "for age in people.values():\n",
    "    print(age)"
   ]
  },
  {
   "cell_type": "code",
   "execution_count": 20,
   "id": "d90abef8-4264-404d-a579-dbd511c2ea27",
   "metadata": {},
   "outputs": [
    {
     "name": "stdout",
     "output_type": "stream",
     "text": [
      "Aish is 20 years old.\n",
      "Raj is 25 years old.\n",
      "Seeta is 10 years old.\n"
     ]
    }
   ],
   "source": [
    "# Solution 2: Using items()\n",
    "people = {'Aish': 20, 'Raj': 25,'Seeta': 10}\n",
    "for name, age in people.items():\n",
    "    print(f\"{name} is {age} years old.\")"
   ]
  },
  {
   "cell_type": "code",
   "execution_count": 21,
   "id": "69406770-3da8-432f-b09d-91ffdf2296be",
   "metadata": {},
   "outputs": [
    {
     "name": "stdout",
     "output_type": "stream",
     "text": [
      "Aish is 20 years old.\n",
      "Raj is 25 years old.\n",
      "Seeta is 10 years old.\n"
     ]
    }
   ],
   "source": [
    "# Solution 3: Using a Tuple\n",
    "people = [('Aish', 20), ('Raj', 25), ('Seeta', 10)]\n",
    "for name, age in people:\n",
    "    print(f\"{name} is {age} years old.\")"
   ]
  },
  {
   "cell_type": "code",
   "execution_count": 35,
   "id": "b9363a80-fd49-4fba-b14a-0d33d4171219",
   "metadata": {},
   "outputs": [
    {
     "name": "stdout",
     "output_type": "stream",
     "text": [
      "['Aish is 20 year old.', 'Raj is 25 year old.', 'Seeta is 10 year old.']\n"
     ]
    }
   ],
   "source": [
    "# Solution 4: Using List Comprehension\n",
    "people = {'Aish': 20, 'Raj': 25, 'Seeta': 10}\n",
    "age_comprehension = [f\"{name} is {age} year old.\" for name, age in people.items()]\n",
    "print(age_comprehension)"
   ]
  },
  {
   "cell_type": "code",
   "execution_count": 37,
   "id": "fe166026-2005-44eb-aab3-3888fad154b8",
   "metadata": {},
   "outputs": [
    {
     "name": "stdout",
     "output_type": "stream",
     "text": [
      "Aish is 20 year old.\n",
      "Raj is 25 year old.\n",
      "Seeta is 10 year old.\n"
     ]
    }
   ],
   "source": [
    "# Solution 5: Using Function\n",
    "def print_people_info(people):\n",
    "    for name, age in people.items():\n",
    "        print(f\"{name} is {age} year old.\")\n",
    "\n",
    "# Calling Function\n",
    "print_people_info({'Aish': 20, 'Raj': 25, 'Seeta': 10})"
   ]
  },
  {
   "cell_type": "code",
   "execution_count": 39,
   "id": "5ed0b42b-b794-4c2d-842c-cb56e9f544b3",
   "metadata": {},
   "outputs": [
    {
     "name": "stdout",
     "output_type": "stream",
     "text": [
      "{'Aish': 20, 'Raj': 25, 'Seeta': 10, 'Ram': 20, 'Shyam': 18}\n"
     ]
    }
   ],
   "source": [
    "### 3. Write a program that adds a new person and their age to an existing dictionary.\n",
    "# Solution 1: Using the subscript notation\n",
    "people = {'Aish': 20, 'Raj': 25, 'Seeta': 10}\n",
    "people['Ram'] = 20\n",
    "people['Shyam'] = 18\n",
    "print(people)"
   ]
  },
  {
   "cell_type": "code",
   "execution_count": 42,
   "id": "b6e08143-720d-4e99-8624-7b5e40bf6cc0",
   "metadata": {},
   "outputs": [
    {
     "name": "stdout",
     "output_type": "stream",
     "text": [
      "{'Aish': 20, 'Raj': 25, 'Seeta': 10, 'Abhi': 16, 'Ramesh': 22}\n"
     ]
    }
   ],
   "source": [
    "# Solution 2: Using Update()\n",
    "people = {'Aish': 20, 'Raj': 25, 'Seeta': 10}\n",
    "\n",
    "new_people = {'Abhi': 16, 'Ramesh': 22}\n",
    "people.update(new_people)\n",
    "print(people)"
   ]
  },
  {
   "cell_type": "code",
   "execution_count": 43,
   "id": "2260f8d1-bd52-436f-b081-c024a46876d4",
   "metadata": {},
   "outputs": [
    {
     "name": "stdin",
     "output_type": "stream",
     "text": [
      "Enter the name of the new person:  Ram\n",
      "Enter the age of Ram:  20\n"
     ]
    },
    {
     "name": "stdout",
     "output_type": "stream",
     "text": [
      "Updated dictionary of people:\n",
      "Aish: 20\n",
      "Raj: 25\n",
      "Seeta: 10\n",
      "Ram: 20\n"
     ]
    }
   ],
   "source": [
    "# Solution 3: Using Iteration\n",
    "# Existing dictionary of people\n",
    "people = {'Aish': 20, 'Raj': 25, 'Seeta': 10}\n",
    "\n",
    "# Get the new person's name and age from the user\n",
    "new_name = input(\"Enter the name of the new person: \")\n",
    "new_age = int(input(f\"Enter the age of {new_name}: \"))\n",
    "\n",
    "# Add the new person to the dictionary\n",
    "people[new_name] = new_age\n",
    "\n",
    "# Print the updated dictionary\n",
    "print(\"Updated dictionary of people:\")\n",
    "for name, age in people.items():\n",
    "    print(f\"{name}: {age}\")\n"
   ]
  },
  {
   "cell_type": "code",
   "execution_count": 53,
   "id": "ed9d2202-f0d5-471d-bc6a-e47842ca9fa9",
   "metadata": {},
   "outputs": [
    {
     "name": "stdin",
     "output_type": "stream",
     "text": [
      "Enter the name of the new person:  rama\n",
      "Enter the age of rama:  66\n"
     ]
    },
    {
     "name": "stdout",
     "output_type": "stream",
     "text": [
      "Updated dictionary of people:\n",
      "Aish: 20\n",
      "Raj: 25\n",
      "Seeta: 10\n",
      "rama: 66\n"
     ]
    }
   ],
   "source": [
    "# Solution 4: Using Function\n",
    "def update_people_info(people, name, age):\n",
    "    # Get the new person's name and age from the user\n",
    "    new_name = input(\"Enter the name of the new person: \")\n",
    "    new_age = int(input(f\"Enter the age of {new_name}: \"))\n",
    "    \n",
    "    # Add the new person to the dictionary\n",
    "    people[new_name] = new_age\n",
    "    \n",
    "    # Print the updated dictionary\n",
    "    print(\"Updated dictionary of people:\")\n",
    "    for name, age in people.items():\n",
    "        print(f\"{name}: {age}\")\n",
    "\n",
    "# Calling Function\n",
    "update_people_info({'Aish': 20, 'Raj': 25, 'Seeta': 10}, name, age)\n"
   ]
  },
  {
   "cell_type": "code",
   "execution_count": 55,
   "id": "bf6df468-7a39-46cf-b4a6-5651108749e1",
   "metadata": {},
   "outputs": [
    {
     "name": "stdout",
     "output_type": "stream",
     "text": [
      "{'Aish': 20, 'Seeta': 10, 'Ram': 66, 'Shyam': 52}\n"
     ]
    }
   ],
   "source": [
    "### 4. Write a function that removes a key-value pair from a dictionary by key.\n",
    "# Solution 1: Using del\n",
    "people = {'Aish': 20, 'Raj': 25, 'Seeta': 10, 'Ram': 66, 'Shyam': 52}\n",
    "del people['Raj']\n",
    "print(people)"
   ]
  },
  {
   "cell_type": "code",
   "execution_count": 56,
   "id": "bd3d8e1d-595d-47fd-89b6-a7ac19849f19",
   "metadata": {},
   "outputs": [
    {
     "name": "stdout",
     "output_type": "stream",
     "text": [
      "{'Aish': 20, 'Raj': 25, 'Seeta': 10, 'Shyam': 52}\n"
     ]
    }
   ],
   "source": [
    "# Solution 2: Using pop()\n",
    "people = {'Aish': 20, 'Raj': 25, 'Seeta': 10, 'Ram': 66, 'Shyam': 52}\n",
    "people.pop('Ram')\n",
    "print(people)"
   ]
  },
  {
   "cell_type": "code",
   "execution_count": 60,
   "id": "7ed09d04-461f-4ee5-b161-ba75e80a4332",
   "metadata": {},
   "outputs": [
    {
     "name": "stdin",
     "output_type": "stream",
     "text": [
      "Enter the name of the person to remove:  Ram\n"
     ]
    },
    {
     "name": "stdout",
     "output_type": "stream",
     "text": [
      "Ram has been removed from the dictionary.\n",
      "Updated dictionary of people:\n",
      "Aish: 20\n",
      "Raj: 25\n",
      "Seeta: 10\n",
      "Shyam: 52\n"
     ]
    }
   ],
   "source": [
    "# Solution 3: Using Iteration over a list of the keys\n",
    "people = {'Aish': 20, 'Raj': 25, 'Seeta': 10, 'Ram': 66, 'Shyam': 52}\n",
    "\n",
    "# Get the name of the person to remove from the user\n",
    "name_to_remove = input(\"Enter the name of the person to remove: \")\n",
    "\n",
    "# Use a copy of the keys to avoid modifying the dictionary while iterating\n",
    "keys_to_check = list(people.keys())\n",
    "\n",
    "for key in keys_to_check:\n",
    "    if key == name_to_remove:\n",
    "        del people[key]\n",
    "        print(f\"{name_to_remove} has been removed from the dictionary.\")\n",
    "        break\n",
    "else:\n",
    "    print(f\"{name_to_remove} not found in the dictionary.\")\n",
    "\n",
    "# Print the updated dictionary\n",
    "print(\"Updated dictionary of people:\")\n",
    "for name, age in people.items():\n",
    "    print(f\"{name}: {age}\")\n",
    "\n",
    "\n",
    "    "
   ]
  },
  {
   "cell_type": "code",
   "execution_count": 65,
   "id": "55f34936-13a5-4580-9f99-9d0736fc263d",
   "metadata": {},
   "outputs": [
    {
     "name": "stdin",
     "output_type": "stream",
     "text": [
      "Enter the name of the person to remove:  Seeta\n"
     ]
    },
    {
     "name": "stdout",
     "output_type": "stream",
     "text": [
      "Seeta has been removed from the dictionary.\n",
      "Updated dictionary of people:\n",
      "Aish: 20\n",
      "Raj: 25\n",
      "Ram: 66\n",
      "Shyam: 52\n"
     ]
    }
   ],
   "source": [
    "# Solution 4: Using Function\n",
    "def remove_people_info(people):\n",
    "    \"\"\"Removes a person from the dictionary by name.\"\"\"\n",
    "    name_to_remove = input(\"Enter the name of the person to remove: \")\n",
    "    keys_to_check = list(people.keys())\n",
    "    \n",
    "    for key in keys_to_check:\n",
    "        if key == name_to_remove:\n",
    "            del people[key]\n",
    "            print(f\"{name_to_remove} has been removed from the dictionary.\")\n",
    "            break\n",
    "    else:\n",
    "        print(f\"{name_to_remove} not found in the dictionary.\")\n",
    "\n",
    "# Initial dictionary of people\n",
    "people = {'Aish': 20, 'Raj': 25, 'Seeta': 10, 'Ram': 66, 'Shyam': 52}\n",
    "\n",
    "# Calling the function to remove a person\n",
    "remove_people_info(people)\n",
    "\n",
    "# Print the updated dictionary\n",
    "print(\"Updated dictionary of people:\")\n",
    "for name, age in people.items():\n",
    "    print(f\"{name}: {age}\")\n"
   ]
  },
  {
   "cell_type": "code",
   "execution_count": 79,
   "id": "b3881902-cd9b-4bdb-92b3-752c3399e1ba",
   "metadata": {},
   "outputs": [
    {
     "name": "stdin",
     "output_type": "stream",
     "text": [
      "Enter the name of the person to remove:  Aish\n"
     ]
    },
    {
     "name": "stdout",
     "output_type": "stream",
     "text": [
      "Aish is exists in a dictionary.\n"
     ]
    }
   ],
   "source": [
    "### 5. Write a program that checks if a specific key exists in a dictionary.\n",
    "# Solution 1: Using Iteration over a list of the keys\n",
    "people =  {'Aish': 20, 'Raj': 25, 'Seeta': 10, 'Ram': 66, 'Shyam': 52}\n",
    "search_value = input(\"Enter the name of the person to remove: \")\n",
    "keys_to_check = list(people.keys())\n",
    "\n",
    "for key in keys_to_check:\n",
    "    if key == search_value:\n",
    "        print(f\"{search_value} is exists in a dictionary.\")\n",
    "        break\n",
    "else:\n",
    "    print(f\"{search_value} is not exist in a dictionary.\")\n",
    "    "
   ]
  },
  {
   "cell_type": "code",
   "execution_count": 81,
   "id": "932b754b-cf14-43bf-bc24-a449f6df09d9",
   "metadata": {},
   "outputs": [
    {
     "name": "stdin",
     "output_type": "stream",
     "text": [
      "Enter the name of the person to check:  Seeta\n"
     ]
    },
    {
     "name": "stdout",
     "output_type": "stream",
     "text": [
      "Seeta is exists in a dictionary.\n"
     ]
    }
   ],
   "source": [
    "# Solution 2: Using Iteration\n",
    "people =  {'Aish': 20, 'Raj': 25, 'Seeta': 10, 'Ram': 66, 'Shyam': 52}\n",
    "key_to_check = input(\"Enter the name of the person to check: \")\n",
    "\n",
    "# Check if the key exists using iteration\n",
    "found = False\n",
    "for key in people:\n",
    "    if key == key_to_check:\n",
    "        found = True\n",
    "        print(f\"{key_to_check} is exists in a dictionary.\")\n",
    "        break\n",
    "else:\n",
    "    print(f\"{key_to_check} not found in the dictionary.\")"
   ]
  },
  {
   "cell_type": "code",
   "execution_count": 84,
   "id": "f8d0e1b5-0744-4ca1-bcfe-ec4586cf7617",
   "metadata": {},
   "outputs": [
    {
     "name": "stdin",
     "output_type": "stream",
     "text": [
      "Enter the name of the person to check:  Ram\n"
     ]
    },
    {
     "name": "stdout",
     "output_type": "stream",
     "text": [
      "Ram is exists in a dictionary.\n"
     ]
    }
   ],
   "source": [
    "# Solution 3: Using Function\n",
    "def Check_key(people):\n",
    "    key_to_check = input(\"Enter the name of the person to check: \")\n",
    "    # Check if the key exists using iteration\n",
    "    found = False\n",
    "    for key in people:\n",
    "        if key == key_to_check:\n",
    "            found = True\n",
    "            print(f\"{key_to_check} is exists in a dictionary.\")\n",
    "            break\n",
    "    else:\n",
    "        print(f\"{key_to_check} not found in the dictionary.\")\n",
    "\n",
    "# Calling Function\n",
    "Check_key({'Aish': 20, 'Raj': 25, 'Seeta': 10, 'Ram': 66, 'Shyam': 52})"
   ]
  },
  {
   "cell_type": "code",
   "execution_count": 86,
   "id": "ca4a67c4-58ea-4ec0-a18e-7dca6d88dc13",
   "metadata": {},
   "outputs": [
    {
     "name": "stdout",
     "output_type": "stream",
     "text": [
      "dict_keys(['Aish', 'Raj', 'Seeta', 'Ram', 'Shyam'])\n",
      "dict_values([20, 25, 10, 66, 52])\n"
     ]
    }
   ],
   "source": [
    "### 6. Write a program that prints all keys and values in a dictionary.\n",
    "# Usind keys() and values()\n",
    "people = {'Aish': 20, 'Raj': 25, 'Seeta': 10, 'Ram': 66, 'Shyam': 52}\n",
    "print(people.keys())\n",
    "print(people.values())"
   ]
  },
  {
   "cell_type": "code",
   "execution_count": 92,
   "id": "b6eb50a1-4dd9-44a5-bf8d-996fdbe88c2f",
   "metadata": {},
   "outputs": [
    {
     "name": "stdout",
     "output_type": "stream",
     "text": [
      "Key : Value\n",
      "Aish: 20\n",
      "Key : Value\n",
      "Raj: 25\n",
      "Key : Value\n",
      "Seeta: 10\n",
      "Key : Value\n",
      "Ram: 66\n",
      "Key : Value\n",
      "Shyam: 52\n"
     ]
    }
   ],
   "source": [
    "# Solution 2: Using Iteration\n",
    "people = {'Aish': 20, 'Raj': 25, 'Seeta': 10, 'Ram': 66, 'Shyam': 52}\n",
    "for key, value in people.items():\n",
    "    print('Key : Value')\n",
    "    print(f\"{key}: {value}\")"
   ]
  },
  {
   "cell_type": "code",
   "execution_count": 93,
   "id": "6cf5789c-49ea-4e48-9ac2-bb5bf1d29269",
   "metadata": {},
   "outputs": [
    {
     "name": "stdout",
     "output_type": "stream",
     "text": [
      "Keys:  dict_keys(['Aish', 'Raj', 'Seeta', 'Ram', 'Shyam'])\n",
      "Values:  dict_values([20, 25, 10, 66, 52])\n"
     ]
    }
   ],
   "source": [
    "# Solution 3: Using Function\n",
    "def all_key_value(people):\n",
    "    key = people.keys()\n",
    "    value = people.values()\n",
    "    print('Keys: ', key)\n",
    "    print('Values: ', value)\n",
    "\n",
    "# Calling Function\n",
    "all_key_value({'Aish': 20, 'Raj': 25, 'Seeta': 10, 'Ram': 66, 'Shyam': 52})"
   ]
  },
  {
   "cell_type": "code",
   "execution_count": 96,
   "id": "76b196b1-bf9d-4586-b5b5-e50d78817165",
   "metadata": {},
   "outputs": [
    {
     "name": "stdout",
     "output_type": "stream",
     "text": [
      "5\n"
     ]
    }
   ],
   "source": [
    "### 7. Write a program that finds and prints the number of key-value pairs in a dictionary.\n",
    "# Solution 1: Using len()\n",
    "people = {'Aish': 20, 'Raj': 25, 'Seeta': 10, 'Ram': 66, 'Shyam': 52}\n",
    "num_pairs = len(people)\n",
    "print(num_pairs)"
   ]
  },
  {
   "cell_type": "code",
   "execution_count": 98,
   "id": "fb52c8cc-bafa-46b0-bdd5-4de2e83d2c56",
   "metadata": {},
   "outputs": [
    {
     "name": "stdout",
     "output_type": "stream",
     "text": [
      "The number of key-value pairs in the dictionary is: 6\n"
     ]
    }
   ],
   "source": [
    "# Solution 2: Using count\n",
    "people = {'Aish': 20, 'Raj': 25, 'Seeta': 10, 'Ram': 66, 'Shyam': 52, 'Riya': 56}\n",
    "count = 0\n",
    "for key in people:\n",
    "    count += 1\n",
    "print(f\"The number of key-value pairs in the dictionary is: {count}\")"
   ]
  },
  {
   "cell_type": "code",
   "execution_count": 99,
   "id": "23a7a13e-ee4f-40af-8acd-1d9559b0877f",
   "metadata": {},
   "outputs": [
    {
     "data": {
      "text/plain": [
       "6"
      ]
     },
     "execution_count": 99,
     "metadata": {},
     "output_type": "execute_result"
    }
   ],
   "source": [
    "# Solution 4: Using Function\n",
    "def count_people(people):\n",
    "    num_pair = len(people)\n",
    "    return num_pair\n",
    "\n",
    "# Calling Function\n",
    "count_people({'Aish': 20, 'Raj': 25, 'Seeta': 10, 'Ram': 66, 'Shyam': 52, 'Riya': 56})"
   ]
  },
  {
   "cell_type": "code",
   "execution_count": 100,
   "id": "e62e4824-d437-4ac0-8ceb-8813bf29528d",
   "metadata": {},
   "outputs": [
    {
     "name": "stdout",
     "output_type": "stream",
     "text": [
      "{'Sahu': 20, 'Gupta': 25, 'Mishra': 10, 'Jain': 66, 'Sharma': 52, 'Mandloi': 56, 'Aish': 20, 'Raj': 25, 'Seeta': 10, 'Ram': 66, 'Shyam': 52, 'Riya': 56}\n"
     ]
    }
   ],
   "source": [
    "### 8. Write a program that merges two dictionaries into one.\n",
    "# Solution 1: Using update()\n",
    "people1 = {'Aish': 20, 'Raj': 25, 'Seeta': 10, 'Ram': 66, 'Shyam': 52, 'Riya': 56}\n",
    "people2 = {'Sahu': 20, 'Gupta': 25, 'Mishra': 10, 'Jain': 66, 'Sharma': 52, 'Mandloi': 56}\n",
    "people2.update(people1)\n",
    "print(people2)"
   ]
  },
  {
   "cell_type": "code",
   "execution_count": 101,
   "id": "dc52905f-1007-4beb-afa3-b3993b32ebca",
   "metadata": {},
   "outputs": [
    {
     "name": "stdout",
     "output_type": "stream",
     "text": [
      "{'Aish': 20, 'Raj': 25, 'Seeta': 10, 'Ram': 66, 'Shyam': 52, 'Riya': 56, 'Sahu': 20, 'Gupta': 25, 'Mishra': 10, 'Jain': 66, 'Sharma': 52, 'Mandloi': 56}\n"
     ]
    }
   ],
   "source": [
    "# Solution 2: merge dict using a expression\n",
    "people1 = {'Aish': 20, 'Raj': 25, 'Seeta': 10, 'Ram': 66, 'Shyam': 52, 'Riya': 56}\n",
    "people2 = {'Sahu': 20, 'Gupta': 25, 'Mishra': 10, 'Jain': 66, 'Sharma': 52, 'Mandloi': 56}\n",
    "person = {**people1, **people2}\n",
    "print(person)"
   ]
  },
  {
   "cell_type": "code",
   "execution_count": 104,
   "id": "62f5ff19-4532-4b75-92d2-a4e5114a75e4",
   "metadata": {},
   "outputs": [
    {
     "name": "stdout",
     "output_type": "stream",
     "text": [
      "{'Aish': 20, 'Raj': 25, 'Seeta': 10, 'Ram': 66, 'Shyam': 52, 'Riya': 56, 'Sahu': 20, 'Gupta': 25, 'Mishra': 10, 'Jain': 66, 'Sharma': 52, 'Mandloi': 56}\n"
     ]
    }
   ],
   "source": [
    "# Solution 3: Using loop\n",
    "people1 = {'Aish': 20, 'Raj': 25, 'Seeta': 10, 'Ram': 66, 'Shyam': 52, 'Riya': 56}\n",
    "people2 = {'Sahu': 20, 'Gupta': 25, 'Mishra': 10, 'Jain': 66, 'Sharma': 52, 'Mandloi': 56}\n",
    "for i in people2.keys():\n",
    "    people1[i] = people2[i]\n",
    "print(people1)"
   ]
  },
  {
   "cell_type": "code",
   "execution_count": 106,
   "id": "37827e7b-5fe5-4722-b3bd-a40b532f7255",
   "metadata": {},
   "outputs": [
    {
     "name": "stdout",
     "output_type": "stream",
     "text": [
      "{'Aish': 20, 'Raj': 25, 'Seeta': 10, 'Ram': 66, 'Shyam': 52, 'Riya': 56, 'Sahu': 20, 'Gupta': 25, 'Mishra': 10, 'Jain': 66, 'Sharma': 52, 'Mandloi': 56}\n"
     ]
    }
   ],
   "source": [
    "# Solution 4: Using Function\n",
    "def Merge(people1, people2):\n",
    "    for i in people2.keys():\n",
    "        people1[i]=people2[i]\n",
    "    return people1\n",
    "    \n",
    "# Driver code\n",
    "people1 = {'Aish': 20, 'Raj': 25, 'Seeta': 10, 'Ram': 66, 'Shyam': 52, 'Riya': 56}\n",
    "people2 = {'Sahu': 20, 'Gupta': 25, 'Mishra': 10, 'Jain': 66, 'Sharma': 52, 'Mandloi': 56}\n",
    "people3 = Merge(people1, people2)\n",
    "print(people3)"
   ]
  },
  {
   "cell_type": "code",
   "execution_count": 107,
   "id": "e56c6545-a96f-4e72-9cec-d80997255e60",
   "metadata": {},
   "outputs": [
    {
     "name": "stdout",
     "output_type": "stream",
     "text": [
      "dict_keys(['Aish', 'Raj', 'Seeta', 'Ram', 'Shyam', 'Riya'])\n"
     ]
    }
   ],
   "source": [
    "### 9. Write a program that returns a list of all keys in a dictionary.\n",
    "# Solution 1: Using keys()\n",
    "people1 = {'Aish': 20, 'Raj': 25, 'Seeta': 10, 'Ram': 66, 'Shyam': 52, 'Riya': 56}\n",
    "print(people1.keys())"
   ]
  },
  {
   "cell_type": "code",
   "execution_count": 110,
   "id": "62c6be8b-8709-423d-a09d-258347cc7935",
   "metadata": {},
   "outputs": [
    {
     "name": "stdout",
     "output_type": "stream",
     "text": [
      "Aish\n",
      "Raj\n",
      "Seeta\n",
      "Ram\n",
      "Shyam\n",
      "Riya\n"
     ]
    }
   ],
   "source": [
    "# Solution 2: Using Iteration\n",
    "people1 = {'Aish': 20, 'Raj': 25, 'Seeta': 10, 'Ram': 66, 'Shyam': 52, 'Riya': 56}\n",
    "for key in people1:\n",
    "    print(key)"
   ]
  },
  {
   "cell_type": "code",
   "execution_count": 111,
   "id": "c735fd60-6500-4059-b0eb-ff9ed47b5190",
   "metadata": {},
   "outputs": [
    {
     "data": {
      "text/plain": [
       "dict_keys(['Aish', 'Raj', 'Seeta', 'Ram', 'Shyam', 'Riya'])"
      ]
     },
     "execution_count": 111,
     "metadata": {},
     "output_type": "execute_result"
    }
   ],
   "source": [
    "# Solution 3: Using Function\n",
    "def all_keys(people):\n",
    "    keys = people.keys()\n",
    "    return keys\n",
    "\n",
    "# Calling Function\n",
    "all_keys({'Aish': 20, 'Raj': 25, 'Seeta': 10, 'Ram': 66, 'Shyam': 52, 'Riya': 56})"
   ]
  },
  {
   "cell_type": "code",
   "execution_count": 114,
   "id": "f4fa5159-5170-492e-8edf-3d7744c9e230",
   "metadata": {},
   "outputs": [
    {
     "name": "stdout",
     "output_type": "stream",
     "text": [
      "dict_values([20, 25, 10, 66, 52, 56])\n"
     ]
    }
   ],
   "source": [
    "### 10. Write a program that returns a list of all values in a dictionary.\n",
    "# Solution 1: Using values()\n",
    "people1 = {'Aish': 20, 'Raj': 25, 'Seeta': 10, 'Ram': 66, 'Shyam': 52, 'Riya': 56}\n",
    "print(people1.values())"
   ]
  },
  {
   "cell_type": "code",
   "execution_count": 119,
   "id": "1e7e6d37-05b7-4954-b260-766a0f341abb",
   "metadata": {},
   "outputs": [
    {
     "name": "stdout",
     "output_type": "stream",
     "text": [
      "20\n",
      "25\n",
      "10\n",
      "66\n",
      "52\n",
      "56\n"
     ]
    }
   ],
   "source": [
    "# Solution 2: Using Iteration\n",
    "people1 = {'Aish': 20, 'Raj': 25, 'Seeta': 10, 'Ram': 66, 'Shyam': 52, 'Riya': 56}\n",
    "for key, value in people1.items():\n",
    "    print(value)"
   ]
  },
  {
   "cell_type": "code",
   "execution_count": 121,
   "id": "07379c4a-6726-4c0d-b77e-3ee7bbb596d9",
   "metadata": {},
   "outputs": [
    {
     "data": {
      "text/plain": [
       "dict_values([20, 25, 10, 66, 52, 56])"
      ]
     },
     "execution_count": 121,
     "metadata": {},
     "output_type": "execute_result"
    }
   ],
   "source": [
    "# Solution 3: Using funtion\n",
    "def all_values(people):\n",
    "    value = people.values()\n",
    "    return value\n",
    "\n",
    "# Calling Function\n",
    "all_values({'Aish': 20, 'Raj': 25, 'Seeta': 10, 'Ram': 66, 'Shyam': 52, 'Riya': 56})"
   ]
  }
 ],
 "metadata": {
  "kernelspec": {
   "display_name": "Python 3 (ipykernel)",
   "language": "python",
   "name": "python3"
  },
  "language_info": {
   "codemirror_mode": {
    "name": "ipython",
    "version": 3
   },
   "file_extension": ".py",
   "mimetype": "text/x-python",
   "name": "python",
   "nbconvert_exporter": "python",
   "pygments_lexer": "ipython3",
   "version": "3.12.4"
  }
 },
 "nbformat": 4,
 "nbformat_minor": 5
}
