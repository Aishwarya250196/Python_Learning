{
 "cells": [
  {
   "cell_type": "code",
   "execution_count": 8,
   "id": "1e969374-23e1-4701-b01c-6023f1256205",
   "metadata": {},
   "outputs": [
    {
     "name": "stdout",
     "output_type": "stream",
     "text": [
      "{'apple': 3, 'banana': 2, 'orange': 1}\n"
     ]
    }
   ],
   "source": [
    "### 1. Write a function that counts the frequency of items in a list and stores the result in a dictionary.\n",
    "# Solution 1: Using Iteration\n",
    "item_list = ['apple', 'banana', 'orange', 'apple', 'banana', 'apple']\n",
    "count = 0\n",
    "frequency = {}\n",
    "for item in item_list:\n",
    "    if item in frequency:\n",
    "        frequency[item] += 1\n",
    "    else: \n",
    "        frequency[item] = 1\n",
    "\n",
    "print(frequency)"
   ]
  },
  {
   "cell_type": "code",
   "execution_count": 13,
   "id": "2b282502-6c38-4417-9a90-bcfd2ee977a8",
   "metadata": {},
   "outputs": [
    {
     "data": {
      "text/plain": [
       "{'apple': 3, 'banana': 2, 'orange': 1}"
      ]
     },
     "execution_count": 13,
     "metadata": {},
     "output_type": "execute_result"
    }
   ],
   "source": [
    "# Solution 2: Using Function\n",
    "def count_frequency(item_list):\n",
    "    count = 0\n",
    "    frequency = {}\n",
    "    for item in item_list:\n",
    "        if item in frequency:\n",
    "            frequency[item] += 1\n",
    "        else: \n",
    "            frequency[item] = 1\n",
    "    \n",
    "    return frequency\n",
    "\n",
    "# Calling Function\n",
    "count_frequency(['apple', 'banana', 'orange', 'apple', 'banana', 'apple'])"
   ]
  },
  {
   "cell_type": "code",
   "execution_count": 27,
   "id": "9a9bde55-e21a-4881-810e-9d68f4f83819",
   "metadata": {},
   "outputs": [
    {
     "name": "stdout",
     "output_type": "stream",
     "text": [
      "Dictionary after swapping is :  \n",
      "keys: values\n",
      "67  :   A\n",
      "Dictionary after swapping is :  \n",
      "keys: values\n",
      "23  :   B\n",
      "Dictionary after swapping is :  \n",
      "keys: values\n",
      "45  :   C\n",
      "Dictionary after swapping is :  \n",
      "keys: values\n",
      "56  :   D\n",
      "Dictionary after swapping is :  \n",
      "keys: values\n",
      "12  :   E\n",
      "Dictionary after swapping is :  \n",
      "keys: values\n",
      "69  :   F\n",
      "Dictionary after swapping is :  \n",
      "keys: values\n",
      "67  :   G\n",
      "Dictionary after swapping is :  \n",
      "keys: values\n",
      "23  :   H\n"
     ]
    }
   ],
   "source": [
    "### 2. Write a function that takes a dictionary and inverts it, swapping keys and values.\n",
    "# Solution 1: Swap of key and value \n",
    "old_dict = {'A': 67, 'B': 23, 'C': 45, 'D': 56, 'E': 12, 'F': 69, 'G': 67, 'H': 23}\n",
    "for key, value in old_dict.items():\n",
    "    new_dict = dict([(value, key) ])\n",
    "    #print(new_dict)\n",
    "\n",
    "    # Printing new dictionary after swapping keys and values\n",
    "    print (\"Dictionary after swapping is :  \") \n",
    "    print(\"keys: values\")\n",
    "    for i in new_dict:\n",
    "        print(i, \" :  \", new_dict[i])"
   ]
  },
  {
   "cell_type": "code",
   "execution_count": 29,
   "id": "db318712-0ddf-4b08-9f7f-a13843991e21",
   "metadata": {},
   "outputs": [
    {
     "name": "stdout",
     "output_type": "stream",
     "text": [
      "Dictionary after swapping is :  \n",
      "keys: values\n",
      "67  : ['A', 'G']\n",
      "23  : ['B', 'H']\n",
      "45  : ['C']\n",
      "12  : ['E']\n",
      "69  : ['F']\n"
     ]
    }
   ],
   "source": [
    "# Solution 2: \n",
    "old_dict = {'A': 67, 'B': 23, 'C': 45, 'E': 12, 'F': 69, 'G': 67, 'H': 23}\n",
    "new_dict = {}\n",
    "for key, value in old_dict.items():\n",
    "   if value in new_dict:\n",
    "       new_dict[value].append(key)\n",
    "   else:\n",
    "       new_dict[value]=[key]\n",
    " \n",
    "# Printing new dictionary after swapping\n",
    "# keys and values\n",
    "print (\"Dictionary after swapping is :  \") \n",
    "print(\"keys: values\")\n",
    "for i in new_dict:\n",
    "    print(i, \" :\", new_dict[i])"
   ]
  },
  {
   "cell_type": "code",
   "execution_count": 30,
   "id": "1e7843b1-ee8e-44fc-8555-5c0173ade47b",
   "metadata": {},
   "outputs": [
    {
     "name": "stdout",
     "output_type": "stream",
     "text": [
      "Dictionary after swapping is :  \n",
      "keys: values\n",
      "67  : ['A', 'G']\n",
      "23  : ['B', 'H']\n",
      "45  : ['C']\n",
      "12  : ['E']\n",
      "69  : ['F']\n"
     ]
    }
   ],
   "source": [
    "# Solution 3: Using Function\n",
    "def swapping_key_value(old_dict):\n",
    "    new_dict = {}\n",
    "    for key, value in old_dict.items():\n",
    "        if value in new_dict:\n",
    "            new_dict[value].append(key)\n",
    "        else:\n",
    "            new_dict[value]=[key]\n",
    "\n",
    "    # Printing new dictionary after swapping\n",
    "    # keys and values\n",
    "    print (\"Dictionary after swapping is :  \") \n",
    "    print(\"keys: values\")\n",
    "    for i in new_dict:\n",
    "        print(i, ' :' , new_dict[i])\n",
    "\n",
    "# Calling Function\n",
    "swapping_key_value({'A': 67, 'B': 23, 'C': 45, 'E': 12, 'F': 69, 'G': 67, 'H': 23})"
   ]
  },
  {
   "cell_type": "code",
   "execution_count": 44,
   "id": "d4fc1962-1a41-4109-88b9-4f62161147d6",
   "metadata": {},
   "outputs": [
    {
     "name": "stdout",
     "output_type": "stream",
     "text": [
      "{1: [(1, 'a'), (1, 'c')], 2: [(2, 'b'), (2, 'd')], 3: [(3, 'e')]}\n"
     ]
    }
   ],
   "source": [
    "### 3. Write a program that groups a list of tuples by the first element using a dictionary.\n",
    "# Solution 1: Using Iteration\n",
    "tuples_list = [(1, 'a'), (2, 'b'), (1, 'c'), (2, 'd'), (3, 'e')]\n",
    "grouped_dict = {}\n",
    "\n",
    "for tup in tuples_list:\n",
    "    key = tup[0]  # Get the first element as the key\n",
    "    if key not in grouped_dict:\n",
    "        grouped_dict[key] = []  # Initialize a new list if key doesn't exist\n",
    "    grouped_dict[key].append(tup)  # Append the tuple to the corresponding list\n",
    "    \n",
    "print(grouped_dict)\n"
   ]
  },
  {
   "cell_type": "code",
   "execution_count": 46,
   "id": "63df3fd5-8a9b-4e29-8848-a3dfa811f400",
   "metadata": {},
   "outputs": [
    {
     "data": {
      "text/plain": [
       "{1: [(1, 'a'), (1, 'c')], 2: [(2, 'b'), (2, 'd')], 3: [(3, 'e')]}"
      ]
     },
     "execution_count": 46,
     "metadata": {},
     "output_type": "execute_result"
    }
   ],
   "source": [
    "# Solution 2: Using Function\n",
    "def group_tuples(tuples_list):\n",
    "    grouped_dict = {}\n",
    "    \n",
    "    for tup in tuples_list:\n",
    "        key = tup[0]  # Get the first element as the key\n",
    "        if key not in grouped_dict:\n",
    "            grouped_dict[key] = []  # Initialize a new list if key doesn't exist\n",
    "        grouped_dict[key].append(tup)  # Append the tuple to the corresponding list\n",
    "    \n",
    "    return grouped_dict\n",
    "\n",
    "# Calling Function\n",
    "group_tuples([(1, 'a'), (2, 'b'), (1, 'c'), (2, 'd'), (3, 'e')])"
   ]
  },
  {
   "cell_type": "code",
   "execution_count": 50,
   "id": "567b98e3-46d9-4b33-9da8-7644f68e81e5",
   "metadata": {},
   "outputs": [
    {
     "name": "stdout",
     "output_type": "stream",
     "text": [
      "F\n"
     ]
    }
   ],
   "source": [
    "### 4. Write a function that finds and returns the key associated with the maximum value in a dictionary.\n",
    "# Solution 1: Using max()\n",
    "old_dict = {'A': 67, 'B': 23, 'C': 45, 'E': 12, 'F': 69, 'G': 67, 'H': 23}\n",
    "result = max(old_dict, key=old_dict.get)\n",
    "print(result)"
   ]
  },
  {
   "cell_type": "code",
   "execution_count": 55,
   "id": "f69c7f29-8cf2-4dfd-bb0e-619e32dc5d94",
   "metadata": {},
   "outputs": [
    {
     "name": "stdout",
     "output_type": "stream",
     "text": [
      "E\n"
     ]
    }
   ],
   "source": [
    "# Solution 2: Using Iteration\n",
    "old_dict = {'A': 67, 'B': 23, 'C': 45, 'E': 100, 'F': 69, 'G': 67, 'H': 23}\n",
    "largest_value = int()\n",
    "largest_key = ''\n",
    "for key, value in old_dict.items():\n",
    "    if value > largest_value:\n",
    "        largest_value = value\n",
    "        largest_key = key\n",
    "\n",
    "print(largest_key)"
   ]
  },
  {
   "cell_type": "code",
   "execution_count": 56,
   "id": "5c54e906-2437-450d-9230-9e277b02fc8c",
   "metadata": {},
   "outputs": [
    {
     "data": {
      "text/plain": [
       "'E'"
      ]
     },
     "execution_count": 56,
     "metadata": {},
     "output_type": "execute_result"
    }
   ],
   "source": [
    "# Solution 3: Using Function\n",
    "def max_key(old_dict):\n",
    "    maximum = max(old_dict, key = old_dict.get)\n",
    "    return maximum\n",
    "\n",
    "# Calling Function\n",
    "max_key({'A': 67, 'B': 23, 'C': 45, 'E': 100, 'F': 69, 'G': 67, 'H': 23})"
   ]
  },
  {
   "cell_type": "code",
   "execution_count": 70,
   "id": "9cde4037-a6a0-4ba9-8b0f-1cbd41c07257",
   "metadata": {},
   "outputs": [
    {
     "name": "stdout",
     "output_type": "stream",
     "text": [
      "[('b', 5), ('a', 10), ('d', 15), ('c', 20)]\n"
     ]
    }
   ],
   "source": [
    "### 5. Write a program that sorts a dictionary by its values and returns a sorted list of tuples.\n",
    "# Solution 1: Using Insertion Sort\n",
    "data = {'a': 10, 'b': 5, 'c': 20, 'd': 15}\n",
    "\n",
    "# Create a list of tuples from the dictionary\n",
    "items = [(key, value) for key, value in data.items()]\n",
    "\n",
    "# Insertion sort\n",
    "for i in range(1, len(items)):\n",
    "    key_item = items[i]\n",
    "    j = i - 1\n",
    "    \n",
    "    while j >= 0 and key_item[1] < items[j][1]:  # Compare values\n",
    "        items[j + 1] = items[j]  # Shift the larger item to the right\n",
    "        j -= 1\n",
    "\n",
    "    items[j + 1] = key_item  # Insert the key_item in the correct position\n",
    "\n",
    "print(items)  # Output: [('b', 5), ('a', 10), ('d', 15), ('c', 20)]\n"
   ]
  },
  {
   "cell_type": "code",
   "execution_count": 78,
   "id": "854f05c1-424b-452d-9829-aa34afa70770",
   "metadata": {},
   "outputs": [
    {
     "name": "stdout",
     "output_type": "stream",
     "text": [
      "[('b', 5), ('a', 10), ('d', 15), ('c', 20)]\n"
     ]
    }
   ],
   "source": [
    "# Solution 2: Using Selection Sort\n",
    "data = {'a': 10, 'b': 5, 'c': 20, 'd': 15}\n",
    "items = [(key, value) for key, value in data.items()]\n",
    "    \n",
    "for i in range(len(items)):\n",
    "    min_index = i\n",
    "    \n",
    "    for j in range(i + 1, len(items)):\n",
    "        if items[j][1] < items[min_index][1]:  # Compare values\n",
    "            min_index = j\n",
    "    \n",
    "    # Swap the found minimum item with the first item\n",
    "    items[i], items[min_index] = items[min_index], items[i]\n",
    "    \n",
    "print(items)\n",
    "\n"
   ]
  },
  {
   "cell_type": "code",
   "execution_count": 79,
   "id": "4f929825-a725-45f1-b677-8cc38ccd40f2",
   "metadata": {},
   "outputs": [
    {
     "data": {
      "text/plain": [
       "[('b', 5), ('a', 10), ('c', 20), ('d', 15)]"
      ]
     },
     "execution_count": 79,
     "metadata": {},
     "output_type": "execute_result"
    }
   ],
   "source": [
    "# Solution 3: Using Functionl\n",
    "def sort_dict(data):\n",
    "    items = [(key, value) for key, value in data.items()]\n",
    "    \n",
    "    for i in range(len(items)):\n",
    "        min_index = i\n",
    "        \n",
    "        for j in range(i + 1, len(items)):\n",
    "            if items[j][1] < items[min_index][1]:  # Compare values\n",
    "                min_index = j\n",
    "        \n",
    "        # Swap the found minimum item with the first item\n",
    "        items[i], items[min_index] = items[min_index], items[i]\n",
    "        return items\n",
    "\n",
    "# Calling Function\n",
    "sort_dict({'a': 10, 'b': 5, 'c': 20, 'd': 15})"
   ]
  },
  {
   "cell_type": "code",
   "execution_count": 81,
   "id": "25a41a98-d0f2-468e-a75a-9b93744b1b6b",
   "metadata": {},
   "outputs": [
    {
     "name": "stdout",
     "output_type": "stream",
     "text": [
      "{'a': 10, 'b': 20, 'c': 25, 'd': 10}\n"
     ]
    }
   ],
   "source": [
    "### 6. Write a function that combines two dictionaries, adding values for common keys.\n",
    "# Solution 1: Using Iteration\n",
    "dict_a = {'a': 10, 'b': 5, 'c': 20}\n",
    "dict_b = {'b': 15, 'c': 5, 'd': 10}\n",
    "combine_dict = dict_a.copy()\n",
    "for key, value in dict_b.items():\n",
    "    if key in combine_dict:\n",
    "        combine_dict[key] += value\n",
    "    else:\n",
    "        combine_dict[key] = value\n",
    "\n",
    "print(combine_dict)\n"
   ]
  },
  {
   "cell_type": "code",
   "execution_count": 83,
   "id": "a1ebe6d6-483d-4fa9-ae0a-b694e372d156",
   "metadata": {},
   "outputs": [
    {
     "data": {
      "text/plain": [
       "{'a': 10, 'b': 20, 'c': 25, 'd': 10}"
      ]
     },
     "execution_count": 83,
     "metadata": {},
     "output_type": "execute_result"
    }
   ],
   "source": [
    "# Solution 2: Using Function\n",
    "def combine_dict(dict_a, dict_b):\n",
    "    combine_dict = dict_a.copy()\n",
    "    for key, value in dict_b.items():\n",
    "        if key in combine_dict:\n",
    "            combine_dict[key] += value\n",
    "        else:\n",
    "            combine_dict[key] = value\n",
    "\n",
    "    return combine_dict\n",
    "\n",
    "# Calling Function\n",
    "combine_dict({'a': 10, 'b': 5, 'c': 20}, {'b': 15, 'c': 5, 'd': 10})"
   ]
  },
  {
   "cell_type": "code",
   "execution_count": 90,
   "id": "899732ce-8584-49fb-adca-dcba05002386",
   "metadata": {},
   "outputs": [
    {
     "name": "stdout",
     "output_type": "stream",
     "text": [
      "{'a': 10, 'c': 20}\n"
     ]
    }
   ],
   "source": [
    "### 7. Write a program that removes all keys from a dictionary that have a specified value.\n",
    "# Solution 1: Using Iteration\n",
    "dict_a = {'a': 10, 'b': 5, 'c': 20}\n",
    "specified_value = 5\n",
    "updated_dict = {}\n",
    "\n",
    "for key, value in dict_a.items():\n",
    "    if value != specified_value:\n",
    "        updated_dict[key] = value  # Add key-value pair if value doesn't match\n",
    "\n",
    "print(updated_dict)\n"
   ]
  },
  {
   "cell_type": "code",
   "execution_count": 115,
   "id": "6dffffc5-79b4-466e-a3d7-26e2cdee9d59",
   "metadata": {},
   "outputs": [
    {
     "name": "stdout",
     "output_type": "stream",
     "text": [
      "{'a': 10, 'c': 20, 'd': 100, 'e': 1}\n"
     ]
    }
   ],
   "source": [
    "# Solution 2: Using pop\n",
    "dict_a = {'a': 10, 'b': 5, 'c': 20, 'd': 100, 'e': 1}\n",
    "specified_value = 5\n",
    "\n",
    "keys_to_remove = []\n",
    "\n",
    "for key, value in dict_a.items():\n",
    "    if value == specified_value:\n",
    "        keys_to_remove.append(key)  # Add the key to the list if the value matches\n",
    "\n",
    "# Now you can remove the keys from the original dictionary\n",
    "for key in keys_to_remove:\n",
    "    dict_a.pop(key)\n",
    "\n",
    "print(dict_a)\n"
   ]
  },
  {
   "cell_type": "code",
   "execution_count": 118,
   "id": "68d69e84-c953-47e9-b6db-4a264670b23d",
   "metadata": {},
   "outputs": [
    {
     "name": "stdout",
     "output_type": "stream",
     "text": [
      "{'a': 10, 'b': 5, 'd': 100, 'e': 1}\n"
     ]
    }
   ],
   "source": [
    "# Solution 3: Using del\n",
    "dict_a = {'a': 10, 'b': 5, 'c': 20, 'd': 100, 'e': 1}\n",
    "specified_value = 20\n",
    "\n",
    "keys_to_remove = []\n",
    "\n",
    "for key, value in dict_a.items():\n",
    "    if value == specified_value:\n",
    "        keys_to_remove.append(key)  # Add the key to the list if the value matches\n",
    "\n",
    "# Now you can remove the keys from the original dictionary\n",
    "for key in keys_to_remove:\n",
    "    del dict_a[key]\n",
    "\n",
    "print(dict_a)"
   ]
  },
  {
   "cell_type": "code",
   "execution_count": 119,
   "id": "2e47f058-82a5-438a-98ac-d4ab0aeeda75",
   "metadata": {},
   "outputs": [
    {
     "data": {
      "text/plain": [
       "{'a': 10, 'b': 5, 'd': 100, 'e': 1}"
      ]
     },
     "execution_count": 119,
     "metadata": {},
     "output_type": "execute_result"
    }
   ],
   "source": [
    "# Solution 4: Using Function\n",
    "def remove_key(dict_a, specified_value):\n",
    "    keys_to_remove = []\n",
    "    \n",
    "    for key, value in dict_a.items():\n",
    "        if value == specified_value:\n",
    "            keys_to_remove.append(key)  # Add the key to the list if the value matches\n",
    "    \n",
    "    # Now you can remove the keys from the original dictionary\n",
    "    for key in keys_to_remove:\n",
    "        del dict_a[key]\n",
    "    return dict_a\n",
    "\n",
    "# Calling Function \n",
    "remove_key({'a': 10, 'b': 5, 'c': 20, 'd': 100, 'e': 1}, 20)"
   ]
  },
  {
   "cell_type": "code",
   "execution_count": 121,
   "id": "a3793c8d-8611-410d-b406-572fe8925d7e",
   "metadata": {},
   "outputs": [
    {
     "name": "stdout",
     "output_type": "stream",
     "text": [
      "{'a': 10, 'b': 0, 'c': 20, 'd': 15}\n"
     ]
    }
   ],
   "source": [
    "### 8. Write a function that updates the values in a dictionary based on a specified condition.\n",
    "# Solution 1: \n",
    "dict_data = {'a': 10, 'b': 5, 'c': 20, 'd': 15}\n",
    "\n",
    "# Condition: Check if the value is less than 10\n",
    "for key, value in dict_data.items():\n",
    "    if value < 10:  # Condition to check\n",
    "        dict_data[key] = 0  # Update the value\n",
    "\n",
    "print(dict_data)  # Output: {'a': 10, 'b': 0, 'c': 20, 'd': 15}"
   ]
  },
  {
   "cell_type": "code",
   "execution_count": 124,
   "id": "e5138b22-51d7-48d6-abbd-48eda27ef391",
   "metadata": {},
   "outputs": [
    {
     "name": "stdout",
     "output_type": "stream",
     "text": [
      "{'a': 10, 'b': 0, 'c': 20, 'd': 15}\n"
     ]
    }
   ],
   "source": [
    "# Solution 2: Using a List of Keys to Update# Example dictionary\n",
    "dict_data = {'a': 10, 'b': 5, 'c': 20, 'd': 15}\n",
    "keys_to_update = []\n",
    "\n",
    "for key, value in dict_data.items():\n",
    "    if value < 10:\n",
    "        keys_to_update.append(key)\n",
    "\n",
    "# Update the values for the identified keys\n",
    "for key in keys_to_update:\n",
    "    dict_data[key] = 0  # Update to the new value\n",
    "\n",
    "print(dict_data)\n"
   ]
  },
  {
   "cell_type": "code",
   "execution_count": 127,
   "id": "2366f67b-3961-4c6e-abb3-2e7148b0708a",
   "metadata": {},
   "outputs": [
    {
     "name": "stdout",
     "output_type": "stream",
     "text": [
      "{'a': 10, 'b': 0, 'c': 20, 'd': 15}\n"
     ]
    }
   ],
   "source": [
    "# Solution 3: Using a Temporary Dictionary\n",
    "data_dict = {'a': 10, 'b': 5, 'c': 20, 'd': 15}\n",
    "updated_dict = {}\n",
    "\n",
    "for key, value in data_dict.items():\n",
    "    if value < 10:\n",
    "        updated_dict[key] = 0  # Set new value\n",
    "    else:\n",
    "        updated_dict[key] = value  # Keep original value\n",
    "\n",
    "\n",
    "print(updated_dict)  \n"
   ]
  },
  {
   "cell_type": "code",
   "execution_count": 129,
   "id": "1f7d6fb2-739b-4ea2-9973-d829c94567e7",
   "metadata": {},
   "outputs": [
    {
     "data": {
      "text/plain": [
       "{'a': 0, 'b': 0, 'c': 20, 'd': 0}"
      ]
     },
     "execution_count": 129,
     "metadata": {},
     "output_type": "execute_result"
    }
   ],
   "source": [
    "# Solution 4: Using Function\n",
    "def condition_dict(data_dict):\n",
    "    updated_dict = {}\n",
    "    for key, value in data_dict.items():\n",
    "        if value < 20:\n",
    "            updated_dict[key] = 0\n",
    "        else:\n",
    "            updated_dict[key] = value\n",
    "    return updated_dict\n",
    "\n",
    "# Calling Function\n",
    "condition_dict({'a': 10, 'b': 5, 'c': 20, 'd': 15})"
   ]
  },
  {
   "cell_type": "code",
   "execution_count": 134,
   "id": "2e86a21e-7596-4f33-a069-110066af4654",
   "metadata": {},
   "outputs": [
    {
     "name": "stdout",
     "output_type": "stream",
     "text": [
      "{'b': (5, 15), 'c': (20, 5)}\n"
     ]
    }
   ],
   "source": [
    "### 9. Write a program that finds and returns the common keys in two dictionaries.\n",
    "# Solution 1: Using Iteration\n",
    "dict_a = {'a': 10, 'b': 5, 'c': 20}\n",
    "dict_b = {'b': 15, 'c': 5, 'd': 10}\n",
    "\n",
    "new_dict = {}\n",
    "\n",
    "for key, value in dict_b.items():\n",
    "    if key in dict_a:\n",
    "        new_dict[key] = (dict_a[key], dict_b[key]) \n",
    "print(new_dict)"
   ]
  },
  {
   "cell_type": "code",
   "execution_count": 135,
   "id": "a6f2868f-fb62-49f2-8f0d-9a104fab0514",
   "metadata": {},
   "outputs": [
    {
     "name": "stdout",
     "output_type": "stream",
     "text": [
      "['b', 'c']\n"
     ]
    }
   ],
   "source": [
    "# Solution 2: Without value\n",
    "dict_a = {'a': 10, 'b': 5, 'c': 20}\n",
    "dict_b = {'b': 15, 'c': 5, 'd': 10}\n",
    "\n",
    "common_keys = []\n",
    "\n",
    "for key in dict_b:\n",
    "    if key in dict_a:\n",
    "        common_keys.append(key) \n",
    "\n",
    "print(common_keys)  \n"
   ]
  },
  {
   "cell_type": "code",
   "execution_count": 136,
   "id": "7c7f22ef-d151-4e3f-8fe9-1919221b1f4f",
   "metadata": {},
   "outputs": [
    {
     "name": "stdout",
     "output_type": "stream",
     "text": [
      "{'b', 'c'}\n"
     ]
    }
   ],
   "source": [
    "# Solution 3: Using Set Intersection\n",
    "dict_a = {'a': 10, 'b': 5, 'c': 20}\n",
    "dict_b = {'b': 15, 'c': 5, 'd': 10}\n",
    "\n",
    "# Using set intersection to find common keys\n",
    "common_keys = set(dict_a.keys()).intersection(dict_b.keys())\n",
    "\n",
    "print(common_keys)\n"
   ]
  },
  {
   "cell_type": "code",
   "execution_count": 137,
   "id": "c215c3d5-896e-49b3-a558-6aabb4aa116d",
   "metadata": {},
   "outputs": [
    {
     "name": "stdout",
     "output_type": "stream",
     "text": [
      "{'b': (5, 15), 'c': (20, 5)}\n"
     ]
    }
   ],
   "source": [
    "# Solution 4: Using Dictionary Comprehension\n",
    "dict_a = {'a': 10, 'b': 5, 'c': 20}\n",
    "dict_b = {'b': 15, 'c': 5, 'd': 10}\n",
    "\n",
    "# Create a new dictionary with common keys\n",
    "common_dict = {key: (dict_a[key], dict_b[key]) for key in dict_a if key in dict_b}\n",
    "\n",
    "print(common_dict)\n"
   ]
  },
  {
   "cell_type": "code",
   "execution_count": 138,
   "id": "48b0f6f4-a653-4e6a-be38-10acae4374f4",
   "metadata": {},
   "outputs": [
    {
     "name": "stdout",
     "output_type": "stream",
     "text": [
      "['b', 'c']\n"
     ]
    }
   ],
   "source": [
    "# Solution 5: Using List Comprehension\n",
    "dict_a = {'a': 10, 'b': 5, 'c': 20}\n",
    "dict_b = {'b': 15, 'c': 5, 'd': 10}\n",
    "\n",
    "# Using list comprehension to find common keys\n",
    "common_keys = [key for key in dict_b if key in dict_a]\n",
    "\n",
    "print(common_keys)\n"
   ]
  },
  {
   "cell_type": "code",
   "execution_count": 139,
   "id": "a716eced-c3dc-41b4-8908-836e5e6d478f",
   "metadata": {},
   "outputs": [
    {
     "name": "stdout",
     "output_type": "stream",
     "text": [
      "['b', 'c']\n"
     ]
    }
   ],
   "source": [
    "# Solution 6: Using set() for Lists\n",
    "dict_a = {'a': 10, 'b': 5, 'c': 20}\n",
    "dict_b = {'b': 15, 'c': 5, 'd': 10}\n",
    "\n",
    "# Convert keys to sets and find intersection\n",
    "common_keys = list(set(dict_a.keys()) & set(dict_b.keys()))\n",
    "\n",
    "print(common_keys)\n"
   ]
  },
  {
   "cell_type": "code",
   "execution_count": 140,
   "id": "b598c0d5-2549-494b-a446-9724eec47230",
   "metadata": {},
   "outputs": [
    {
     "data": {
      "text/plain": [
       "['b', 'c']"
      ]
     },
     "execution_count": 140,
     "metadata": {},
     "output_type": "execute_result"
    }
   ],
   "source": [
    "# Solution 7: Using Function\n",
    "def common_dict_key(dict_a, dict_b):\n",
    "    common_keys = [key for key in dict_b if key in dict_a]\n",
    "    return common_keys\n",
    "\n",
    "# Calling Function\n",
    "common_dict_key({'a': 10, 'b': 5, 'c': 20}, {'b': 15, 'c': 5, 'd': 10})"
   ]
  },
  {
   "cell_type": "code",
   "execution_count": 141,
   "id": "def1f0b3-e549-4cb1-9da7-41fd8bd55064",
   "metadata": {},
   "outputs": [
    {
     "name": "stdout",
     "output_type": "stream",
     "text": [
      "Grandparents\n",
      "    John\n",
      "        Alice\n",
      "        Bob\n",
      "    Mary\n",
      "        Charlie\n"
     ]
    }
   ],
   "source": [
    "### 10. Write a program that creates a nested dictionary to represent a family tree.\n",
    "# Solution 1: Using Family Tree Structure\n",
    "family_tree = {\n",
    "    'Grandparents': {\n",
    "        'Children': {\n",
    "            'John': {\n",
    "                'Children': {\n",
    "                    'Alice': {\n",
    "                        'Children': {}\n",
    "                    },\n",
    "                    'Bob': {\n",
    "                        'Children': {}\n",
    "                    }\n",
    "                }\n",
    "            },\n",
    "            'Mary': {\n",
    "                'Children': {\n",
    "                    'Charlie': {\n",
    "                        'Children': {}\n",
    "                    }\n",
    "                }\n",
    "            }\n",
    "        }\n",
    "    }\n",
    "}\n",
    "\n",
    "# Function to print the family tree\n",
    "def print_family_tree(tree, indent=0):\n",
    "    for member, info in tree.items():\n",
    "        print(' ' * indent + member)\n",
    "        if 'Children' in info and info['Children']:\n",
    "            print_family_tree(info['Children'], indent + 4)\n",
    "\n",
    "# Print the family tree\n",
    "print_family_tree(family_tree)\n"
   ]
  },
  {
   "cell_type": "code",
   "execution_count": 142,
   "id": "6136b560-9e70-4187-963e-51ff4cde048f",
   "metadata": {},
   "outputs": [
    {
     "name": "stdout",
     "output_type": "stream",
     "text": [
      "John (Age: 40, Relationship: father)\n",
      "    Alice (Age: 15, Relationship: daughter)\n",
      "    Bob (Age: 12, Relationship: son)\n",
      "Mary (Age: 38, Relationship: mother)\n",
      "    Charlie (Age: 8, Relationship: son)\n"
     ]
    }
   ],
   "source": [
    "# Solution 2: More Detailed Family Tree with Relationships\n",
    "family_tree = {\n",
    "    'John': {\n",
    "        'age': 40,\n",
    "        'relationship': 'father',\n",
    "        'children': {\n",
    "            'Alice': {\n",
    "                'age': 15,\n",
    "                'relationship': 'daughter',\n",
    "                'children': {}\n",
    "            },\n",
    "            'Bob': {\n",
    "                'age': 12,\n",
    "                'relationship': 'son',\n",
    "                'children': {}\n",
    "            }\n",
    "        }\n",
    "    },\n",
    "    'Mary': {\n",
    "        'age': 38,\n",
    "        'relationship': 'mother',\n",
    "        'children': {\n",
    "            'Charlie': {\n",
    "                'age': 8,\n",
    "                'relationship': 'son',\n",
    "                'children': {}\n",
    "            }\n",
    "        }\n",
    "    }\n",
    "}\n",
    "\n",
    "# Function to print the family tree\n",
    "def print_family_tree(tree, indent=0):\n",
    "    for member, info in tree.items():\n",
    "        print(' ' * indent + f\"{member} (Age: {info['age']}, Relationship: {info['relationship']})\")\n",
    "        if 'children' in info and info['children']:\n",
    "            print_family_tree(info['children'], indent + 4)\n",
    "\n",
    "# Print the family tree\n",
    "print_family_tree(family_tree)\n"
   ]
  },
  {
   "cell_type": "code",
   "execution_count": null,
   "id": "04a7b46e-d31c-4ad5-8d2a-6b5543912468",
   "metadata": {},
   "outputs": [],
   "source": []
  }
 ],
 "metadata": {
  "kernelspec": {
   "display_name": "Python 3 (ipykernel)",
   "language": "python",
   "name": "python3"
  },
  "language_info": {
   "codemirror_mode": {
    "name": "ipython",
    "version": 3
   },
   "file_extension": ".py",
   "mimetype": "text/x-python",
   "name": "python",
   "nbconvert_exporter": "python",
   "pygments_lexer": "ipython3",
   "version": "3.12.4"
  }
 },
 "nbformat": 4,
 "nbformat_minor": 5
}
